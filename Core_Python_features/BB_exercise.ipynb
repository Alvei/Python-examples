{
 "cells": [
  {
   "cell_type": "markdown",
   "metadata": {},
   "source": [
    "# PyBites"
   ]
  },
  {
   "cell_type": "markdown",
   "metadata": {},
   "source": [
    "## Unpack operator *"
   ]
  },
  {
   "cell_type": "markdown",
   "metadata": {},
   "source": [
    "Here, the * operator tells`print()` to unpack the `list` first.\n",
    "\n",
    "In this case, the output is no longer the `list` itself, but rather the content of the `list`\n",
    "\n",
    "Notice is the unpacking operator * is used to call a function, instead of in a function definition. In this case, `print()` takes all the items of a list as though they were single arguments."
   ]
  },
  {
   "cell_type": "code",
   "execution_count": 135,
   "metadata": {},
   "outputs": [
    {
     "name": "stdout",
     "output_type": "stream",
     "text": [
      "[1, 2, 3]\n",
      "1 2 3\n"
     ]
    }
   ],
   "source": [
    "my_list = [1, 2, 3]\n",
    "print(my_list)\n",
    "print(*my_list)"
   ]
  },
  {
   "cell_type": "markdown",
   "metadata": {},
   "source": [
    "## Exercise 1: Sum n numbers\n",
    "Write a function that can sum up numbers:\n",
    "\n",
    "- It should receive a list of n numbers.\n",
    "\n",
    "- If no argument is provided, return sum of numbers 1..100.\n",
    "\n",
    "- Look closely to the type of the function's default argument ...\n",
    "\n",
    "[RealPython article](https://realpython.com/python-kwargs-and-args/)\n"
   ]
  },
  {
   "cell_type": "code",
   "execution_count": 1,
   "metadata": {},
   "outputs": [],
   "source": [
    "lst = [1, 3, 5, 7, 9]"
   ]
  },
  {
   "cell_type": "markdown",
   "metadata": {},
   "source": [
    "Solving the exercise"
   ]
  },
  {
   "cell_type": "code",
   "execution_count": 154,
   "metadata": {},
   "outputs": [],
   "source": [
    "def sum_n_numbers(*args):\n",
    "    \"\"\" Simple summation function with flexible arguments. \"\"\"\n",
    "    print(f\"Args: {args}, type: {type(args)} no of arguments: {len(args)}\")\n",
    "    if len(args) == 0:\n",
    "        return sum(range(1,1000))        \n",
    "    elif len(args) == 1:\n",
    "        #print(type(args), args)\n",
    "        return sum(args[0])\n",
    "    else:\n",
    "        return -1"
   ]
  },
  {
   "cell_type": "code",
   "execution_count": 155,
   "metadata": {},
   "outputs": [
    {
     "name": "stdout",
     "output_type": "stream",
     "text": [
      "Args: ([1, 3, 5, 7, 9],), type: <class 'tuple'> no of arguments: 1\n",
      "25\n",
      "Args: (), type: <class 'tuple'> no of arguments: 0\n",
      "499500\n"
     ]
    }
   ],
   "source": [
    "print(sum_n_numbers(lst))\n",
    "print(sum_n_numbers())"
   ]
  },
  {
   "cell_type": "code",
   "execution_count": 156,
   "metadata": {},
   "outputs": [
    {
     "name": "stdout",
     "output_type": "stream",
     "text": [
      "Args: ([1, 3, 5, 7, 9], 2), type: <class 'tuple'> no of arguments: 2\n",
      "-1\n"
     ]
    }
   ],
   "source": [
    "print(sum_n_numbers(lst, 2))"
   ]
  },
  {
   "cell_type": "markdown",
   "metadata": {},
   "source": [
    "If you run this example, all three lists are unpacked. Each individual item is passed to `my_sum()`, resulting in the following output"
   ]
  },
  {
   "cell_type": "code",
   "execution_count": 148,
   "metadata": {},
   "outputs": [
    {
     "name": "stdout",
     "output_type": "stream",
     "text": [
      "Args: (1, 2, 3, 4, 5, 6, 7, 8, 9), type: <class 'tuple'> no of arguments: 9\n",
      "45\n"
     ]
    }
   ],
   "source": [
    "def my_sum(*args):\n",
    "    \"\"\" Expect the input parameter to be unpacked. \"\"\"\n",
    "    print(f\"Args: {args}, type: {type(args)} no of arguments: {len(args)}\")\n",
    "    if len(args) == 0:\n",
    "        return sum(range(1,1000))   \n",
    "    else:\n",
    "        #result = 0\n",
    "        #for x in args:\n",
    "        #    result += x\n",
    "        #return result\n",
    "        return sum(args)\n",
    "\n",
    "list1 = [1, 2, 3]\n",
    "list2 = [4, 5]\n",
    "list3 = [6, 7, 8, 9]\n",
    "\n",
    "print(my_sum(*list1, *list2, *list3))"
   ]
  },
  {
   "cell_type": "code",
   "execution_count": 149,
   "metadata": {},
   "outputs": [
    {
     "name": "stdout",
     "output_type": "stream",
     "text": [
      "Args: (1, 3, 5, 7, 9), type: <class 'tuple'> no of arguments: 5\n",
      "25\n",
      "Args: (), type: <class 'tuple'> no of arguments: 0\n",
      "499500\n",
      "Args: (1, 3, 5, 7, 9, 2), type: <class 'tuple'> no of arguments: 6\n",
      "27\n"
     ]
    }
   ],
   "source": [
    "print(my_sum(*lst))\n",
    "print(my_sum())\n",
    "print(my_sum(*lst, 2))"
   ]
  },
  {
   "cell_type": "code",
   "execution_count": 150,
   "metadata": {},
   "outputs": [],
   "source": [
    "def my_sum(a, b, c):\n",
    "    \"\"\"my_sum() explicitly states that a, b, and c are required arguments. \"\"\"\n",
    "    print(a + b + c)"
   ]
  },
  {
   "cell_type": "code",
   "execution_count": 151,
   "metadata": {},
   "outputs": [
    {
     "name": "stdout",
     "output_type": "stream",
     "text": [
      "6\n"
     ]
    }
   ],
   "source": [
    "my_list = [1, 2, 3]\n",
    "my_sum(*my_list) # Works because we have the right number of elements"
   ]
  },
  {
   "cell_type": "code",
   "execution_count": 153,
   "metadata": {},
   "outputs": [
    {
     "ename": "TypeError",
     "evalue": "my_sum() takes 3 positional arguments but 4 were given",
     "output_type": "error",
     "traceback": [
      "\u001b[1;31m---------------------------------------------------------------------------\u001b[0m",
      "\u001b[1;31mTypeError\u001b[0m                                 Traceback (most recent call last)",
      "\u001b[1;32m<ipython-input-153-e7c3fed0c1bb>\u001b[0m in \u001b[0;36m<module>\u001b[1;34m\u001b[0m\n\u001b[0;32m      1\u001b[0m \u001b[0mmy_list\u001b[0m \u001b[1;33m=\u001b[0m \u001b[1;33m[\u001b[0m\u001b[1;36m1\u001b[0m\u001b[1;33m,\u001b[0m \u001b[1;36m2\u001b[0m\u001b[1;33m,\u001b[0m \u001b[1;36m3\u001b[0m\u001b[1;33m,\u001b[0m \u001b[1;36m4\u001b[0m\u001b[1;33m]\u001b[0m\u001b[1;33m\u001b[0m\u001b[1;33m\u001b[0m\u001b[0m\n\u001b[1;32m----> 2\u001b[1;33m \u001b[0mmy_sum\u001b[0m\u001b[1;33m(\u001b[0m\u001b[1;33m*\u001b[0m\u001b[0mmy_list\u001b[0m\u001b[1;33m)\u001b[0m \u001b[1;31m# Does not work because we do not have the right number of elements\u001b[0m\u001b[1;33m\u001b[0m\u001b[1;33m\u001b[0m\u001b[0m\n\u001b[0m",
      "\u001b[1;31mTypeError\u001b[0m: my_sum() takes 3 positional arguments but 4 were given"
     ]
    }
   ],
   "source": [
    "my_list = [1, 2, 3, 4]\n",
    "my_sum(*my_list) # Does not work because we do not have the right number of elements"
   ]
  },
  {
   "cell_type": "code",
   "execution_count": null,
   "metadata": {},
   "outputs": [],
   "source": []
  }
 ],
 "metadata": {
  "kernelspec": {
   "display_name": "Python 3",
   "language": "python",
   "name": "python3"
  },
  "language_info": {
   "codemirror_mode": {
    "name": "ipython",
    "version": 3
   },
   "file_extension": ".py",
   "mimetype": "text/x-python",
   "name": "python",
   "nbconvert_exporter": "python",
   "pygments_lexer": "ipython3",
   "version": "3.8.3"
  }
 },
 "nbformat": 4,
 "nbformat_minor": 4
}
