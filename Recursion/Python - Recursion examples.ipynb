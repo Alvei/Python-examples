{
 "cells": [
  {
   "cell_type": "markdown",
   "metadata": {},
   "source": [
    "# Recursion\n"
   ]
  },
  {
   "cell_type": "markdown",
   "metadata": {},
   "source": [
    "A recursive solution is one where the solution to a problem is expressed as an operation on a simplified version of the same problem. Therefore, a recursive algorithm is an algorithm which calls itself with \"smaller (or simpler)\" input values. \n",
    "\n",
    "The process in which a function calls itself directly or indirectly is called recursion and the corresponding function is called as recursive function. Using recursive algorithm, certain problems can be solved quite easily. Examples of such problems are Towers of Hanoi (TOH), Inorder/Preorder/Postorder Tree Traversals, DFS of Graph, etc.\n",
    "\n",
    "A typical recursive function has two parts:\n",
    "1. **A base case**: This is the value that the function returns for the \"simplest\" input. A recursive function has to terminate to be used in a program. A recursive function terminates, if with every recursive call the solution of the problem is downsized and moves towards a base case. A base case is a case, where the problem can be solved without further recursion. A recursion can lead to an infinite loop, if the base case is not met in the calls.\n",
    "2. **A recursive step**: The solution to a smaller version of the problem, computed by calling the function with smaller or simpler input. This solution to the smaller problem is then used in some way to solve the orginal problem.\n",
    "\n",
    "The idea is to represent a problem in terms of one or more smaller problems, and add one or more base conditions that stop recursion. For example, we compute factorial n if we know factorial of (n-1). "
   ]
  },
  {
   "cell_type": "code",
   "execution_count": 1,
   "metadata": {},
   "outputs": [],
   "source": [
    "def factorial_traditional(n):\n",
    "    result = 1\n",
    "    \n",
    "    while n > 1:\n",
    "        result = result * n\n",
    "        n -= 1\n",
    "    return result\n"
   ]
  },
  {
   "cell_type": "code",
   "execution_count": 4,
   "metadata": {},
   "outputs": [
    {
     "name": "stdout",
     "output_type": "stream",
     "text": [
      "Factorial of -9 is 1\n"
     ]
    }
   ],
   "source": [
    "n = 9\n",
    "print(\"Factorial of\", n, \"is\", factorial_traditional(n))"
   ]
  },
  {
   "cell_type": "markdown",
   "metadata": {},
   "source": [
    "Now doing factorial using recursion. Base case for factorial would be n = 0. We return 1 when n = 0."
   ]
  },
  {
   "cell_type": "code",
   "execution_count": 23,
   "metadata": {},
   "outputs": [],
   "source": [
    "def factorial(n):\n",
    "    \"\"\" Returns the factorial of n. \n",
    "        Has some basic error checking and assumes n is an int >= 0.\n",
    "        signature int -> int\n",
    "    \"\"\"  \n",
    "    assert n >= 0 and type(n) == int\n",
    "    \n",
    "    if n == 1:\n",
    "        return 1   # Base case\n",
    "    else:\n",
    "        result = n * factorial(n - 1)\n",
    "        return result"
   ]
  },
  {
   "cell_type": "code",
   "execution_count": 5,
   "metadata": {},
   "outputs": [],
   "source": [
    "def factorial_clean(n):\n",
    "    \"\"\" Returns the factorial of n. \n",
    "        Has some basic error checking and assumes n is an int >= 0.\n",
    "        signature int -> int\n",
    "    \"\"\"  \n",
    "    assert n >= 0 and type(n) == int\n",
    "    return (1 if n == 0 else n*factorial_clean(n-1))"
   ]
  },
  {
   "cell_type": "code",
   "execution_count": 6,
   "metadata": {},
   "outputs": [
    {
     "name": "stdout",
     "output_type": "stream",
     "text": [
      "Factorial of 1 is: 1\n",
      "Factorial of 2 is: 2\n",
      "Factorial of 3 is: 6\n",
      "Factorial of 4 is: 24\n",
      "Factorial of 5 is: 120\n",
      "Factorial of 6 is: 720\n",
      "Factorial of 7 is: 5040\n",
      "Factorial of 8 is: 40320\n",
      "Factorial of 9 is: 362880\n"
     ]
    }
   ],
   "source": [
    "# Test harness\n",
    "def test_harness():\n",
    "    for i in range(1,10):\n",
    "        print(\"Factorial of\", i, \"is:\", factorial_clean(i))\n",
    "test_harness()"
   ]
  },
  {
   "cell_type": "markdown",
   "metadata": {},
   "source": [
    "## Proof Rules for Recursive Functions\n",
    "\n",
    "https://www.ics.uci.edu/~pattis/ICS-33/lectures/recursion.txt\n",
    "\n",
    "Now, we will learn how to VERIFY that recursive functions are correct by three\n",
    "proof rules. Even more important than proving that existing functions are\n",
    "correct (to better understand them), we will use these same three proof rules\n",
    "to guide us when we SYNTHESIZE new recursive functions.\n",
    "\n",
    "The three proof rules should be simple to apply in most cases. These rules\n",
    "mirror rules for proofs by induction in mathematics. Recursion (thinking about\n",
    "smaller and smaller problems) and induction (thinking about bigger and bigger\n",
    "problems) are two sides of the same coin.\n",
    "\n",
    "(1) Prove that the base case (smallest) problem is processed correctly: the \n",
    "    function RECOGNIZES the base case and then RETURNS THE CORRECT RESULT.\n",
    "\n",
    "    Should be easy, because base cases are small and each to recognize; once a\n",
    "    base case is known, its solution (for that one value) is known.\n",
    "\n",
    "(2) Prove that each recursive call is on a STRICTLY SMALLER-SIZED PROBLEM: the\n",
    "    problem gets closer to the base case.\n",
    "\n",
    "    Should be easy because we can locate each recursive call by inspecting the\n",
    "    function's body. Also, there are \"standard\" ways to recur: ints decrease by\n",
    "    1 or a factor of 10 (i.e., x//10 -using Floor/Truncating division- has one\n",
    "    fewer digit that x); Strings, tuples, and lists recur on slices (e.g., x[1:]\n",
    "    fewer characters or fewer values).\n",
    "\n",
    "(3) ASSUMING ALL RECURSIVE CALLS SOLVE THEIR SMALLER SUBPROBLEMS CORRECTLY,\n",
    "    prove that the code combines these solved subproblems correctly, to solve\n",
    "    the original Problem (the original parameter of the original function call).\n",
    "\n",
    "    Should be easy, because we get to assume something very important and\n",
    "    powerful: all subproblems are solved correctly.\n",
    "\n",
    "Here is a proof, using these 3 rules, that the factorial function is correct:\n",
    "\n",
    "1) The base case is 0; and according to the recursive mathematical definition,\n",
    "0! = 1. This function recognizes an argument/parameter of 0 and returns the\n",
    "correct value 1 as the result.\n",
    "\n",
    "2) If n is a non-negative number that is not 0 (not the base case), then this\n",
    "function makes one recursive call: n-1 is a smaller-sized problem, closer to 0\n",
    "(the base case) than n is. It is closer by 1: the distance between n-1 and 0 is\n",
    "1 less than the distance between n and 0.\n",
    "\n",
    "3) ASSUMING factorial(n-1) COMPUTES (n-1)! CORRECTLY, this function returns\n",
    "n*factorial(n-1), which is n*(n-1)! by our assumption, which according to the\n",
    "mathematical definition is the correct answer for n!, the parameter to the\n",
    "function call."
   ]
  },
  {
   "cell_type": "markdown",
   "metadata": {},
   "source": [
    "## Fibonacci solved using recursion\n",
    "Fibonacci is a mathematecian that introduced the sequence as an exercise dealing with bunnies. His sequence of the Fibonacci numbers begins with F1 = 1, while in modern mathematics the sequence starts with F0 = 0. But this has no effect on the other members of the sequence. The Fibonacci numbers are the result of an artificial rabbit population, satisfying the following conditions: \n",
    "- a newly born pair of rabbits, one male, one female, build the initial population\n",
    "these rabbits are able to mate at the age of one month so that at the end of its second month a female can bring forth another pair of rabbits\n",
    "- these rabbits are immortal\n",
    "- a mating pair always produces one new pair (one male, one female) every month from the second month onwards\n",
    "\n",
    "The Fibonacci numbers are the numbers of rabbit pairs after n months, i.e. after 5 months we will have F5 rabbits. The Fibonacci numbers are easy to write as a Python function. It's more or less a one to one mapping from the mathematical definition"
   ]
  },
  {
   "cell_type": "code",
   "execution_count": 25,
   "metadata": {},
   "outputs": [],
   "source": [
    "def fib(n):\n",
    "    \"\"\" Returns the Fibonacci of n. \n",
    "        Has some basic error checking and assumes n is an int >= 0.\n",
    "        signature int -> int\n",
    "    \"\"\"\n",
    "    \n",
    "    assert n >= 0 and type(n) == int\n",
    "    \n",
    "    if n == 0 or n == 1:\n",
    "        return 1    # Base case\n",
    "    else:\n",
    "        return fib(n-1) + fib(n-2)"
   ]
  },
  {
   "cell_type": "code",
   "execution_count": 13,
   "metadata": {},
   "outputs": [
    {
     "name": "stdout",
     "output_type": "stream",
     "text": [
      "Fib of 1 is: 1\n",
      "Fib of 2 is: 2\n",
      "Fib of 3 is: 3\n",
      "Fib of 4 is: 5\n",
      "Fib of 5 is: 8\n",
      "Fib of 6 is: 13\n",
      "Fib of 7 is: 21\n",
      "Fib of 8 is: 34\n",
      "Fib of 9 is: 55\n"
     ]
    }
   ],
   "source": [
    "# Test harness\n",
    "def test_harness():\n",
    "    for i in range(1,10):\n",
    "        print(\"Fib of\", i, \"is:\", fib(i))\n",
    "test_harness()"
   ]
  },
  {
   "cell_type": "markdown",
   "metadata": {},
   "source": [
    "## What are the disadvantages of recursive programming over iterative programming?\n",
    "Both recursive and iterative programs have same problem solving powers. Furthermore, every recursive program can be written iteratively and vice versa is also true. However, recursive programs have greater space requirements than iterative program as all functions will remain in stack until base case is reached. They also have greater time requirements because of function calls and return overhead.\n",
    "\n",
    "Your can run-into problem of growing stack. To avoid this, Python stops calling recursive function after 1000 calls by default. To change this behavior you need to amend the code as follows. \n",
    "\n",
    ">import sys\n",
    "\n",
    ">sys.setrecursionlimit(3000)\n",
    "\n",
    "## What are the advantages of recursive programming over iterative programming?\n",
    "Often, recursion provides a clean and simple way to write code. Some problems are inherently recursive like tree traversals, Tower of Hanoi, etc. For such problems it is preferred to write recursive code. We can write such codes also iteratively with the help of stack data structure. For example refer Inorder Tree Traversal without Recursion, Iterative Tower of Hanoi."
   ]
  },
  {
   "cell_type": "markdown",
   "metadata": {},
   "source": [
    "## Power\n",
    "\n",
    "\n",
    "We can likewise translate this definition into a simple recursive Python\n",
    "function. \n",
    "\n",
    "power(a,3) = a*power(a,2) = a*a*power(a,1) = a*a*a*power(a,0) = a*a*a*1\n"
   ]
  },
  {
   "cell_type": "code",
   "execution_count": 7,
   "metadata": {},
   "outputs": [],
   "source": [
    "def power(a,n):\n",
    "    \"\"\" Power function using using recursion)\n",
    "        signature: (int, int) -> int\n",
    "    \"\"\"\n",
    "    if n == 0:\n",
    "        return 1\n",
    "    else:\n",
    "        return a*power(a,n-1)"
   ]
  },
  {
   "cell_type": "code",
   "execution_count": 8,
   "metadata": {},
   "outputs": [
    {
     "data": {
      "text/plain": [
       "8"
      ]
     },
     "execution_count": 8,
     "metadata": {},
     "output_type": "execute_result"
    }
   ],
   "source": [
    "power(2,3)"
   ]
  },
  {
   "cell_type": "markdown",
   "metadata": {},
   "source": [
    "there is a another way to compute power(a,n) recursively, shown below. This\n",
    "longer function requires between Log2 n and 2*Log2 n multiplications. Here Log2\n",
    "means the log function using a base of 2. Note Log2 1000 is about 10 (2^10 =\n",
    "1,024), and Log2 1,000,000 is about 20, and Log2 1,000,000,000 is about 30): so,\n",
    "to compute power(a,1000) requires between 10 and 20 multiplications (not the\n",
    "1,000 multiplcations required by the earlier definitions of power).\n",
    "\n",
    "The key fact we use to reduce the number of multiplications in this function is\n",
    "that if we need to compute a^100, and we have computed temp = a^50, all we\n",
    "need to compute a^100 is one more multiplication: temp*temp, because (a^50)^2\n",
    "= a^100."
   ]
  },
  {
   "cell_type": "code",
   "execution_count": 9,
   "metadata": {},
   "outputs": [],
   "source": [
    "def power2(a,n):\n",
    "    \"\"\" Power function using using recursion)\n",
    "        signature: (int, int) -> int\n",
    "    \"\"\"\n",
    "    if n == 0:\n",
    "        return 1\n",
    "    else:\n",
    "       if n%2 == 1:               # n is odd  (if n remainder 2 == 1)\n",
    "           return a*power2(a,n-1)  \n",
    "       else:                      # n is even (if n remainder 2 == 0)\n",
    "           temp = power2(a,n//2)   #   n is divided by 2 perfectly: no remainder\n",
    "           return temp*temp"
   ]
  },
  {
   "cell_type": "code",
   "execution_count": 10,
   "metadata": {},
   "outputs": [
    {
     "data": {
      "text/plain": [
       "8"
      ]
     },
     "execution_count": 10,
     "metadata": {},
     "output_type": "execute_result"
    }
   ],
   "source": [
    "power2(2,3)"
   ]
  },
  {
   "cell_type": "markdown",
   "metadata": {},
   "source": [
    "Here we bind temp ONCE (we never rebind it) and then use its value, which is\n",
    "fine for functional programming. We could get rid of the local name temp\n",
    "completely by defining the local function def square(n): n*n inside power and\n",
    "then calling it in the else clause: return square( power(a,n//2) )."
   ]
  },
  {
   "cell_type": "code",
   "execution_count": 12,
   "metadata": {},
   "outputs": [],
   "source": [
    "def power3(a,n):\n",
    "    def square(n):\n",
    "        return n*n\n",
    "\n",
    "    if n == 0:\n",
    "        return 1\n",
    "    else:\n",
    "       if n%2 == 1:\n",
    "           return a*power3(a,n-1)\n",
    "       else:\n",
    "           return square( power3(a,n//2) )"
   ]
  },
  {
   "cell_type": "code",
   "execution_count": 13,
   "metadata": {},
   "outputs": [
    {
     "data": {
      "text/plain": [
       "8"
      ]
     },
     "execution_count": 13,
     "metadata": {},
     "output_type": "execute_result"
    }
   ],
   "source": [
    "power3(2,3)"
   ]
  },
  {
   "cell_type": "markdown",
   "metadata": {},
   "source": [
    "## Flattening list with recursion\n",
    "A more practical example would be creating a function to flatten a nested list. When you run this code, you should end up with a list of just integers instead of a list of integers and one list. "
   ]
  },
  {
   "cell_type": "code",
   "execution_count": 29,
   "metadata": {},
   "outputs": [],
   "source": [
    "def flatten(a_list, flat_list = None):\n",
    "    \"\"\" Create a singular list if embedded list is found.\n",
    "        signature: (list, list) -> list \n",
    "    \"\"\"\n",
    "    \n",
    "    # If we are starting, initialize the new list\n",
    "    if flat_list is None:\n",
    "        flat_list = []   \n",
    "    \n",
    "    # Loop through all the elements of the original list\n",
    "    for item in a_list:\n",
    "        # The isinstance(object, classinfo) function checks if the object (first argument) is an instance \n",
    "        # or subclass of classinfo class (second argument).\n",
    "        # Here we are checking if item is a list. If it is, we call flatten recursively\n",
    "        if isinstance(item, list):\n",
    "            flatten(item, flat_list)\n",
    "        else:\n",
    "            flat_list.append(item)\n",
    "            \n",
    "    return flat_list            "
   ]
  },
  {
   "cell_type": "code",
   "execution_count": 30,
   "metadata": {},
   "outputs": [
    {
     "name": "stdout",
     "output_type": "stream",
     "text": [
      "[1, 2, 3, 4, 5, 6]\n"
     ]
    }
   ],
   "source": [
    "# Test harness\n",
    "def test_harness():\n",
    "    nested = [1, 2, 3, [4, 5], 6]\n",
    "    x = flatten(nested)\n",
    "    print(x)\n",
    "test_harness()"
   ]
  },
  {
   "cell_type": "markdown",
   "metadata": {},
   "source": [
    "## Nested parentheses\n",
    "Determine if a string has balanced pairs of parentheses"
   ]
  },
  {
   "cell_type": "code",
   "execution_count": 1,
   "metadata": {},
   "outputs": [],
   "source": [
    "def nest_paren(word):\n",
    "    \"\"\" Determine if a string as matched parentheses adn return True if it does.\n",
    "        signature: string -> Boolean \n",
    "    \"\"\"\n",
    "    \n",
    "    right = word.rfind(\")\")\n",
    "    left = word.find(\"(\")\n",
    "    print(right, left)\n",
    "    \n",
    "    # if no parenthesis were found we have the base case\n",
    "    if right == -1 and left == -1:\n",
    "        return True\n",
    "    \n",
    "    # if the )( is found\n",
    "    elif right < left:\n",
    "        return False\n",
    "    \n",
    "    # if we have a mis-match parenthesis\n",
    "    elif right == -1 and left !=-1:\n",
    "        return False\n",
    "    elif left == -1 and right != -1:\n",
    "        return False\n",
    "    \n",
    "    # We have found () and remove everything from the outside to the parentheisi\n",
    "    else:\n",
    "        new_word = word[left+1:right]\n",
    "        print(new_word)\n",
    "        return nest_paren(new_word)"
   ]
  },
  {
   "cell_type": "code",
   "execution_count": 2,
   "metadata": {},
   "outputs": [
    {
     "name": "stdout",
     "output_type": "stream",
     "text": [
      "6 0\n",
      "(aa)c\n",
      "3 0\n",
      "aa\n",
      "-1 -1\n"
     ]
    },
    {
     "data": {
      "text/plain": [
       "True"
      ]
     },
     "execution_count": 2,
     "metadata": {},
     "output_type": "execute_result"
    }
   ],
   "source": [
    "nest_paren(\"((aa)c)\")"
   ]
  },
  {
   "cell_type": "markdown",
   "metadata": {},
   "source": [
    "## Reversing"
   ]
  },
  {
   "cell_type": "code",
   "execution_count": 20,
   "metadata": {},
   "outputs": [],
   "source": [
    "def reverse(s):\n",
    "    \"\"\" Reverse a string\n",
    "        signature: string -> string \n",
    "    \"\"\"\n",
    "    if s == '':       # or len(s) == 0 is the base case\n",
    "        return ''\n",
    "    else:\n",
    "        return (reverse( s[1:]) + s[0])  # put the 1st character at the end and use concatenation"
   ]
  },
  {
   "cell_type": "code",
   "execution_count": 21,
   "metadata": {},
   "outputs": [
    {
     "data": {
      "text/plain": [
       "'ruojnob'"
      ]
     },
     "execution_count": 21,
     "metadata": {},
     "output_type": "execute_result"
    }
   ],
   "source": [
    "reverse(\"bonjour\")"
   ]
  },
  {
   "cell_type": "markdown",
   "metadata": {},
   "source": [
    "Reversing a list. Same pattern except note the [] around l[0] to make sure we are adding lists together."
   ]
  },
  {
   "cell_type": "code",
   "execution_count": 30,
   "metadata": {},
   "outputs": [],
   "source": [
    "def reverse_list(l):\n",
    "    \"\"\" Reverse a string\n",
    "        signature: (list) -> list \n",
    "    \"\"\"\n",
    "    if l == []:         # or len(l) == 0 is the base\n",
    "        return [];\n",
    "    else:\n",
    "        return reverse_list(l[1:]) + [l[0]]  # [l[0]] for right operand of + (a list)"
   ]
  },
  {
   "cell_type": "code",
   "execution_count": 31,
   "metadata": {},
   "outputs": [
    {
     "data": {
      "text/plain": [
       "['a', 2, 1]"
      ]
     },
     "execution_count": 31,
     "metadata": {},
     "output_type": "execute_result"
    }
   ],
   "source": [
    "reverse_list([1,2,'a'])"
   ]
  },
  {
   "cell_type": "markdown",
   "metadata": {},
   "source": [
    "## Palindrom"
   ]
  },
  {
   "cell_type": "code",
   "execution_count": 24,
   "metadata": {},
   "outputs": [],
   "source": [
    "def palindrom(word):\n",
    "    \"\"\" Determine if a string is a palindrom and return True if it is.\n",
    "        signature: (string) -> Boolean \n",
    "    \"\"\"\n",
    "    if (word == ''):\n",
    "        return True  # base case\n",
    "    elif word[0] != word[-1]:\n",
    "        return False\n",
    "    else:\n",
    "        # Pass the shorter list to the next functional call (recursion)\n",
    "        return palindrom(word[1:-1])"
   ]
  },
  {
   "cell_type": "code",
   "execution_count": 27,
   "metadata": {},
   "outputs": [
    {
     "data": {
      "text/plain": [
       "True"
      ]
     },
     "execution_count": 27,
     "metadata": {},
     "output_type": "execute_result"
    }
   ],
   "source": [
    "palindrom('laeveal')"
   ]
  },
  {
   "cell_type": "markdown",
   "metadata": {},
   "source": [
    "## Convert integers to astring"
   ]
  },
  {
   "cell_type": "code",
   "execution_count": 34,
   "metadata": {},
   "outputs": [],
   "source": [
    "def to_str(n):\n",
    "    \"\"\" Convert an integer to a string\n",
    "        signature: (int) -> string \n",
    "    \"\"\"\n",
    "    # smallest non-negative integers (0-9) contain 1 digit, so that is the smallest size problem\n",
    "    if 0 <= n <= 9:             # 1 digit (no 0 digit numbers)\n",
    "        return '0123456789'[n]  # return the rigth digit by indexing across the string\n",
    "    \n",
    "    # n//10 is all but the last digit in n, and n%10 is the last digit. \n",
    "    # If n has at least d digits (where d>=2), then both n//10 and n%10 will have fewer digits: \n",
    "    # n//10 has d-1 digits and n%10 has 1 digit. \n",
    "\n",
    "    else:\n",
    "        return to_str(n//10) + to_str(n%10)  # shorter version of the probem that also uses string concatenation"
   ]
  },
  {
   "cell_type": "code",
   "execution_count": 36,
   "metadata": {},
   "outputs": [
    {
     "data": {
      "text/plain": [
       "'1253'"
      ]
     },
     "execution_count": 36,
     "metadata": {},
     "output_type": "execute_result"
    }
   ],
   "source": [
    "to_str(1253)"
   ]
  },
  {
   "cell_type": "code",
   "execution_count": 37,
   "metadata": {},
   "outputs": [],
   "source": [
    "def to_str(n):\n",
    "    \"\"\" Convert an integer to a string but also works for negative numbers. \n",
    "        signature: (int) -> string \n",
    "    \"\"\"\n",
    "    def to_str1(n):        # n >= 0 (see call with abs)\n",
    "        if 0 <= n <= 9:\t\t\t\t#   1 digit (no 0 digit numbers)\n",
    "            return '0123456789'[n]\t\t#     0<=n<=9, so no index error\n",
    "        else:\n",
    "            return to_str1(n//10) + to_str1(n%10)\n",
    "\n",
    "    return ('' if n >= 0 else '-') + to_str1(abs(n))\n",
    "    # or\n",
    "    #return (to_str1(n) if n >= 0 else '-'+to_str1(-n))"
   ]
  },
  {
   "cell_type": "code",
   "execution_count": 39,
   "metadata": {},
   "outputs": [
    {
     "data": {
      "text/plain": [
       "'-1253'"
      ]
     },
     "execution_count": 39,
     "metadata": {},
     "output_type": "execute_result"
    }
   ],
   "source": [
    "to_str(-1253)"
   ]
  },
  {
   "cell_type": "markdown",
   "metadata": {},
   "source": [
    "## Check if strings are of the same length"
   ]
  },
  {
   "cell_type": "code",
   "execution_count": 41,
   "metadata": {},
   "outputs": [],
   "source": [
    "def same_length(s1,s2):  \n",
    "    \"\"\" Check to see if two strings are of the same length w/o using len() \n",
    "        signature: (string, string) -> boolean \n",
    "    \"\"\"\n",
    "    if s1 == '' or s2 == '':\n",
    "        return s1 == '' and s2 == ''\n",
    "    else:\n",
    "        return same_length(s1[1:],s2[1:])"
   ]
  },
  {
   "cell_type": "code",
   "execution_count": 43,
   "metadata": {},
   "outputs": [
    {
     "data": {
      "text/plain": [
       "False"
      ]
     },
     "execution_count": 43,
     "metadata": {},
     "output_type": "execute_result"
    }
   ],
   "source": [
    "same_length('allo', 'bojkn')"
   ]
  },
  {
   "cell_type": "markdown",
   "metadata": {},
   "source": [
    "## Recursive list processing\n",
    "If there were not len function for lists, we could easily define it recursively:"
   ]
  },
  {
   "cell_type": "code",
   "execution_count": 51,
   "metadata": {},
   "outputs": [],
   "source": [
    "def my_len(my_list):\n",
    "    \"\"\" Determines the length of a list w/o using len() \n",
    "        signature: (list) -> int \n",
    "    \"\"\"\n",
    "    if my_list == []:    # Base case\n",
    "        return 0\n",
    "    else:\n",
    "        return 1 + my_len(my_list[1:])"
   ]
  },
  {
   "cell_type": "code",
   "execution_count": 52,
   "metadata": {},
   "outputs": [
    {
     "data": {
      "text/plain": [
       "3"
      ]
     },
     "execution_count": 52,
     "metadata": {},
     "output_type": "execute_result"
    }
   ],
   "source": [
    "my_len([1,2,'a'])"
   ]
  },
  {
   "cell_type": "code",
   "execution_count": 49,
   "metadata": {},
   "outputs": [],
   "source": [
    "def sumList(my_List):\n",
    "    \"\"\" Sum the numbers of integers or float using recursion)\n",
    "        signature: list of int/float -> int or float\n",
    "    \"\"\"\n",
    "    \n",
    "    assert type(my_List) == list\n",
    "    \n",
    "    if (my_List == []):\n",
    "        return 0  # base case\n",
    "    else:\n",
    "        # Pass the shorter list to the next functional call (recursion)\n",
    "        ans = my_List[0] + sumList(my_List[1:])\n",
    "        return ans"
   ]
  },
  {
   "cell_type": "code",
   "execution_count": 50,
   "metadata": {},
   "outputs": [
    {
     "name": "stdout",
     "output_type": "stream",
     "text": [
      "Total = 60.2\n"
     ]
    }
   ],
   "source": [
    "total = sumList([10, 20.2, 30])\n",
    "print('Total =', total)\n"
   ]
  },
  {
   "cell_type": "markdown",
   "metadata": {},
   "source": [
    "## Simple math \n",
    "Now we define three simple functions z(ero), p(redecessor), and s(uccessor).\n"
   ]
  },
  {
   "cell_type": "code",
   "execution_count": 54,
   "metadata": {},
   "outputs": [],
   "source": [
    "def z(n):            # z(n) returns whether or not n is 0\n",
    "    return n == 0\n",
    "\n",
    "def s(n):            # s(n) returns the successor to n: n+1\n",
    "    return n+1\n",
    "\n",
    "def p(n):            # p(n) returns the predecessor of n, if one exists!\n",
    "    if not z(n):     # 0 has no predecessor\n",
    "        return n-1\n",
    "    else:\n",
    "        raise ValueError('z: cannot compute predecessor of 0')"
   ]
  },
  {
   "cell_type": "code",
   "execution_count": 56,
   "metadata": {},
   "outputs": [],
   "source": [
    "def my_sum(a,b):                      \n",
    "    \"\"\" Add two integers using recursion. \n",
    "        signature: (int, int) -> int\n",
    "    \"\"\"\n",
    "    assert type(a) == int and type(b) == int\n",
    "    if z(a):                          # a == 0\n",
    "        return b                      # return b: 0 + b = b\n",
    "    else:                             # a != 0\n",
    "        return my_sum( p(a), s(b) )   # return (a-1)+(b+1) = a+b"
   ]
  },
  {
   "cell_type": "code",
   "execution_count": 57,
   "metadata": {},
   "outputs": [
    {
     "data": {
      "text/plain": [
       "8"
      ]
     },
     "execution_count": 57,
     "metadata": {},
     "output_type": "execute_result"
    }
   ],
   "source": [
    "my_sum(3,5)"
   ]
  },
  {
   "cell_type": "code",
   "execution_count": 65,
   "metadata": {},
   "outputs": [],
   "source": [
    "def my_mult(a,b):\n",
    "    \"\"\" Multiply two integers using recursion. my_sum() neds to be defined.\n",
    "        signature: (int, int) -> int\n",
    "    \"\"\"\n",
    "    assert type(a) == int and type(b) == int\n",
    "    \n",
    "    if z(a):                               # a = 0\n",
    "        return 0                           # return 0: 0*b = 0\n",
    "    else:      \t                           # a != 0\n",
    "        return my_sum(b, my_mult(p(a),b))  # return b+((a-1)*b) = b+a*b-b = a*b"
   ]
  },
  {
   "cell_type": "code",
   "execution_count": 68,
   "metadata": {},
   "outputs": [
    {
     "data": {
      "text/plain": [
       "24"
      ]
     },
     "execution_count": 68,
     "metadata": {},
     "output_type": "execute_result"
    }
   ],
   "source": [
    "my_mult(3,8)"
   ]
  },
  {
   "cell_type": "markdown",
   "metadata": {},
   "source": [
    "problems from https://www.ics.uci.edu/~pattis/ICS-33/lectures/recursion.txt:\n",
    "\n",
    "1. Define a recursive function named is_odd using the functions z, p, and s\n",
    "described in the lecture, which computes whether or not its argument is an odd\n",
    "value.\n",
    "\n",
    "2. Define a recursive function named remove, which takes string and a\n",
    "1-character string, and returns a string with the specified character removed:\n",
    "remove('afghanistanbananastand','a') returns 'fghnistnbnnstnd'.\n",
    "\n",
    "3. Define a recursive function named replace, which takes string and two\n",
    "1-character strings, and returns a string with the first specified character\n",
    "replaced byh the second: remove('potpourri','o','O') returns 'pOtpOurri'.\n",
    "\n",
    "4. Define a recursive function named contains, which takes a list and a value as\n",
    "arguments, and returns whether or not the value appears in the list.\n",
    "\n",
    "5. Define a recursive function named is_sorted, which takes a list as an\n",
    "argument, and returns whether or not the list of values is non-decreasing (each\n",
    "is >= to the value preceding it).\n",
    "\n",
    "6. Define the function equals(s1,s2), which computes whether two strings are ==\n",
    "without ever comparing more than 1-character strings.\n",
    "\n",
    "7. Write less_than(s1,s2) which computes whether s1 < s2 (where both are\n",
    "strings) without ever comparing more than 1-character strings. The result\n",
    "should be the same as using < (the standard Python comparision).\n",
    "\n",
    "8. Write a function named min_stamps that takes an amount as an argument and\n",
    "returns the minimum number of stamps that you need to make that amount. Assume\n",
    "inside the function you would define denominations as a list with all the stamp\n",
    "amounts: e.g., denominations = [1, 2, 5, 12, 16, 24]. With these denominations\n",
    "min_stamps(19) returns 3 (denominations 1, 2, 16 or 2, 5, 12)."
   ]
  },
  {
   "cell_type": "code",
   "execution_count": null,
   "metadata": {},
   "outputs": [],
   "source": []
  }
 ],
 "metadata": {
  "kernelspec": {
   "display_name": "Python 3",
   "language": "python",
   "name": "python3"
  },
  "language_info": {
   "codemirror_mode": {
    "name": "ipython",
    "version": 3
   },
   "file_extension": ".py",
   "mimetype": "text/x-python",
   "name": "python",
   "nbconvert_exporter": "python",
   "pygments_lexer": "ipython3",
   "version": "3.6.4"
  }
 },
 "nbformat": 4,
 "nbformat_minor": 2
}
