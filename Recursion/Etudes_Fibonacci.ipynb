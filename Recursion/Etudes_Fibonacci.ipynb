"""Etudes Fibonacci.py
   Compares the recursive implementation of Fib with the one using Hashing
   and dynamic programing

   Python 3.5"""

def fib(n):
    """Assumes n an int >= 0 to return the Fibonacci of n. """
    assert n >= 0 and type(n) == int

    # Base case
    if n == 0 or n == 1:
        return 1
    else:
        return fib(n-1) + fib(n-2)

def fastFib(n, memo = {}):
    """Assumes n an int >= 0.
       memo is a dictionary of previously computed Fib numbers.
       dictionary entry in memo => (key = n, value = fib(n))
       Initialize memo if empty.
       Returns Fibonacci of n. """
    assert n >= 0 and type(n) == int

    # Base case
    if n == 0 or n == 1:
        return 1
    try:        #Check to see if already computed and in dictionary
        return memo[n]
    except KeyError:
        result = fastFib(n-1, memo) + fastFib(n-2, memo)
        memo[n] = result
        return result

# Recursive Fibonacci with Global Variable
##############################################


def fib_global(x):
    """ Assumes x an int >= 0
        Returns Fibonacci of x"""
    global numFibCalls

    numFibCalls += 1

    if x == 0 or x == 1:  # base case
        return 1

    return fib_global(x - 1) + fib(x - 2)


def test_fib_global(num):
    for index in range(num + 1):
        global numFibCalls
        numFibCalls = 0

        print("fib of", index, "=", fib_global(index))
        print("fib called", numFibCalls, "times.")


# Test Harness
# The last call with n = 35 is instanteneous for fastFib but takes long for fib
def testFib(n):
    for i in range(n+1):
        print('fib of ', i, ' = ', str(fib(i)))

    for j in range(n+1):
        print('fastFib of ', j, ' = ', str(fastFib(j)))


testFib(12)
print('\n\n')
n = 35
print('fastFib of ', n, ' = ', str(fastFib(n)) )    # Should be super fast
print('fib of ', n, ' = ', str(fib(n)) )            # Should take some time
