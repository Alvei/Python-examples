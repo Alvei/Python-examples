"""Etudes Fibonacci.py
   Compares the recursive implementation of Fib with the one using Hashing
   and dynamic programing   
   
   @author: Hugo Sarrazin. Python 3.5"""

def fib(n):
    """Assumes n an int >= 0 to return the Fibonacci of n. """
    assert n >= 0 and type(n) == int
    
    # Base case
    if n == 0 or n == 1:
        return 1
    else:
        return fib(n-1) + fib(n-2)
        
def fastFib(n, memo = {}):
    """Assumes n an int >= 0.
       memo is a dictionary of previously computed Fib numbers.
       dictionary entry in memo => (key = n, value = fib(n))
       Initialize memo if empty.
       Returns Fibonacci of n. """
    assert n >= 0 and type(n) == int
    
    # Base case
    if n == 0 or n == 1:
        return 1
    try:        #Check to see if already computed and in dictionary
        return memo[n] 
    except KeyError:        
        result = fastFib(n-1, memo) + fastFib(n-2, memo)
        memo[n] = result
        return result

# Test Harness        
# The last call with n = 35 is instanteneous for fastFib but takes long for fib
def testFib(n):
    for i in range(n+1):
        print('fib of ', i, ' = ', str(fib(i)))
        
    for j in range(n+1):
        print('fastFib of ', j, ' = ', str(fastFib(j))) 
    

testFib(12)
print('\n\n')
n = 35
print('fastFib of ', n, ' = ', str(fastFib(n)) )    # Should be super fast
print('fib of ', n, ' = ', str(fib(n)) )            # Should take some time