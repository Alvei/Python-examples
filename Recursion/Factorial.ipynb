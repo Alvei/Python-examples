{
 "cells": [
  {
   "cell_type": "markdown",
   "metadata": {},
   "source": [
    "# Python - Exploration of Factorial\n",
    "Two different ways of implementing Factorial."
   ]
  },
  {
   "cell_type": "code",
   "execution_count": 2,
   "metadata": {},
   "outputs": [],
   "source": [
    "def factI(n):\n",
    "    \"\"\"\n",
    "    Calculates the factorial.\n",
    "    Signature (int) -> int\n",
    "    \n",
    "    Assumes that n is an int > 0    \"\"\"\n",
    "\n",
    "    assert n > 0\n",
    "        \n",
    "    result = 1\n",
    "    \n",
    "    while n > 1:\n",
    "        result = result * n\n",
    "        n -= 1\n",
    "    return result"
   ]
  },
  {
   "cell_type": "code",
   "execution_count": 4,
   "metadata": {},
   "outputs": [
    {
     "name": "stdout",
     "output_type": "stream",
     "text": [
      "Factorial of 4 = 24\n"
     ]
    }
   ],
   "source": [
    "num = 4\n",
    "print(\"Factorial of {0} = {1}\". format(num, factI(num)))"
   ]
  },
  {
   "cell_type": "code",
   "execution_count": 8,
   "metadata": {},
   "outputs": [],
   "source": [
    "def factR(n):\n",
    "    \"\"\"\n",
    "    Calculates the factorial using recursion.\n",
    "    Signature (int) -> int\n",
    "    \n",
    "    Assumes that n is an int > 0    \"\"\"\n",
    "    \n",
    "    assert n > 0\n",
    "    \n",
    "    # base case\n",
    "    if n == 1:\n",
    "        return n\n",
    "    else:\n",
    "        return n * factR(n-1)"
   ]
  },
  {
   "cell_type": "code",
   "execution_count": 9,
   "metadata": {},
   "outputs": [
    {
     "name": "stdout",
     "output_type": "stream",
     "text": [
      "Factorial of 4 = 24\n"
     ]
    }
   ],
   "source": [
    "num = 4\n",
    "print(\"Factorial of\" , num,'=', factR(num))"
   ]
  }
 ],
 "metadata": {
  "kernelspec": {
   "display_name": "Python 3",
   "language": "python",
   "name": "python3"
  },
  "language_info": {
   "codemirror_mode": {
    "name": "ipython",
    "version": 3
   },
   "file_extension": ".py",
   "mimetype": "text/x-python",
   "name": "python",
   "nbconvert_exporter": "python",
   "pygments_lexer": "ipython3",
   "version": "3.6.4"
  }
 },
 "nbformat": 4,
 "nbformat_minor": 2
}
