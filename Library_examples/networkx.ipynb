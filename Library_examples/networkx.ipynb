{
 "cells": [
  {
   "cell_type": "code",
   "execution_count": 2,
   "metadata": {},
   "outputs": [],
   "source": [
    "import matplotlib.pyplot as plt\n",
    "import networkx as nx\n",
    "import pandas as pd\n",
    "import seaborn as sns"
   ]
  },
  {
   "cell_type": "markdown",
   "metadata": {},
   "source": [
    "## Creating graph using dictionary"
   ]
  },
  {
   "cell_type": "code",
   "execution_count": 10,
   "metadata": {},
   "outputs": [
    {
     "name": "stdout",
     "output_type": "stream",
     "text": [
      "'A' it connects with 'B'\n",
      "'A' it connects with 'C'\n",
      "'A' it connects with 'D'\n",
      "'B' it connects with 'D'\n",
      "'B' it connects with 'E'\n",
      "'C' it connects with 'E'\n",
      "'C' it connects with 'F'\n",
      "'D' it connects with 'B'\n",
      "'D' it connects with 'G'\n",
      "'E' it connects with 'B'\n",
      "'E' it connects with 'C'\n",
      "'F' it connects with 'C'\n",
      "'F' it connects with 'G'\n",
      "'G' it connects with 'D'\n",
      "'G' it connects with 'F'\n"
     ]
    },
    {
     "data": {
      "image/png": "[encoded data removed]",
      "text/plain": [
       "<Figure size 432x288 with 1 Axes>"
      ]
     },
     "metadata": {},
     "output_type": "display_data"
    }
   ],
   "source": [
    "G = nx.Graph()\n",
    "\n",
    "# Key is the main node, then value are in list of nodes to which it connects. A connect with B and C\n",
    "graph = {\n",
    "    \"A\":[\"B\",\"C\", \"D\"],\n",
    "    \"B\":[\"D\",\"E\"],\n",
    "    \"C\":[\"E\",\"F\"],\n",
    "    \"D\":[\"B\",\"G\"],\n",
    "    \"E\":[\"B\",\"C\"],\n",
    "    \"F\":[\"C\",\"G\"],\n",
    "    \"G\":[\"D\",\"F\"]\n",
    "}\n",
    "\n",
    "x = 10   # Just a plug to create a weight\n",
    "\n",
    "for vertex, edges in graph.items():\n",
    "    G.add_node(str(vertex))               # G.add_node(\"%s\" % vertex)\n",
    "    x+=2   # Just a plug for weight\n",
    "    \n",
    "    for edge in edges:\n",
    "        # Get the nodes from the edge connections\n",
    "        G.add_node(str(edge))            # G.add_node(\"%s\" % edge)\n",
    "        \n",
    "        # Create edges with a weight\n",
    "        # print(vertex, edge, x)\n",
    "        G.add_edge(str(vertex), str(edge), weight = x)   #G.add_edge(\"%s\" % vertex, \"%s\" % edge, weight = x)\n",
    "        print(\"'%s' it connects with '%s'\" % (vertex, edge))\n",
    "\n",
    "# Create positions of all nodes and save them\n",
    "pos = nx.spring_layout(G)\n",
    "\n",
    "# Draw the graph according to node positions\n",
    "nx.draw(G, pos, with_labels=True)\n",
    "\n",
    "# Create edge labels\n",
    "labels = {e: str(e) for e in G.edges}\n",
    "\n",
    "# Draw edge labels according to node positions\n",
    "nx.draw_networkx_edge_labels(G, pos, edge_labels=labels)\n",
    "\n",
    "plt.show()"
   ]
  },
  {
   "cell_type": "code",
   "execution_count": 33,
   "metadata": {},
   "outputs": [
    {
     "data": {
      "text/plain": [
       "NodeView(('A', 'B', 'C', 'D', 'E', 'F', 'G'))"
      ]
     },
     "execution_count": 33,
     "metadata": {},
     "output_type": "execute_result"
    }
   ],
   "source": [
    "G.nodes()  # This is a view"
   ]
  },
  {
   "cell_type": "code",
   "execution_count": 32,
   "metadata": {},
   "outputs": [
    {
     "data": {
      "text/plain": [
       "['A', 'B', 'C', 'D', 'E']"
      ]
     },
     "execution_count": 32,
     "metadata": {},
     "output_type": "execute_result"
    }
   ],
   "source": [
    "list(G.nodes())[0:5] # Need to use list to access the elements"
   ]
  },
  {
   "cell_type": "code",
   "execution_count": 11,
   "metadata": {},
   "outputs": [
    {
     "data": {
      "text/plain": [
       "EdgeDataView([('A', 'B', {'weight': 12}), ('A', 'C', {'weight': 12}), ('A', 'D', {'weight': 12}), ('B', 'D', {'weight': 18}), ('B', 'E', {'weight': 20}), ('C', 'E', {'weight': 20}), ('C', 'F', {'weight': 22}), ('D', 'G', {'weight': 24}), ('F', 'G', {'weight': 24})])"
      ]
     },
     "execution_count": 11,
     "metadata": {},
     "output_type": "execute_result"
    }
   ],
   "source": [
    "G.edges(data=True)"
   ]
  },
  {
   "cell_type": "code",
   "execution_count": 35,
   "metadata": {},
   "outputs": [
    {
     "data": {
      "text/plain": [
       "['A', 'C', 'F']"
      ]
     },
     "execution_count": 35,
     "metadata": {},
     "output_type": "execute_result"
    }
   ],
   "source": [
    "nx.shortest_path(G, \"A\", \"F\")"
   ]
  },
  {
   "cell_type": "code",
   "execution_count": 30,
   "metadata": {},
   "outputs": [],
   "source": [
    "from collections import deque\n",
    "\n",
    "def BFS(G, s) -> dict:\n",
    "    \"\"\" Runs Bread First Search to find paths distance from source node ‘s’ to all nodes.\n",
    "        Returns the shortest path dictionary {Node:distance}. It starts with source node and distance zero.\"\"\"\n",
    "    paths = {}\n",
    "    Q = deque() \n",
    "    paths[s] = 0    # dictionary starts with the source node with zero distance \n",
    "    Q.append(s)     # adds the source to  queue to seed the search for paths to other nodes using its neighbors\n",
    "    \n",
    "    while len(Q) != 0:\n",
    "        node = Q.popleft()                    \n",
    "        for nbr in G.neighbors(node):         # iterate thru the neighbors of 'node'\n",
    "            if nbr not in paths:              # ‘nbr’ is unvisited\n",
    "                paths[nbr] = paths[node] + 1  # adding 1 to the latest node we calculated \n",
    "                Q.append(nbr)                 # add ‘nbr’ to the queue so that distance can be calculated in the future\n",
    "    return paths"
   ]
  },
  {
   "cell_type": "code",
   "execution_count": 31,
   "metadata": {},
   "outputs": [
    {
     "data": {
      "text/plain": [
       "{'B': 0, 'A': 1, 'D': 1, 'E': 1, 'C': 2, 'G': 2, 'F': 3}"
      ]
     },
     "execution_count": 31,
     "metadata": {},
     "output_type": "execute_result"
    }
   ],
   "source": [
    "BFS(G, \"B\")"
   ]
  },
  {
   "cell_type": "code",
   "execution_count": 17,
   "metadata": {},
   "outputs": [],
   "source": [
    "def path_exists(node1, node2, G) -> bool:\n",
    "    \"\"\"\n",
    "    This function checks whether a path exists between two nodes (node1,\n",
    "    node2) in graph G.\n",
    "    \"\"\"\n",
    "\n",
    "    visited_nodes = set()\n",
    "    queue = [node1]\n",
    "\n",
    "    while len(queue) > 0:\n",
    "        node = queue.pop()\n",
    "        neighbors = list(G.neighbors(node))\n",
    "        if node2 in neighbors:\n",
    "            return True\n",
    "        else:\n",
    "            visited_nodes.add(node)\n",
    "            nbrs = [n for n in neighbors if n not in visited_nodes]\n",
    "            queue = nbrs + queue\n",
    "\n",
    "    return False"
   ]
  },
  {
   "cell_type": "code",
   "execution_count": 18,
   "metadata": {},
   "outputs": [
    {
     "data": {
      "text/plain": [
       "True"
      ]
     },
     "execution_count": 18,
     "metadata": {},
     "output_type": "execute_result"
    }
   ],
   "source": [
    "path_exists(\"A\", \"F\", G)"
   ]
  },
  {
   "cell_type": "code",
   "execution_count": null,
   "metadata": {},
   "outputs": [],
   "source": [
    "def path_exists_for_loop(node1, node2, G):\n",
    "    \"\"\"\n",
    "    This function checks whether a path exists between two nodes (node1,\n",
    "    node2) in graph G.\n",
    "    Special thanks to @ghirlekar for suggesting that we keep track of the\n",
    "    \"visited nodes\" to prevent infinite loops from happening. This also\n",
    "    removes the need to remove nodes from queue.\n",
    "    Reference: https://github.com/ericmjl/Network-Analysis-Made-Simple/issues/3\n",
    "    With thanks to @joshporter1 for the second bug fix. Originally there was\n",
    "    an extraneous \"if\" statement that guaranteed that the \"False\" case would\n",
    "    never be returned - because queue never changes in shape. Discovered at\n",
    "    PyCon 2017.\n",
    "    With thanks to @chendaniely for pointing out the extraneous \"break\".\n",
    "    If you would like to see @dgerlanc's implementation, see\n",
    "    https://github.com/ericmjl/Network-Analysis-Made-Simple/issues/76\n",
    "    \"\"\"\n",
    "    visited_nodes = set()\n",
    "    queue = [node1]\n",
    "\n",
    "    for node in queue:\n",
    "        neighbors = list(G.neighbors(node))\n",
    "        if node2 in neighbors:\n",
    "            return True\n",
    "        else:\n",
    "            visited_nodes.add(node)\n",
    "            queue.extend([n for n in neighbors if n not in visited_nodes])\n",
    "\n",
    "    return False"
   ]
  },
  {
   "cell_type": "code",
   "execution_count": null,
   "metadata": {},
   "outputs": [],
   "source": [
    "def path_exists_deque(node1, node2, G):\n",
    "    \"\"\"An alternative implementation.\"\"\"\n",
    "    from collections import deque\n",
    "\n",
    "    visited_nodes = set()\n",
    "    queue = deque([node1])\n",
    "\n",
    "    while len(queue) > 0:\n",
    "        node = queue.popleft()\n",
    "        neighbors = list(G.neighbors(node))\n",
    "        if node2 in neighbors:\n",
    "            return True\n",
    "        else:\n",
    "            visited_nodes.add(node)\n",
    "            queue.extend([n for n in neighbors if n not in visited_nodes])\n",
    "\n",
    "    return False\n",
    "\n",
    "\n",
    "def plot_path_with_neighbors(G, n1, n2):\n",
    "    \"\"\"Plot path while also including neighbors of nodes along path.\"\"\"\n",
    "    path = nx.shortest_path(G, n1, n2)\n",
    "\n",
    "    nodes = [*path]\n",
    "    for node in path:\n",
    "        nodes.extend(list(G.neighbors(node)))\n",
    "    nodes = list(set(nodes))\n",
    "\n",
    "    colors = []\n",
    "    for n in nodes:\n",
    "        if n not in path:\n",
    "            colors.append(\"blue\")\n",
    "        else:\n",
    "            colors.append(\"red\")\n",
    "\n",
    "    nx.draw(G.subgraph(nodes), with_labels=False, node_color=colors)\n",
    "\n",
    "\n",
    "def plot_degree_betweenness(G):\n",
    "    \"\"\"Plot scatterplot between degree and betweenness centrality.\"\"\"\n",
    "    bc = pd.Series(nx.betweenness_centrality(G))\n",
    "    dc = pd.Series(nx.degree_centrality(G))\n",
    "\n",
    "    df = pd.DataFrame(dict(bc=bc, dc=dc))\n",
    "    ax = df.plot(x=\"dc\", y=\"bc\", kind=\"scatter\")\n",
    "    ax.set_ylabel(\"Betweenness\\nCentrality\")\n",
    "    ax.set_xlabel(\"Degree Centrality\")\n",
    "    sns.despine()"
   ]
  },
  {
   "cell_type": "code",
   "execution_count": null,
   "metadata": {},
   "outputs": [],
   "source": []
  }
 ],
 "metadata": {
  "kernelspec": {
   "display_name": "Python 3",
   "language": "python",
   "name": "python3"
  },
  "language_info": {
   "codemirror_mode": {
    "name": "ipython",
    "version": 3
   },
   "file_extension": ".py",
   "mimetype": "text/x-python",
   "name": "python",
   "nbconvert_exporter": "python",
   "pygments_lexer": "ipython3",
   "version": "3.7.7"
  }
 },
 "nbformat": 4,
 "nbformat_minor": 4
}
