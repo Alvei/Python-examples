{
 "cells": [
  {
   "cell_type": "markdown",
   "metadata": {},
   "source": [
    "# Python - The formatter class\n",
    "from data camp"
   ]
  },
  {
   "cell_type": "markdown",
   "metadata": {},
   "source": [
    "The formatter class is one of the built-in string class. It provides the ability to do complex variable substitutions and value formatting using the **format() method**. Youattach the method to a string. Inside the string you use {} to identify a variable to be formated. Inside the {} you number the variables."
   ]
  },
  {
   "cell_type": "code",
   "execution_count": 1,
   "metadata": {},
   "outputs": [
    {
     "name": "stdout",
     "output_type": "stream",
     "text": [
      "I bought 200 Euro worth of cookies!\n"
     ]
    }
   ],
   "source": [
    "print(\"I bought {0} Euro worth of {1}!\".format(200,'cookies'))                        #Accessing values by position"
   ]
  },
  {
   "cell_type": "code",
   "execution_count": 2,
   "metadata": {},
   "outputs": [
    {
     "name": "stdout",
     "output_type": "stream",
     "text": [
      "I bought 200 Euro worth of cookies!\n"
     ]
    }
   ],
   "source": [
    "print(\"I bought {total} Euro worth of {item}!\".format(total = 200, item = 'cookies')) #Accessing values by name"
   ]
  },
  {
   "cell_type": "code",
   "execution_count": 3,
   "metadata": {},
   "outputs": [
    {
     "data": {
      "text/plain": [
       "'Cake######'"
      ]
     },
     "execution_count": 3,
     "metadata": {},
     "output_type": "execute_result"
    }
   ],
   "source": [
    "'{:#<10}'.format('Cake')        #Left aligment for word 'Cake' according to right alignment, gaps filled with '#'"
   ]
  },
  {
   "cell_type": "code",
   "execution_count": 4,
   "metadata": {},
   "outputs": [
    {
     "data": {
      "text/plain": [
       "'###Cake###'"
      ]
     },
     "execution_count": 4,
     "metadata": {},
     "output_type": "execute_result"
    }
   ],
   "source": [
    "'{:#^10}'.format('Cake')       #Centre aligment for word 'Cake' according to right alignment, gaps filled with '#'"
   ]
  },
  {
   "cell_type": "code",
   "execution_count": 5,
   "metadata": {},
   "outputs": [
    {
     "data": {
      "text/plain": [
       "'######Cake'"
      ]
     },
     "execution_count": 5,
     "metadata": {},
     "output_type": "execute_result"
    }
   ],
   "source": [
    "'{:#>10}'.format('Cake')      #Right aligment for word 'Cake' according to right alignment, gaps filled with '#'"
   ]
  },
  {
   "cell_type": "code",
   "execution_count": 6,
   "metadata": {},
   "outputs": [
    {
     "name": "stdout",
     "output_type": "stream",
     "text": [
      "    1     2     3     4     5     6     7     8     9 "
     ]
    }
   ],
   "source": [
    "for num in range(1,10): \n",
    "        print('{0:{width}}'.format(num, width = 5), end = ' ')"
   ]
  },
  {
   "cell_type": "code",
   "execution_count": null,
   "metadata": {},
   "outputs": [],
   "source": []
  }
 ],
 "metadata": {
  "kernelspec": {
   "display_name": "Python 3",
   "language": "python",
   "name": "python3"
  },
  "language_info": {
   "codemirror_mode": {
    "name": "ipython",
    "version": 3
   },
   "file_extension": ".py",
   "mimetype": "text/x-python",
   "name": "python",
   "nbconvert_exporter": "python",
   "pygments_lexer": "ipython3",
   "version": "3.6.4"
  }
 },
 "nbformat": 4,
 "nbformat_minor": 2
}
