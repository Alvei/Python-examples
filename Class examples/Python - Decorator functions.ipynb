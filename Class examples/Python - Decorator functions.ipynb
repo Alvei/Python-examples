{
 "cells": [
  {
   "cell_type": "markdown",
   "metadata": {},
   "source": [
    "# Decorator functions\n",
    "A decorator function takes on function as input and returns another function. Or said another way, a decorator is a function that takes another function and extends the behavior of the latter function without explicitly modifying it.\n",
    "\n",
    "In Python, functions are first-class objects. This means that functions can be passed around and used as arguments, just like any other object (string, int, float, list, and so on). Therefore you can,\n",
    "\n",
    "### Assign functions to variables."
   ]
  },
  {
   "cell_type": "code",
   "execution_count": 8,
   "metadata": {},
   "outputs": [
    {
     "name": "stdout",
     "output_type": "stream",
     "text": [
      "hello John\n"
     ]
    }
   ],
   "source": [
    "def greet(name):\n",
    "    return \"hello \"+name\n",
    "\n",
    "greet_someone = greet             # assigning the function to a variable\n",
    "print( greet_someone(\"John\") )    # now using variable like a function\n"
   ]
  },
  {
   "cell_type": "markdown",
   "metadata": {},
   "source": [
    "### Defined functions inside other functions."
   ]
  },
  {
   "cell_type": "code",
   "execution_count": 10,
   "metadata": {},
   "outputs": [
    {
     "name": "stdout",
     "output_type": "stream",
     "text": [
      "Hello John\n"
     ]
    }
   ],
   "source": [
    "def greet(name):\n",
    "    def get_message():            # scope of this function is only the greet() function\n",
    "        return \"Hello \"\n",
    "\n",
    "    result = get_message()+name   # assigning a function to a variable\n",
    "    return result\n",
    "\n",
    "print (greet(\"John\") )\n"
   ]
  },
  {
   "cell_type": "markdown",
   "metadata": {},
   "source": [
    "### Pass functions as parameters to other functions"
   ]
  },
  {
   "cell_type": "code",
   "execution_count": 11,
   "metadata": {},
   "outputs": [
    {
     "name": "stdout",
     "output_type": "stream",
     "text": [
      "Hello John\n"
     ]
    }
   ],
   "source": [
    "def greet(name):\n",
    "   return \"Hello \" + name \n",
    "\n",
    "def call_func(func):      # call_func expects a function as a parameter\n",
    "    other_name = \"John\"\n",
    "    return func(other_name)  \n",
    "\n",
    "print( call_func(greet) )"
   ]
  },
  {
   "cell_type": "code",
   "execution_count": null,
   "metadata": {},
   "outputs": [],
   "source": []
  },
  {
   "cell_type": "code",
   "execution_count": 3,
   "metadata": {},
   "outputs": [],
   "source": [
    "\n",
    "def documentFunc(func):\n",
    "    ''' Decorator function that prints the function's name and the value of arguments\n",
    "        Runs the function with the argument\n",
    "        Prints the result\n",
    "        Returns the modified function for use\n",
    "        signature function -> function\n",
    "    '''\n",
    "    def newFunction(*args, **kwargs):\n",
    "        print('Running function: ', func.__name__)  # Uses pre-defined variables\n",
    "        print('Positional arguments: ', args)\n",
    "        print('Keyword arguments: ', kwargs)\n",
    "        \n",
    "        result = func(*args, **kwargs)\n",
    "        \n",
    "        print('Result:', result)\n",
    "        return result\n",
    "    return newFunction # Returns the modified function for use"
   ]
  },
  {
   "cell_type": "code",
   "execution_count": 1,
   "metadata": {},
   "outputs": [],
   "source": [
    "def addInts(a, b):\n",
    "    return a+b"
   ]
  },
  {
   "cell_type": "code",
   "execution_count": 4,
   "metadata": {},
   "outputs": [],
   "source": [
    "# First way to add decorator\n",
    "coolerAddInts = documentFunc(addInts)       # Manual decorator assignment"
   ]
  },
  {
   "cell_type": "code",
   "execution_count": 5,
   "metadata": {},
   "outputs": [
    {
     "name": "stdout",
     "output_type": "stream",
     "text": [
      "Running function:  addInts\n",
      "Positional arguments:  (4, 6)\n",
      "Keyword arguments:  {}\n",
      "Result: 10\n",
      "10\n"
     ]
    }
   ],
   "source": [
    "res = coolerAddInts(4,6)\n",
    "print(res)"
   ]
  },
  {
   "cell_type": "code",
   "execution_count": 6,
   "metadata": {},
   "outputs": [
    {
     "name": "stdout",
     "output_type": "stream",
     "text": [
      "Running function:  addInts2\n",
      "Positional arguments:  (3, 5)\n",
      "Keyword arguments:  {}\n",
      "Result: 8\n"
     ]
    }
   ],
   "source": [
    "# Second way to add decorator\n",
    "@documentFunc\n",
    "def addInts2(a, b):\n",
    "    return a+b\n",
    "\n",
    "d = addInts2(3,5)"
   ]
  },
  {
   "cell_type": "code",
   "execution_count": null,
   "metadata": {},
   "outputs": [],
   "source": []
  }
 ],
 "metadata": {
  "kernelspec": {
   "display_name": "Python 3",
   "language": "python",
   "name": "python3"
  },
  "language_info": {
   "codemirror_mode": {
    "name": "ipython",
    "version": 3
   },
   "file_extension": ".py",
   "mimetype": "text/x-python",
   "name": "python",
   "nbconvert_exporter": "python",
   "pygments_lexer": "ipython3",
   "version": "3.6.4"
  }
 },
 "nbformat": 4,
 "nbformat_minor": 2
}
