{
 "cells": [
  {
   "cell_type": "markdown",
   "metadata": {},
   "source": [
    "# Etudes Fibonacci\n",
    "Compares the recursive implementation of Fib with the one using Hashing and dynamic programing.  \n",
    "\n",
    "## Recursive implementation\n",
    "The first implementation is the straight forward recursive implementations that does not recognize that some of the branches are computed multiple times for large numbers."
   ]
  },
  {
   "cell_type": "code",
   "execution_count": 4,
   "metadata": {},
   "outputs": [],
   "source": [
    "def fib(num):\n",
    "    \"\"\"Assumes n an int >= 0 to return the Fibonacci of num. \n",
    "    Signature (int) -> int \"\"\"\n",
    "    \n",
    "    assert num >= 0 and type(num) == int\n",
    "    \n",
    "    # Base case\n",
    "    if num == 0 or num == 1:\n",
    "        return 1\n",
    "    else:\n",
    "        return fib(num-1) + fib(num-2)"
   ]
  },
  {
   "cell_type": "markdown",
   "metadata": {},
   "source": [
    "## Hashing implementation\n",
    "The second implementation uses hashing to avoid recomputing the same fib numbers. It uses a dictionary to key track of previously calculated fib."
   ]
  },
  {
   "cell_type": "code",
   "execution_count": 8,
   "metadata": {},
   "outputs": [],
   "source": [
    "def fastFib(num, memo = {}):\n",
    "    \"\"\"Assumes n an int >= 0 to return the Fibonacci of num.\n",
    "       Signature (int, dict) -> int\n",
    "       memo is a dictionary of previously computed Fib numbers.\n",
    "       dictionary entry in memo => (key = num, value = fib(n))\n",
    "       Important to initialize memo if empty such that we start one by default. \"\"\"\n",
    "    \n",
    "    assert num >= 0 and type(num) == int\n",
    "    \n",
    "    \n",
    "    if num == 0 or num == 1: # Base case\n",
    "        return 1\n",
    "    \n",
    "    # Check to see if num has already computed and in dictionary. It should be the key\n",
    "    try:                     \n",
    "        return memo[num] \n",
    "    \n",
    "    # if not, use the try/except pattern to compute the number\n",
    "    except KeyError:      \n",
    "        \n",
    "        # Calculating Fib as always but passing the dictionary memo\n",
    "        result = fastFib(num-1, memo) + fastFib(num-2, memo)\n",
    "        \n",
    "        # Save the new result in the dictionary\n",
    "        memo[num] = result\n",
    "        \n",
    "        return result"
   ]
  },
  {
   "cell_type": "markdown",
   "metadata": {},
   "source": [
    "## Test Harness        "
   ]
  },
  {
   "cell_type": "code",
   "execution_count": 5,
   "metadata": {},
   "outputs": [],
   "source": [
    "def testFib(n):\n",
    "    for i in range(n+1):\n",
    "        print('fib of ', i, ' = ', str(fib(i)))\n",
    "        \n",
    "    for j in range(n+1):\n",
    "        print('fastFib of ', j, ' = ', str(fastFib(j))) \n",
    "\n",
    "        # The last call with n = 35 is instanteneous for fastFib but takes long for fib\n",
    "#testFib(12)\n",
    "#print('\\n\\n')"
   ]
  },
  {
   "cell_type": "code",
   "execution_count": 15,
   "metadata": {},
   "outputs": [
    {
     "name": "stdout",
     "output_type": "stream",
     "text": [
      "fastFib of  35  =  14930352\n",
      "Wall time: 0 ns\n",
      "fib of  35  =  14930352\n",
      "Wall time: 8.14 s\n"
     ]
    }
   ],
   "source": [
    "n = 35\n",
    "%time print('fastFib of ', n, ' = ', str(fastFib(n)) )    # Should be super fast\n",
    "%time print('fib of ', n, ' = ', str(fib(n)) )            # Should take some time"
   ]
  },
  {
   "cell_type": "code",
   "execution_count": null,
   "metadata": {},
   "outputs": [],
   "source": []
  }
 ],
 "metadata": {
  "kernelspec": {
   "display_name": "Python 3",
   "language": "python",
   "name": "python3"
  },
  "language_info": {
   "codemirror_mode": {
    "name": "ipython",
    "version": 3
   },
   "file_extension": ".py",
   "mimetype": "text/x-python",
   "name": "python",
   "nbconvert_exporter": "python",
   "pygments_lexer": "ipython3",
   "version": "3.6.4"
  }
 },
 "nbformat": 4,
 "nbformat_minor": 2
}
