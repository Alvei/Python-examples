{
 "cells": [
  {
   "cell_type": "markdown",
   "metadata": {},
   "source": [
    "# Different Big O() examples"
   ]
  },
  {
   "cell_type": "code",
   "execution_count": 1,
   "metadata": {},
   "outputs": [],
   "source": [
    "\"\"\"input manatees: a list of \"manatees\", where one manatee is represented by a dictionary\n",
    "a single manatee has properties like \"name\", \"age\", et cetera\n",
    "n = the number of elements in \"manatees\"\n",
    "m = the number of properties per \"manatee\" (i.e. the number of keys in a manatee dictionary)\"\"\"\n",
    "\n",
    "def example1(manatees):\n",
    "    for manatee in manatees:\n",
    "        print(manatee['name'])"
   ]
  },
  {
   "cell_type": "markdown",
   "metadata": {},
   "source": [
    "Example1 is Order O(n): We iterate over every manatee in the manatees list with the for loop. Since we're given that manatees has n elements, our code will take approximately O(n) time to run."
   ]
  },
  {
   "cell_type": "code",
   "execution_count": null,
   "metadata": {},
   "outputs": [],
   "source": [
    "def example2(manatees):\n",
    "    print(manatees[0]['name'])\n",
    "    print(manatees[0]['age'])"
   ]
  },
  {
   "cell_type": "markdown",
   "metadata": {},
   "source": [
    "Example2 is Order O(1): We look at two specific properties of a specific manatee. We aren't iterating over anything - just doing constant-time lookups on lists and dictionaries. Thus the code will complete in constant, or O(1), time."
   ]
  },
  {
   "cell_type": "code",
   "execution_count": null,
   "metadata": {},
   "outputs": [],
   "source": [
    "def example3(manatees):\n",
    "    for manatee in manatees:\n",
    "        for manatee_property in manatee:\n",
    "            print(manatee_property, \": \", manatee[manatee_property])"
   ]
  },
  {
   "cell_type": "markdown",
   "metadata": {},
   "source": [
    "Example3 is Order O(n * m): There are two for loops, and nested for loops are a good sign that you need to multiply two runtimes. Here, for every manatee, we check every property. If we had 4 manatees, each with 5 properties, then we would need 5+5+5+5 steps. This logic simplifies to the number of manatees times the number of properties, or O(nm)."
   ]
  },
  {
   "cell_type": "code",
   "execution_count": null,
   "metadata": {},
   "outputs": [],
   "source": [
    "def example4(manatees):\n",
    "    oldest_manatee = \"No manatees here!\"\n",
    "    for manatee1 in manatees:\n",
    "        for manatee2 in manatees:\n",
    "            if manatee1['age'] < manatee2['age']:\n",
    "                oldest_manatee = manatee2['name']\n",
    "            else:\n",
    "                oldest_manatee = manatee1['name']\n",
    "    print(oldest_manatee)"
   ]
  },
  {
   "cell_type": "markdown",
   "metadata": {},
   "source": [
    "Example4 is Order O(n * n):Again we have nested for loops. This time we're iterating over the manatees list twice - every time we see a manatee, we compare it to every other manatee's age. We end up with O(nn), or O(n^2) (which is read as \"n squared\").\n",
    "\n",
    "Throughout the course, you can reference the Big-O Cheat Sheet to keep track of time complexities for many of the algorithms and data structures we study."
   ]
  },
  {
   "cell_type": "markdown",
   "metadata": {},
   "source": [
    "[Big-O-CheatSheet]()https://www.bigocheatsheet.com/)"
   ]
  },
  {
   "cell_type": "code",
   "execution_count": null,
   "metadata": {},
   "outputs": [],
   "source": []
  }
 ],
 "metadata": {
  "kernelspec": {
   "display_name": "Python 3",
   "language": "python",
   "name": "python3"
  },
  "language_info": {
   "codemirror_mode": {
    "name": "ipython",
    "version": 3
   },
   "file_extension": ".py",
   "mimetype": "text/x-python",
   "name": "python",
   "nbconvert_exporter": "python",
   "pygments_lexer": "ipython3",
   "version": "3.7.7"
  }
 },
 "nbformat": 4,
 "nbformat_minor": 4
}
