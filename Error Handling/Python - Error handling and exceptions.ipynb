{
 "cells": [
  {
   "cell_type": "markdown",
   "metadata": {},
   "source": [
    "# Error handling and exceptions\n",
    "All code is written to execute assuming certain conditions at true at runtime. If these conditions do not hold, then it might very well be the case that the code does not perform the correct actions. **Error handling** increases the robustness of your code, which guards against potential failures that would cause your program to exit in an uncontrolled fashion.\n",
    "In simple words, errors are something which Python doesn't like and will show its displeasure on by abruptly terminating the program. A Python program terminates as soon as it encounters an error. Errors can be of two types:\n",
    "\n",
    "- **Syntax errors** − Errors caused by not following the proper structure (syntax) of the language are called syntax or parsing errors.\n",
    "- **Errors which are encountered at runtime (Exceptions)** − This would be covered in this tutorial. Here is a list standard Exceptions available in Python: Standard Exceptions.\n",
    " Exceptions occur during run-time. Your code may be syntactically correct but it may happen that during run-time Python encounters something which it can't handle, then it raises an exception. For example, dividing a number by zero or trying to write to a file which is read-only. When a Python script raises exception, it creates an *Exception object*. If the script doesn't handle exception the program will terminate abruptly.\n",
    "\n",
    "Python provides two very important features to handle any unexpected error in your Python programs and to add debugging capabilities in them −\n",
    "\n",
    "- **Assertions** − This would be covered in Assertions in Python tutorial.\n",
    "\n",
    "- **Exception Handling** − This would be covered in this tutorial. Here is a list standard Exceptions available in Python: Standard Exceptions.\n",
    "\n",
    "## Exceptions vs. syntax errors\n",
    "**Syntax errors** occur when the parser detects an incorrect statement. Observe the following example:"
   ]
  },
  {
   "cell_type": "code",
   "execution_count": 1,
   "metadata": {},
   "outputs": [
    {
     "ename": "SyntaxError",
     "evalue": "invalid syntax (<ipython-input-1-c3931f671051>, line 1)",
     "output_type": "error",
     "traceback": [
      "\u001b[1;36m  File \u001b[1;32m\"<ipython-input-1-c3931f671051>\"\u001b[1;36m, line \u001b[1;32m1\u001b[0m\n\u001b[1;33m    print( 0 / 0 ))\u001b[0m\n\u001b[1;37m                  ^\u001b[0m\n\u001b[1;31mSyntaxError\u001b[0m\u001b[1;31m:\u001b[0m invalid syntax\n"
     ]
    }
   ],
   "source": [
    "print( 0 / 0 ))"
   ]
  },
  {
   "cell_type": "markdown",
   "metadata": {},
   "source": [
    "The arrow indicates where the parser ran into the **syntax error**. In this example, there was one bracket too many. If you remove the extra parathesis and run your code again:"
   ]
  },
  {
   "cell_type": "code",
   "execution_count": 2,
   "metadata": {},
   "outputs": [
    {
     "ename": "ZeroDivisionError",
     "evalue": "division by zero",
     "output_type": "error",
     "traceback": [
      "\u001b[1;31m---------------------------------------------------------------------------\u001b[0m",
      "\u001b[1;31mZeroDivisionError\u001b[0m                         Traceback (most recent call last)",
      "\u001b[1;32m<ipython-input-2-f5008b880c58>\u001b[0m in \u001b[0;36m<module>\u001b[1;34m()\u001b[0m\n\u001b[1;32m----> 1\u001b[1;33m \u001b[0mprint\u001b[0m\u001b[1;33m(\u001b[0m \u001b[1;36m0\u001b[0m \u001b[1;33m/\u001b[0m \u001b[1;36m0\u001b[0m \u001b[1;33m)\u001b[0m\u001b[1;33m\u001b[0m\u001b[0m\n\u001b[0m",
      "\u001b[1;31mZeroDivisionError\u001b[0m: division by zero"
     ]
    }
   ],
   "source": [
    "print( 0 / 0 )"
   ]
  },
  {
   "cell_type": "markdown",
   "metadata": {},
   "source": [
    "This time, you ran into an **exception error**. This type of error occurs at run-time whenever syntactically correct Python code results in an error. The last line of the message indicated what type of exception error you ran into. \n",
    "\n",
    "Instead of showing the message exception error, **Python details what type of exception error was encountered**. In this case, it was a **ZeroDivisionError**. When a Python script raises exception, it creates an *Exception object*. If the script doesn't handle exception the program will terminate abruptly. Python comes with various built-in *Exception objects* as well as the possibility to create self-defined exceptions."
   ]
  },
  {
   "cell_type": "markdown",
   "metadata": {},
   "source": [
    "## Raising an Exception\n",
    "We can use **raise** to throw an exception if a condition occurs. The statement can be complemented with a custom **Exception()**."
   ]
  },
  {
   "cell_type": "code",
   "execution_count": 3,
   "metadata": {},
   "outputs": [
    {
     "ename": "Exception",
     "evalue": "x should not exceed 5. The value of x was: 10",
     "output_type": "error",
     "traceback": [
      "\u001b[1;31m---------------------------------------------------------------------------\u001b[0m",
      "\u001b[1;31mException\u001b[0m                                 Traceback (most recent call last)",
      "\u001b[1;32m<ipython-input-3-3dcc1a597936>\u001b[0m in \u001b[0;36m<module>\u001b[1;34m()\u001b[0m\n\u001b[0;32m      1\u001b[0m \u001b[0mx\u001b[0m \u001b[1;33m=\u001b[0m \u001b[1;36m10\u001b[0m\u001b[1;33m\u001b[0m\u001b[0m\n\u001b[0;32m      2\u001b[0m \u001b[1;32mif\u001b[0m \u001b[0mx\u001b[0m \u001b[1;33m>\u001b[0m \u001b[1;36m5\u001b[0m\u001b[1;33m:\u001b[0m\u001b[1;33m\u001b[0m\u001b[0m\n\u001b[1;32m----> 3\u001b[1;33m     \u001b[1;32mraise\u001b[0m \u001b[0mException\u001b[0m\u001b[1;33m(\u001b[0m\u001b[1;34m'x should not exceed 5. The value of x was: {}'\u001b[0m\u001b[1;33m.\u001b[0m\u001b[0mformat\u001b[0m\u001b[1;33m(\u001b[0m\u001b[0mx\u001b[0m\u001b[1;33m)\u001b[0m\u001b[1;33m)\u001b[0m\u001b[1;33m\u001b[0m\u001b[0m\n\u001b[0m",
      "\u001b[1;31mException\u001b[0m: x should not exceed 5. The value of x was: 10"
     ]
    }
   ],
   "source": [
    "x = 10\n",
    "if x > 5:\n",
    "    raise Exception('x should not exceed 5. The value of x was: {}'.format(x))"
   ]
  },
  {
   "cell_type": "markdown",
   "metadata": {},
   "source": [
    "The program comes to a halt and displays our exception to screen, offering clues about what went wrong.\n",
    "\n",
    "## Assertion Error\n",
    "Instead of waiting for a program to crash midway, you can also start by making an assertion in Python. We assert that a certain condition is met. If this condition turns out to be True, then that is excellent! The program can continue. If the condition turns out to be False, you can have the program throw an AssertionError exception.\n",
    "\n",
    "The easiest way to think of an assertion is to liken it to a raise-if statement (or to be more accurate, a raise-if-not statement). An expression is tested, and if the result comes up false, an exception is raised.\n",
    "\n",
    "Programmers often place assertions at the start of a function to check for valid input, and after a function call to check for valid output.\n",
    "\n",
    "### The assert Statement\n",
    "When it encounters an assert statement, Python evaluates the accompanying expression, which is hopefully true. If the expression is false, Python raises an AssertionError exception.\n",
    "\n",
    "The syntax for assert is −\n",
    "\n",
    ">assert Expression[, Arguments]\n",
    "\n",
    "If the assertion fails, Python uses ArgumentExpression as the argument for the **AssertionError**. AssertionError exceptions can be caught and handled like any other exception using the try-except statement, but if not handled, they will terminate the program and produce a traceback."
   ]
  },
  {
   "cell_type": "code",
   "execution_count": 4,
   "metadata": {},
   "outputs": [],
   "source": [
    "def fib(n):\n",
    "    \"\"\" Returns the Fibonacci of n. \n",
    "        Has some basic error checking and assumes n is an int >= 0.\n",
    "        signature int -> int\n",
    "    \"\"\"\n",
    "    \n",
    "    assert n >= 0 and type(n) == int\n",
    "    \n",
    "    if n == 0 or n == 1:\n",
    "        return 1    # Base case\n",
    "    else:\n",
    "        return fib(n-1) + fib(n-2)"
   ]
  },
  {
   "cell_type": "markdown",
   "metadata": {},
   "source": [
    "If you call the fib function with an integer greater or equal to zero, then it proceeds. If not it will provide"
   ]
  },
  {
   "cell_type": "code",
   "execution_count": 5,
   "metadata": {},
   "outputs": [
    {
     "data": {
      "text/plain": [
       "5"
      ]
     },
     "execution_count": 5,
     "metadata": {},
     "output_type": "execute_result"
    }
   ],
   "source": [
    "fib(4)"
   ]
  },
  {
   "cell_type": "code",
   "execution_count": 6,
   "metadata": {},
   "outputs": [
    {
     "ename": "AssertionError",
     "evalue": "",
     "output_type": "error",
     "traceback": [
      "\u001b[1;31m---------------------------------------------------------------------------\u001b[0m",
      "\u001b[1;31mAssertionError\u001b[0m                            Traceback (most recent call last)",
      "\u001b[1;32m<ipython-input-6-9cde9723acac>\u001b[0m in \u001b[0;36m<module>\u001b[1;34m()\u001b[0m\n\u001b[1;32m----> 1\u001b[1;33m \u001b[0mfib\u001b[0m\u001b[1;33m(\u001b[0m\u001b[1;33m-\u001b[0m\u001b[1;36m4\u001b[0m\u001b[1;33m)\u001b[0m\u001b[1;33m\u001b[0m\u001b[0m\n\u001b[0m",
      "\u001b[1;32m<ipython-input-4-d69f14f46cdf>\u001b[0m in \u001b[0;36mfib\u001b[1;34m(n)\u001b[0m\n\u001b[0;32m      5\u001b[0m     \"\"\"\n\u001b[0;32m      6\u001b[0m \u001b[1;33m\u001b[0m\u001b[0m\n\u001b[1;32m----> 7\u001b[1;33m     \u001b[1;32massert\u001b[0m \u001b[0mn\u001b[0m \u001b[1;33m>=\u001b[0m \u001b[1;36m0\u001b[0m \u001b[1;32mand\u001b[0m \u001b[0mtype\u001b[0m\u001b[1;33m(\u001b[0m\u001b[0mn\u001b[0m\u001b[1;33m)\u001b[0m \u001b[1;33m==\u001b[0m \u001b[0mint\u001b[0m\u001b[1;33m\u001b[0m\u001b[0m\n\u001b[0m\u001b[0;32m      8\u001b[0m \u001b[1;33m\u001b[0m\u001b[0m\n\u001b[0;32m      9\u001b[0m     \u001b[1;32mif\u001b[0m \u001b[0mn\u001b[0m \u001b[1;33m==\u001b[0m \u001b[1;36m0\u001b[0m \u001b[1;32mor\u001b[0m \u001b[0mn\u001b[0m \u001b[1;33m==\u001b[0m \u001b[1;36m1\u001b[0m\u001b[1;33m:\u001b[0m\u001b[1;33m\u001b[0m\u001b[0m\n",
      "\u001b[1;31mAssertionError\u001b[0m: "
     ]
    }
   ],
   "source": [
    "fib(-4)"
   ]
  },
  {
   "cell_type": "markdown",
   "metadata": {},
   "source": [
    "In this example, throwing an **AssertionError exception** is the last thing that the program will do. The program will come to halt and will not continue. What if that is not what you want?\n",
    "## Handling Exceptions\n",
    "Python handles exceptions using try and except blocks. In try block you can write the code which is suspicious to raise an exception, and in except block, you can write the code which will handle this exception.\n",
    "\n",
    "Syntax:\n",
    "try:\n",
    "    You do your operations here;\n",
    "except Exception1: \n",
    "    If there is Exception1, then execute this block.\n",
    "except Exception2:\n",
    "    If there is Exception2, then execute this block.\n",
    "\n",
    "The try and except block in Python is used to catch and handle exceptions. **Python executes code following the try statement as a “normal” part of the program**. The code that follows the except statement is the program’s response to any exceptions in the preceding try clause.\n",
    "\n",
    "### What is Exception?\n",
    "An exception is an event, which occurs during the execution of a program (i.e., at run-time) that disrupts the normal flow of the program's instructions. In general, when a Python script encounters a situation that it cannot cope with, it raises an exception. An **exception is a Python object** that represents an error.\n",
    "\n",
    "When a Python script raises an exception, it must either handle the exception immediately otherwise it terminates and quits.\n",
    "The **except clause** determines how your program responds to exceptions."
   ]
  },
  {
   "cell_type": "markdown",
   "metadata": {},
   "source": [
    "Warning: Catching Exception hides all errors…even those which are completely unexpected. This is why you should avoid bare except clauses in your Python programs. Instead, you’ll want to refer to specific exception classes you want to catch and handle. You can learn more about why this is a good idea in this tutorial."
   ]
  },
  {
   "cell_type": "code",
   "execution_count": 10,
   "metadata": {},
   "outputs": [
    {
     "name": "stdout",
     "output_type": "stream",
     "text": [
      "Error: can't find file or read data\n"
     ]
    }
   ],
   "source": [
    "try:\n",
    "   fh = open(\"testfile\", \"r\")\n",
    "   fh.write(\"This is my test file for exception handling!!\")\n",
    "except IOError:\n",
    "   print(\"Error: can\\'t find file or read data\")\n",
    "else:\n",
    "   print(\"Written content in the file successfully\")\n",
    "   fh.close()"
   ]
  },
  {
   "cell_type": "code",
   "execution_count": null,
   "metadata": {},
   "outputs": [],
   "source": [
    "Total_Marks = int(input(\"Enter Total Marks Scored: \"))\n",
    "Num_of_Sections = int(input(\"Enter Num of Sections: \"))\n",
    "Average = 0\n",
    "try:\n",
    "    Average = int(Total_Marks/Num_of_Sections)\n",
    "except ZeroDivisionError:\n",
    "    print(\"There has to be atleast 1 or more than 1 sections.\")\n",
    "print(\"Average marks scored per section is: \",Average)"
   ]
  },
  {
   "cell_type": "markdown",
   "metadata": {},
   "source": [
    "In above example, if you notice, the line where divison is happening is written inside try block, because it is suspected to raise an exception in case if zero is entered for number of sections, and the except block is written to handle the corresponding exception for any such event.\n",
    "The try statement works as follows.\n",
    "- First, the **try clause** (the statement(s) between the try and except keywords) is executed. \n",
    "- If no exception occurs, the **except clause** is skipped and execution of the **try statement** is finished. \n",
    "- If an exception occurs during execution of the **try clause**, the rest of the clause is skipped. Then if its **type matches the exception named** after the except keyword, the **except clause** is executed, and then execution continues after the **try statement**.\n",
    "- If an **exception occurs which does not match the exception named** in the except clause, it is passed on to outer try statements; if no handler is found, it is an unhandled exception and execution stops with a message.\n",
    "\n",
    "A try clause can have any number of except clause to handle them differently, but only one will be executed in case an exception occurs.\n"
   ]
  },
  {
   "cell_type": "markdown",
   "metadata": {},
   "source": [
    "### The try-finally Clause\n",
    "You can use a finally: block along with a try: block. The finally block is **a place to put any code that must execute**, whether the try-block raised an exception or not. \n",
    "\n",
    "In case if there is any code which you want to be executed, whether exception occurs or not, then that code can be placed inside the finally block. When an exception occurs, the control immediately goes to finally block and all the lines in finally block gets executed first. After that the control goes to except block to handle exception. This can be useful when you have clean-up activities to be done in your code(i.e.closing files or active Database connections)."
   ]
  },
  {
   "cell_type": "code",
   "execution_count": null,
   "metadata": {},
   "outputs": [],
   "source": [
    "try:\n",
    "   fh = open(\"test\", \"w\")\n",
    "   try:\n",
    "      fh.write(\"Test file!!\")\n",
    "   finally:                        # Do the clean-up before going to the exception \n",
    "      print (\"Closing the file\")\n",
    "      fh.close()\n",
    "except IOError:\n",
    "   print (\"Error: File not found or is read-only\" )"
   ]
  },
  {
   "cell_type": "markdown",
   "metadata": {},
   "source": [
    "## Python Built-in Exceptions\n",
    "Some of the most common exceptions built-in Python:\n",
    "- **Exception** is the base case for exceptions.\n",
    "- **ArithmeticError** is the base class for all arithmetic exceptions which are raised for errors in arithmetic operations such as : **FloatingPointError, ZeroDivisionError, FloatingPointError**.\n",
    "- **AssertionError** is raised by a failed assert statement. In the program below, the value of 2 variables is compared to check if they are equal or not. The assert statement raises an exception when the expression returns false.\n",
    "- **IndexError** is raised when you refer a sequence which is out of range.\n",
    "- **IOError** is raised when an input/ output operation fails."
   ]
  },
  {
   "cell_type": "code",
   "execution_count": null,
   "metadata": {},
   "outputs": [],
   "source": []
  },
  {
   "cell_type": "code",
   "execution_count": null,
   "metadata": {},
   "outputs": [],
   "source": []
  },
  {
   "cell_type": "code",
   "execution_count": null,
   "metadata": {},
   "outputs": [],
   "source": []
  }
 ],
 "metadata": {
  "kernelspec": {
   "display_name": "Python 3",
   "language": "python",
   "name": "python3"
  },
  "language_info": {
   "codemirror_mode": {
    "name": "ipython",
    "version": 3
   },
   "file_extension": ".py",
   "mimetype": "text/x-python",
   "name": "python",
   "nbconvert_exporter": "python",
   "pygments_lexer": "ipython3",
   "version": "3.6.4"
  }
 },
 "nbformat": 4,
 "nbformat_minor": 2
}
