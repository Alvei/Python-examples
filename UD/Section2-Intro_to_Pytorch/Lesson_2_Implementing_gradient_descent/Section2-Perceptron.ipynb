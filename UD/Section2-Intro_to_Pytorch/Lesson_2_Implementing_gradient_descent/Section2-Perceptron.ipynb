{
 "cells": [
  {
   "cell_type": "markdown",
   "metadata": {},
   "source": [
    "# Section 2-7- Perceptron\n",
    "[intereting article](https://towardsdatascience.com/perceptron-learning-algorithm-d5db0deab975)"
   ]
  },
  {
   "cell_type": "code",
   "execution_count": 1,
   "metadata": {},
   "outputs": [],
   "source": [
    "import numpy as np\n",
    "import pandas as pd\n",
    "import matplotlib.pyplot as plt\n",
    "%matplotlib inline\n",
    "np.random.seed(42)"
   ]
  },
  {
   "cell_type": "code",
   "execution_count": 2,
   "metadata": {},
   "outputs": [],
   "source": [
    "data = np.asarray(pd.read_csv('data.csv', header=None))\n",
    "# Assign the features to the variable X, and the labels to the variable y. \n",
    "X = data[:,:-1]\n",
    "y = data[:,-1]"
   ]
  },
  {
   "cell_type": "code",
   "execution_count": 3,
   "metadata": {},
   "outputs": [
    {
     "data": {
      "text/html": [
       "<div>\n",
       "<style scoped>\n",
       "    .dataframe tbody tr th:only-of-type {\n",
       "        vertical-align: middle;\n",
       "    }\n",
       "\n",
       "    .dataframe tbody tr th {\n",
       "        vertical-align: top;\n",
       "    }\n",
       "\n",
       "    .dataframe thead th {\n",
       "        text-align: right;\n",
       "    }\n",
       "</style>\n",
       "<table border=\"1\" class=\"dataframe\">\n",
       "  <thead>\n",
       "    <tr style=\"text-align: right;\">\n",
       "      <th></th>\n",
       "      <th>X1</th>\n",
       "      <th>X2</th>\n",
       "      <th>Label</th>\n",
       "    </tr>\n",
       "  </thead>\n",
       "  <tbody>\n",
       "    <tr>\n",
       "      <th>0</th>\n",
       "      <td>0.78051</td>\n",
       "      <td>-0.063669</td>\n",
       "      <td>1.0</td>\n",
       "    </tr>\n",
       "    <tr>\n",
       "      <th>1</th>\n",
       "      <td>0.28774</td>\n",
       "      <td>0.291390</td>\n",
       "      <td>1.0</td>\n",
       "    </tr>\n",
       "    <tr>\n",
       "      <th>2</th>\n",
       "      <td>0.40714</td>\n",
       "      <td>0.178780</td>\n",
       "      <td>1.0</td>\n",
       "    </tr>\n",
       "    <tr>\n",
       "      <th>3</th>\n",
       "      <td>0.29230</td>\n",
       "      <td>0.421700</td>\n",
       "      <td>1.0</td>\n",
       "    </tr>\n",
       "    <tr>\n",
       "      <th>4</th>\n",
       "      <td>0.50922</td>\n",
       "      <td>0.352560</td>\n",
       "      <td>1.0</td>\n",
       "    </tr>\n",
       "  </tbody>\n",
       "</table>\n",
       "</div>"
      ],
      "text/plain": [
       "        X1        X2  Label\n",
       "0  0.78051 -0.063669    1.0\n",
       "1  0.28774  0.291390    1.0\n",
       "2  0.40714  0.178780    1.0\n",
       "3  0.29230  0.421700    1.0\n",
       "4  0.50922  0.352560    1.0"
      ]
     },
     "execution_count": 3,
     "metadata": {},
     "output_type": "execute_result"
    }
   ],
   "source": [
    "df = pd.DataFrame(data, columns=['X1', 'X2', 'Label'])\n",
    "df.head()"
   ]
  },
  {
   "cell_type": "code",
   "execution_count": 4,
   "metadata": {},
   "outputs": [],
   "source": [
    "groups = df.groupby(\"Label\")"
   ]
  },
  {
   "cell_type": "code",
   "execution_count": 5,
   "metadata": {},
   "outputs": [
    {
     "data": {
      "text/plain": [
       "<matplotlib.legend.Legend at 0x22f925f9e48>"
      ]
     },
     "execution_count": 5,
     "metadata": {},
     "output_type": "execute_result"
    },
    {
     "data": {
      "image/png": "[encoded data removed]",
      "text/plain": [
       "<Figure size 432x288 with 1 Axes>"
      ]
     },
     "metadata": {
      "needs_background": "light"
     },
     "output_type": "display_data"
    }
   ],
   "source": [
    "for name, group in groups:\n",
    "    plt.plot(group[\"X1\"], group[\"X2\"], marker=\"o\", linestyle=\"\", label=name)\n",
    "plt.xlabel('X1')\n",
    "plt.ylabel('X2')\n",
    "plt.legend()"
   ]
  },
  {
   "cell_type": "code",
   "execution_count": 6,
   "metadata": {},
   "outputs": [],
   "source": [
    "def stepFunction(t):\n",
    "    \"\"\" Simple step function.\n",
    "        Input: t is the independent variable\n",
    "        Output: return f(t) and it is either 1 or 0 dependent on the value of the independent\n",
    "    \"\"\"\n",
    "    if t >= 0:\n",
    "        return 1\n",
    "    return 0\n",
    "\n",
    "def prediction(X, W, b):\n",
    "    \"\"\" Wrapper function. \n",
    "        Input: dataset X (np.array), Weights W (np.array), bias (scalar)\n",
    "        Output: value for the equation that can be used in by step function to determine if positive or negative\n",
    "    \"\"\"\n",
    "    return stepFunction((np.matmul(X, W) + b)[0])   # [0] is required to extract the scalar from the np.array([])"
   ]
  },
  {
   "cell_type": "code",
   "execution_count": 24,
   "metadata": {},
   "outputs": [],
   "source": [
    "# Implement the perceptron trick.\n",
    "def perceptronStep(X, y, W, b, learn_rate = 0.01):\n",
    "    \"\"\" Update the weights (W) and bias (b) according to the perceptron algorithm.\n",
    "        Inputs:data X, labels y, weights W (as an array), bias b and learning rate.\n",
    "        Output: tuple (W, b)\n",
    "    \"\"\"\n",
    "    for i in range(len(X)):               # Iterate overa all the points\n",
    "        y_hat = prediction(X[i], W, b)    # Calculate a prediction for the point X[i] = (x_1, x_2)\n",
    "        \n",
    "        # Update the weights based on if the value is pos/negative and the learning-rate\n",
    "        if y[i]-y_hat == 1:\n",
    "            W[0] += X[i][0]*learn_rate\n",
    "            W[1] += X[i][1]*learn_rate\n",
    "            b += learn_rate\n",
    "        elif y[i]-y_hat == -1:\n",
    "            W[0] -= X[i][0]*learn_rate\n",
    "            W[1] -= X[i][1]*learn_rate\n",
    "            b -= learn_rate\n",
    "    return W, b"
   ]
  },
  {
   "cell_type": "code",
   "execution_count": 25,
   "metadata": {},
   "outputs": [],
   "source": [
    "def trainPerceptronAlgorithm(X, y, learn_rate = 0.01, num_epochs = 25):\n",
    "    \"\"\" Runs perceptron algorithm repeatedly.\n",
    "        Input: Dataset X (np.array), labels y (np.array), learning rate and number of iterations\n",
    "        Outputs: boundary lines obtained in the iterations for plotting purposes. \n",
    "    \"\"\"\n",
    "    x_min, x_max = min(X.T[0]), max(X.T[0])\n",
    "    y_min, y_max = min(X.T[1]), max(X.T[1])\n",
    "    \n",
    "    # Generate starting points for weights and bias.\n",
    "    W = np.array(np.random.rand(2,1))                 # Creates a 2X1 vector\n",
    "    b = np.random.rand(1)[0] + x_max                  # by taking the [0] element you get a scalar x from a np.array([x])\n",
    "    \n",
    "    boundary_lines = []                               # These are the solution lines that get plotted below.\n",
    "    for i in range(num_epochs):\n",
    "        W, b = perceptronStep(X, y, W, b, learn_rate) # In each epoch, we apply the perceptron step.\n",
    "        boundary_lines.append((-W[0]/W[1], -b/W[1]))\n",
    "    return boundary_lines                             # return slopes and intercepts in x_2 = m*x_1 + intercept"
   ]
  },
  {
   "cell_type": "code",
   "execution_count": 38,
   "metadata": {},
   "outputs": [],
   "source": [
    "lines_attributes = trainPerceptronAlgorithm(X, y, learn_rate=0.01, num_epochs=250)"
   ]
  },
  {
   "cell_type": "code",
   "execution_count": 39,
   "metadata": {},
   "outputs": [
    {
     "name": "stdout",
     "output_type": "stream",
     "text": [
      "0.0084492 1.0\n"
     ]
    },
    {
     "data": {
      "text/plain": [
       "array([0.0084492 , 0.10760428, 0.20675936, 0.30591444, 0.40506952,\n",
       "       0.5042246 , 0.60337968, 0.70253476, 0.80168984, 0.90084492])"
      ]
     },
     "execution_count": 39,
     "metadata": {},
     "output_type": "execute_result"
    }
   ],
   "source": [
    "# Create the x axis for the boundary\n",
    "x_min, x_max = min(X.T[0]), max(X.T[0])\n",
    "print(x_min, x_max)\n",
    "tick = (x_max-x_min)/10\n",
    "x_plot = np.arange(x_min, x_max, tick)\n",
    "x_plot"
   ]
  },
  {
   "cell_type": "code",
   "execution_count": 40,
   "metadata": {},
   "outputs": [
    {
     "name": "stdout",
     "output_type": "stream",
     "text": [
      "slope = [-0.91864219], intercept = [0.97439738]\n"
     ]
    },
    {
     "data": {
      "text/plain": [
       "[<matplotlib.lines.Line2D at 0x22f93b011c8>]"
      ]
     },
     "execution_count": 40,
     "metadata": {},
     "output_type": "execute_result"
    },
    {
     "data": {
      "image/png": "[encoded data removed]",
      "text/plain": [
       "<Figure size 432x288 with 1 Axes>"
      ]
     },
     "metadata": {
      "needs_background": "light"
     },
     "output_type": "display_data"
    }
   ],
   "source": [
    "for name, group in groups:\n",
    "    plt.plot(group[\"X1\"], group[\"X2\"], marker=\"o\", linestyle=\"\", label=name)\n",
    "plt.xlabel('X1')\n",
    "plt.ylabel('X2')\n",
    "plt.legend()\n",
    "\n",
    "line = lines_attributes[24]   # show the last boundary\n",
    "slope = line[0]\n",
    "intercept = line[1]\n",
    "print(f\"slope = {slope}, intercept = {intercept}\")\n",
    "y_plot = slope * x_plot + intercept\n",
    "plt.plot(x_plot, y_plot)"
   ]
  },
  {
   "cell_type": "code",
   "execution_count": null,
   "metadata": {},
   "outputs": [],
   "source": []
  }
 ],
 "metadata": {
  "kernelspec": {
   "display_name": "Python 3",
   "language": "python",
   "name": "python3"
  },
  "language_info": {
   "codemirror_mode": {
    "name": "ipython",
    "version": 3
   },
   "file_extension": ".py",
   "mimetype": "text/x-python",
   "name": "python",
   "nbconvert_exporter": "python",
   "pygments_lexer": "ipython3",
   "version": "3.7.7"
  }
 },
 "nbformat": 4,
 "nbformat_minor": 4
}
