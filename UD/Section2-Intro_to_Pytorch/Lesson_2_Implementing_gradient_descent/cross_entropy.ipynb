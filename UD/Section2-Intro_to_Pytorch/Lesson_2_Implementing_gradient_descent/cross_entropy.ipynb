{
 "cells": [
  {
   "cell_type": "markdown",
   "metadata": {},
   "source": [
    "# Cross-Entropy"
   ]
  },
  {
   "cell_type": "code",
   "execution_count": 1,
   "metadata": {},
   "outputs": [],
   "source": [
    "import numpy as np"
   ]
  },
  {
   "cell_type": "code",
   "execution_count": 10,
   "metadata": {},
   "outputs": [],
   "source": [
    "def cross_entropy(Y: list, P: list) -> float:\n",
    "    \"\"\" Calcualtes cross entropy for two classes\n",
    "        Input:\n",
    "              Y: Outcomes\n",
    "              P: Probably of that outcome \n",
    "        Returns: cross-entropy\n",
    "    \"\"\"\n",
    "    Y = np.float_(Y)  # Ensure that all list elements are float\n",
    "    P = np.float_(P)\n",
    "    m = len(P)\n",
    "    \n",
    "    # if label = 1 then Y * log(P)\n",
    "    # if label = 0 then (1-Y) * log(1-P)\n",
    "    ans = -np.sum(Y * np.log(P) + (1 - Y) * np.log(1 - P)) / m\n",
    "    return ans"
   ]
  },
  {
   "cell_type": "code",
   "execution_count": 11,
   "metadata": {},
   "outputs": [
    {
     "name": "stdout",
     "output_type": "stream",
     "text": [
      "0.8494383756383638\n",
      "1.1559171562201318\n",
      "1.4245986642847817\n"
     ]
    }
   ],
   "source": [
    "Y = [.8, .9, .1]\n",
    "PL = [[.7, .6, .8],\n",
    "     [.7, .2, .8],\n",
    "     [.2, .2, .8]]\n",
    "for P in PL:\n",
    "    ans = cross_entropy(Y, P)\n",
    "    print(ans)"
   ]
  },
  {
   "cell_type": "code",
   "execution_count": null,
   "metadata": {},
   "outputs": [],
   "source": []
  }
 ],
 "metadata": {
  "kernelspec": {
   "display_name": "Python 3",
   "language": "python",
   "name": "python3"
  },
  "language_info": {
   "codemirror_mode": {
    "name": "ipython",
    "version": 3
   },
   "file_extension": ".py",
   "mimetype": "text/x-python",
   "name": "python",
   "nbconvert_exporter": "python",
   "pygments_lexer": "ipython3",
   "version": "3.7.7"
  }
 },
 "nbformat": 4,
 "nbformat_minor": 4
}
