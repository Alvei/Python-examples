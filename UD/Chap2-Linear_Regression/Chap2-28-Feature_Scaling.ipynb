{
 "cells": [
  {
   "cell_type": "markdown",
   "metadata": {},
   "source": [
    "# Feature Scaling\n",
    "What is feature scaling? Feature scaling is a way of transforming your data into a common range of values. There are two common scalings:\n",
    "\n",
    "- Standardizing\n",
    "- Normalizing\n",
    "\n",
    "**Standardizing**\n",
    "\n",
    "Standardizing is completed by taking each value of your column, subtracting the mean of the column, and then dividing by the standard deviation of the column. In Python, let's say you have a column in df called height. You could create a standardized height as:\n",
    "\n",
    "`df[\"height_standard\"] = (df[\"height\"] - df[\"height\"].mean()) / df[\"height\"].std()`\n",
    "\n",
    "This will create a new \"standardized\" column where each value is a comparison to the mean of the column, and a new, standardized value can be interpreted as the number of standard deviations the original height was from the mean. This type of feature scaling is by far the most common of all techniques (for the reasons discussed here, but also likely because of precedent).\n",
    "\n",
    "**Normalizing**\n",
    "\n",
    "A second type of feature scaling that is very popular is known as normalizing. With normalizing, data are scaled between 0 and 1. Using the same example as above, we could perform normalizing in Python in the following way:\n",
    "\n",
    "`df[\"height_normal\"] = (df[\"height\"] - df[\"height\"].min()) / (df[\"height\"].max() - df['height'].min())`\n",
    "\n",
    "\n",
    "**When Should I Use Feature Scaling?**\n",
    "\n",
    "In many machine learning algorithms, the result will change depending on the units of your data. This is especially true in two specific cases:\n",
    "\n",
    "- When your algorithm uses a distance-based metric to predict.\n",
    "- When you incorporate regularization.\n",
    "\n",
    "\n",
    "**Distance Based Metrics**\n",
    "\n",
    "In future lessons, you will see one common supervised learning technique that is based on the distance points are from one another called Support Vector Machines (or SVMs). Another technique that involves distance based methods to determine a prediction is k-nearest neighbors (or k-nn). With either of these techniques, choosing not to scale your data may lead to drastically different (and likely misleading) ending predictions.\n",
    "\n",
    "For this reason, choosing some sort of feature scaling is necessary with these distance based techniques.\n",
    "\n",
    "**Regularization**\n",
    "\n",
    "When you start introducing regularization, you will again want to scale the features of your model. The penalty on particular coefficients in regularized linear regression techniques depends largely on the scale associated with the features. When one feature is on a small range, say from 0 to 10, and another is on a large range, say from 0 to 1 000 000, applying regularization is going to unfairly punish the feature with the small range. Features with small ranges need to have larger coefficients compared to features with large ranges in order to have the same effect on the outcome of the data. (Think about how ab = baab=ba for two numbers aa and bb.) Therefore, if regularization could remove one of those two features with the same net increase in error, it would rather remove the small-ranged feature with the large coefficient, since that would reduce the regularization term the most.\n",
    "\n",
    "Again, this means you will want to scale features any time you are applying regularization.\n",
    "\n",
    "A useful [Quora post](https://www.quora.com/Why-do-we-normalize-the-data) on the importance of feature scaling when using regularization.\n",
    "\n",
    "A point raised in the article above is that feature scaling can speed up convergence of your machine learning algorithms, which is an important consideration when you scale machine learning applications.\n",
    "\n",
    "Use the quiz below to get some practice with feature scaling.\n",
    "\n",
    "**Feature Scaling Exercise**\n",
    "\n",
    "Previously, you saw how regularization will remove features from a model (by setting their coefficients to zero) if the penalty for removing them is small. In this exercise, you'll revisit the same dataset as before and see how scaling the features changes which features are favored in a regularization step. See the \"Quiz: Regularization\" page for more details. The only thing different for this quiz compared to the previous one is the addition of a new step after loading the data, where you will use sklearn's StandardScaler to standardize the data before you fit a linear regression model to the data with L1 (Lasso) regularization.\n",
    "\n",
    "Perform the following steps:\n",
    "## 1. Load in the data\n",
    "\n",
    "The data is in the file called 'data.csv'. Note that there's no header row on this file.\n",
    "Split the data so that the six predictor features (first six columns) are stored in X, and the outcome feature (last column) is stored in y."
   ]
  },
  {
   "cell_type": "code",
   "execution_count": 3,
   "metadata": {},
   "outputs": [],
   "source": [
    "import numpy as np\n",
    "import pandas as pd\n",
    "from sklearn.linear_model import Lasso\n",
    "from sklearn.preprocessing import StandardScaler"
   ]
  },
  {
   "cell_type": "code",
   "execution_count": 2,
   "metadata": {},
   "outputs": [
    {
     "name": "stdout",
     "output_type": "stream",
     "text": [
      "(99, 7)\n"
     ]
    },
    {
     "data": {
      "text/html": [
       "<div>\n",
       "<style scoped>\n",
       "    .dataframe tbody tr th:only-of-type {\n",
       "        vertical-align: middle;\n",
       "    }\n",
       "\n",
       "    .dataframe tbody tr th {\n",
       "        vertical-align: top;\n",
       "    }\n",
       "\n",
       "    .dataframe thead th {\n",
       "        text-align: right;\n",
       "    }\n",
       "</style>\n",
       "<table border=\"1\" class=\"dataframe\">\n",
       "  <thead>\n",
       "    <tr style=\"text-align: right;\">\n",
       "      <th></th>\n",
       "      <th>1.25664</th>\n",
       "      <th>2.04978</th>\n",
       "      <th>-6.23640</th>\n",
       "      <th>4.71926</th>\n",
       "      <th>-4.26931</th>\n",
       "      <th>0.20590</th>\n",
       "      <th>12.31798</th>\n",
       "    </tr>\n",
       "  </thead>\n",
       "  <tbody>\n",
       "    <tr>\n",
       "      <th>0</th>\n",
       "      <td>-3.89012</td>\n",
       "      <td>-0.37511</td>\n",
       "      <td>6.14979</td>\n",
       "      <td>4.94585</td>\n",
       "      <td>-3.57844</td>\n",
       "      <td>0.00640</td>\n",
       "      <td>23.67628</td>\n",
       "    </tr>\n",
       "    <tr>\n",
       "      <th>1</th>\n",
       "      <td>5.09784</td>\n",
       "      <td>0.98120</td>\n",
       "      <td>-0.29939</td>\n",
       "      <td>5.85805</td>\n",
       "      <td>0.28297</td>\n",
       "      <td>-0.20626</td>\n",
       "      <td>-1.53459</td>\n",
       "    </tr>\n",
       "    <tr>\n",
       "      <th>2</th>\n",
       "      <td>0.39034</td>\n",
       "      <td>-3.06861</td>\n",
       "      <td>-5.63488</td>\n",
       "      <td>6.43941</td>\n",
       "      <td>0.39256</td>\n",
       "      <td>-0.07084</td>\n",
       "      <td>-24.68670</td>\n",
       "    </tr>\n",
       "    <tr>\n",
       "      <th>3</th>\n",
       "      <td>5.84727</td>\n",
       "      <td>-0.15922</td>\n",
       "      <td>11.41246</td>\n",
       "      <td>7.52165</td>\n",
       "      <td>1.69886</td>\n",
       "      <td>0.29022</td>\n",
       "      <td>17.54122</td>\n",
       "    </tr>\n",
       "    <tr>\n",
       "      <th>4</th>\n",
       "      <td>-2.86202</td>\n",
       "      <td>-0.84337</td>\n",
       "      <td>-1.08165</td>\n",
       "      <td>0.67115</td>\n",
       "      <td>-2.48911</td>\n",
       "      <td>0.52328</td>\n",
       "      <td>9.39789</td>\n",
       "    </tr>\n",
       "  </tbody>\n",
       "</table>\n",
       "</div>"
      ],
      "text/plain": [
       "   1.25664  2.04978  -6.23640  4.71926  -4.26931  0.20590  12.31798\n",
       "0 -3.89012 -0.37511   6.14979  4.94585  -3.57844  0.00640  23.67628\n",
       "1  5.09784  0.98120  -0.29939  5.85805   0.28297 -0.20626  -1.53459\n",
       "2  0.39034 -3.06861  -5.63488  6.43941   0.39256 -0.07084 -24.68670\n",
       "3  5.84727 -0.15922  11.41246  7.52165   1.69886  0.29022  17.54122\n",
       "4 -2.86202 -0.84337  -1.08165  0.67115  -2.48911  0.52328   9.39789"
      ]
     },
     "execution_count": 2,
     "metadata": {},
     "output_type": "execute_result"
    }
   ],
   "source": [
    "# Assign the data to predictor and outcome variables\n",
    "data = pd.read_csv('regularization_data.csv')\n",
    "print(data.shape)\n",
    "data.head()"
   ]
  },
  {
   "cell_type": "code",
   "execution_count": 4,
   "metadata": {},
   "outputs": [
    {
     "name": "stdout",
     "output_type": "stream",
     "text": [
      "<class 'pandas.core.frame.DataFrame'> (99, 6)\n",
      "<class 'pandas.core.series.Series'> (99,)\n"
     ]
    }
   ],
   "source": [
    "X = data.iloc[:,:-1]\n",
    "y = data.iloc[:,-1]\n",
    "print(type(X), X.shape)\n",
    "print(type(y), y.shape)"
   ]
  },
  {
   "cell_type": "markdown",
   "metadata": {},
   "source": [
    "## 2. (NEW) Perform feature scaling on data via standardization\n",
    "\n",
    "Create an instance of sklearn's `StandardScaler` and assign it to the variable scaler. Note it is part of preprocessing module.\n",
    "Compute the scaling parameters by using the `.fit_transform()` method on the predictor feature array, which also returns the predictor variables in their standardized values. Store those standardized values in X_scaled."
   ]
  },
  {
   "cell_type": "code",
   "execution_count": 5,
   "metadata": {},
   "outputs": [
    {
     "name": "stdout",
     "output_type": "stream",
     "text": [
      "<class 'numpy.ndarray'> (99, 6)\n"
     ]
    }
   ],
   "source": [
    "scaler = StandardScaler()\n",
    "X_scaled = scaler.fit_transform(X)\n",
    "print(type(X_scaled), X_scaled.shape)"
   ]
  },
  {
   "cell_type": "markdown",
   "metadata": {},
   "source": [
    "## 3. Fit data using linear regression with Lasso regularization\n",
    "\n",
    "Create an instance of sklearn's `Lasso class` and assign it to the variable lasso_reg. You don't need to set any parameter values: use the default values for the quiz.\n",
    "Use the Lasso object's `.fit()` method to fit the regression model onto the data. Make sure that you apply the fit to the standardized data from the previous step (X_scaled), not the original data."
   ]
  },
  {
   "cell_type": "code",
   "execution_count": 6,
   "metadata": {},
   "outputs": [],
   "source": [
    "lasso_reg = Lasso().fit(X_scaled, y)"
   ]
  },
  {
   "cell_type": "markdown",
   "metadata": {},
   "source": [
    "## 4. Inspect the coefficients of the regression model\n",
    "\n",
    "Obtain the coefficients of the fit regression model using the .coef_ attribute of the Lasso object. Store this in the reg_coef variable: the coefficients will be printed out, and you will use your observations to answer the question at the bottom of the page."
   ]
  },
  {
   "cell_type": "code",
   "execution_count": 7,
   "metadata": {},
   "outputs": [
    {
     "name": "stdout",
     "output_type": "stream",
     "text": [
      "[  0.           3.8596924    9.05021225  -0.         -11.72692976\n",
      "   0.41040086]\n",
      "Train Number of features used: 4\n",
      "Train Set Score: 0.98\n"
     ]
    }
   ],
   "source": [
    "print(lasso_reg.coef_)\n",
    "print(f\"Train Number of features used: {np.sum(lasso_reg.coef_ != 0)}\")\n",
    "print(f\"Train Set Score: {lasso_reg.score(X_scaled, y):.2f}\")"
   ]
  },
  {
   "cell_type": "markdown",
   "metadata": {},
   "source": [
    "When the data's been scaled, the first coefficient is still regularized to 0, but now it's the fourth coefficient (and not the sixth coefficient) that gets set to 0. You might want to explore descriptive statistics for the original data to see how the standardization changed each column."
   ]
  },
  {
   "cell_type": "code",
   "execution_count": null,
   "metadata": {},
   "outputs": [],
   "source": []
  }
 ],
 "metadata": {
  "kernelspec": {
   "display_name": "Python 3",
   "language": "python",
   "name": "python3"
  },
  "language_info": {
   "codemirror_mode": {
    "name": "ipython",
    "version": 3
   },
   "file_extension": ".py",
   "mimetype": "text/x-python",
   "name": "python",
   "nbconvert_exporter": "python",
   "pygments_lexer": "ipython3",
   "version": "3.7.7"
  }
 },
 "nbformat": 4,
 "nbformat_minor": 4
}
