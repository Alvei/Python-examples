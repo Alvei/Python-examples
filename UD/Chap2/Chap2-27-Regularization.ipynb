{
 "cells": [
  {
   "cell_type": "markdown",
   "metadata": {},
   "source": [
    "# Regularization Exercise\n",
    "\n",
    "Regularization in a way is met to \"penalize\" the model for being too complex. the Regulatorization factor is typically the \"sum\" of the coefficient of the model. There are two types of regularization. L1 is the sum of the absolute value of the coefficients whereas L2 is the sum of the square of the coefficients. Often the regularization is called Lambda. A small lambda does not penalize alot whereas a large does.\n",
    "\n",
    "|L1 Regularization           |L2 Regularization         |\n",
    "|------------------------- --|--------------------------|\n",
    "|Computationally innefficient| Computationally efficient|\n",
    "|Sparse Output               | Non-Sparse Output        |\n",
    "|Feature selection           | No feature selection     |\n",
    "\n",
    "Perhaps it's not too surprising at this point, but there are classes in sklearn that will help you perform regularization with your linear regression. You'll get practice with implementing that in this exercise. In this assignment's data.csv, you'll find data for a bunch of points including six predictor variables and one outcome variable. Use sklearn's `Lasso class` to fit a linear regression model to the data, while also using `L1 regularization` to control for model complexity.\n",
    "\n",
    "Can check \"Intro to ML with Python\" page 55\n",
    "\n",
    "Perform the following steps:\n",
    "## 1. Load in the data\n",
    "\n",
    "The data is in the file called 'data.csv'. Note that there's no header row on this file.\n",
    "Split the data so that the six predictor features (first six columns) are stored in X, and the outcome feature (last column) is stored in y.\n"
   ]
  },
  {
   "cell_type": "code",
   "execution_count": 1,
   "metadata": {},
   "outputs": [],
   "source": [
    "import numpy as np\n",
    "import pandas as pd\n",
    "from sklearn.linear_model import Lasso"
   ]
  },
  {
   "cell_type": "code",
   "execution_count": 22,
   "metadata": {},
   "outputs": [
    {
     "name": "stdout",
     "output_type": "stream",
     "text": [
      "(99, 7)\n"
     ]
    },
    {
     "data": {
      "text/html": [
       "<div>\n",
       "<style scoped>\n",
       "    .dataframe tbody tr th:only-of-type {\n",
       "        vertical-align: middle;\n",
       "    }\n",
       "\n",
       "    .dataframe tbody tr th {\n",
       "        vertical-align: top;\n",
       "    }\n",
       "\n",
       "    .dataframe thead th {\n",
       "        text-align: right;\n",
       "    }\n",
       "</style>\n",
       "<table border=\"1\" class=\"dataframe\">\n",
       "  <thead>\n",
       "    <tr style=\"text-align: right;\">\n",
       "      <th></th>\n",
       "      <th>1.25664</th>\n",
       "      <th>2.04978</th>\n",
       "      <th>-6.23640</th>\n",
       "      <th>4.71926</th>\n",
       "      <th>-4.26931</th>\n",
       "      <th>0.20590</th>\n",
       "      <th>12.31798</th>\n",
       "    </tr>\n",
       "  </thead>\n",
       "  <tbody>\n",
       "    <tr>\n",
       "      <th>0</th>\n",
       "      <td>-3.89012</td>\n",
       "      <td>-0.37511</td>\n",
       "      <td>6.14979</td>\n",
       "      <td>4.94585</td>\n",
       "      <td>-3.57844</td>\n",
       "      <td>0.00640</td>\n",
       "      <td>23.67628</td>\n",
       "    </tr>\n",
       "    <tr>\n",
       "      <th>1</th>\n",
       "      <td>5.09784</td>\n",
       "      <td>0.98120</td>\n",
       "      <td>-0.29939</td>\n",
       "      <td>5.85805</td>\n",
       "      <td>0.28297</td>\n",
       "      <td>-0.20626</td>\n",
       "      <td>-1.53459</td>\n",
       "    </tr>\n",
       "    <tr>\n",
       "      <th>2</th>\n",
       "      <td>0.39034</td>\n",
       "      <td>-3.06861</td>\n",
       "      <td>-5.63488</td>\n",
       "      <td>6.43941</td>\n",
       "      <td>0.39256</td>\n",
       "      <td>-0.07084</td>\n",
       "      <td>-24.68670</td>\n",
       "    </tr>\n",
       "    <tr>\n",
       "      <th>3</th>\n",
       "      <td>5.84727</td>\n",
       "      <td>-0.15922</td>\n",
       "      <td>11.41246</td>\n",
       "      <td>7.52165</td>\n",
       "      <td>1.69886</td>\n",
       "      <td>0.29022</td>\n",
       "      <td>17.54122</td>\n",
       "    </tr>\n",
       "    <tr>\n",
       "      <th>4</th>\n",
       "      <td>-2.86202</td>\n",
       "      <td>-0.84337</td>\n",
       "      <td>-1.08165</td>\n",
       "      <td>0.67115</td>\n",
       "      <td>-2.48911</td>\n",
       "      <td>0.52328</td>\n",
       "      <td>9.39789</td>\n",
       "    </tr>\n",
       "  </tbody>\n",
       "</table>\n",
       "</div>"
      ],
      "text/plain": [
       "   1.25664  2.04978  -6.23640  4.71926  -4.26931  0.20590  12.31798\n",
       "0 -3.89012 -0.37511   6.14979  4.94585  -3.57844  0.00640  23.67628\n",
       "1  5.09784  0.98120  -0.29939  5.85805   0.28297 -0.20626  -1.53459\n",
       "2  0.39034 -3.06861  -5.63488  6.43941   0.39256 -0.07084 -24.68670\n",
       "3  5.84727 -0.15922  11.41246  7.52165   1.69886  0.29022  17.54122\n",
       "4 -2.86202 -0.84337  -1.08165  0.67115  -2.48911  0.52328   9.39789"
      ]
     },
     "execution_count": 22,
     "metadata": {},
     "output_type": "execute_result"
    }
   ],
   "source": [
    "# Assign the data to predictor and outcome variables\n",
    "data = pd.read_csv('regularization_data.csv')\n",
    "print(data.shape)\n",
    "data.head()"
   ]
  },
  {
   "cell_type": "code",
   "execution_count": 23,
   "metadata": {},
   "outputs": [
    {
     "name": "stdout",
     "output_type": "stream",
     "text": [
      "<class 'pandas.core.frame.DataFrame'> (99, 6)\n",
      "<class 'pandas.core.series.Series'> (99,)\n"
     ]
    }
   ],
   "source": [
    "X = data.iloc[:,:-1]\n",
    "y = data.iloc[:,-1]\n",
    "print(type(X), X.shape)\n",
    "print(type(y), y.shape)"
   ]
  },
  {
   "cell_type": "markdown",
   "metadata": {},
   "source": [
    "## 2. Fit data using linear regression with Lasso regularization\n",
    "\n",
    "Create an instance of sklearn's Lasso class and assign it to the variable lasso_reg. You don't need to set any parameter values: use the default values for the quiz.\n",
    "Use the Lasso object's `.fit()` method to fit the regression model onto the data.\n"
   ]
  },
  {
   "cell_type": "code",
   "execution_count": 12,
   "metadata": {},
   "outputs": [],
   "source": [
    "# Create the linear regression model with lasso regularization. Fit the  model\n",
    "lasso_reg = Lasso().fit(X, y)"
   ]
  },
  {
   "cell_type": "markdown",
   "metadata": {},
   "source": [
    "## 3. Inspect the coefficients of the regression model\n",
    "\n",
    "Obtain the coefficients of the fit regression model using the `.coef_` attribute of the Lasso object. Store this in the reg_coef variable: the coefficients will be printed out, and you will use your observations to answer the question at the bottom of the page."
   ]
  },
  {
   "cell_type": "code",
   "execution_count": 20,
   "metadata": {},
   "outputs": [
    {
     "name": "stdout",
     "output_type": "stream",
     "text": [
      "[ 0.          2.33659619  2.0140086  -0.05753445 -3.91583673  0.        ]\n"
     ]
    }
   ],
   "source": [
    "# Retrieve and print out the coefficients from the regression model.\n",
    "reg_coef = lasso_reg.coef_\n",
    "print(reg_coef)"
   ]
  },
  {
   "cell_type": "markdown",
   "metadata": {},
   "source": [
    "Lasso regularization has set the coefficients for the first and sixth columns to 0. You might try fitting the model to a standard LinearRegression, to see what those coefficients were before regularization!"
   ]
  },
  {
   "cell_type": "code",
   "execution_count": 19,
   "metadata": {},
   "outputs": [
    {
     "name": "stdout",
     "output_type": "stream",
     "text": [
      "Model Score: 0.99\n",
      "Number of features used: 4\n"
     ]
    }
   ],
   "source": [
    "print(f\"Model Score: {lasso_reg.score(X, y):.2f}\")\n",
    "print(f\"Number of features used: {np.sum(lasso_reg.coef_ != 0)}\")"
   ]
  },
  {
   "cell_type": "markdown",
   "metadata": {},
   "source": [
    "## 4. Redo with Train and Test sets"
   ]
  },
  {
   "cell_type": "code",
   "execution_count": 21,
   "metadata": {},
   "outputs": [],
   "source": [
    "from sklearn.model_selection import train_test_split"
   ]
  },
  {
   "cell_type": "code",
   "execution_count": 24,
   "metadata": {},
   "outputs": [],
   "source": [
    "X_train, X_test, y_train, y_test = train_test_split(X, y, random_state=42)"
   ]
  },
  {
   "cell_type": "code",
   "execution_count": 25,
   "metadata": {},
   "outputs": [
    {
     "name": "stdout",
     "output_type": "stream",
     "text": [
      "<class 'pandas.core.frame.DataFrame'> (74, 6)\n",
      "<class 'pandas.core.series.Series'> (74,)\n",
      "<class 'pandas.core.frame.DataFrame'> (25, 6)\n",
      "<class 'pandas.core.series.Series'> (25,)\n"
     ]
    }
   ],
   "source": [
    "print(type(X_train), X_train.shape)\n",
    "print(type(y_train), y_train.shape)\n",
    "print(type(X_test), X_test.shape)\n",
    "print(type(y_test), y_test.shape)"
   ]
  },
  {
   "cell_type": "code",
   "execution_count": 26,
   "metadata": {},
   "outputs": [
    {
     "name": "stdout",
     "output_type": "stream",
     "text": [
      "[ 0.          2.37063394  2.06704239 -0.03967225 -3.91014885  0.        ]\n",
      "Train Number of features used: 4\n",
      "Train Set Score: 0.99\n",
      "Test Set Score: 0.98\n"
     ]
    }
   ],
   "source": [
    "lasso_reg2 = Lasso().fit(X_train, y_train)\n",
    "print(lasso_reg2.coef_)\n",
    "print(f\"Train Number of features used: {np.sum(lasso_reg2.coef_ != 0)}\")\n",
    "print(f\"Train Set Score: {lasso_reg2.score(X_train, y_train):.2f}\")\n",
    "print(f\"Test Set Score: {lasso_reg2.score(X_test, y_test):.2f}\")"
   ]
  }
 ],
 "metadata": {
  "kernelspec": {
   "display_name": "Python 3",
   "language": "python",
   "name": "python3"
  },
  "language_info": {
   "codemirror_mode": {
    "name": "ipython",
    "version": 3
   },
   "file_extension": ".py",
   "mimetype": "text/x-python",
   "name": "python",
   "nbconvert_exporter": "python",
   "pygments_lexer": "ipython3",
   "version": "3.7.7"
  }
 },
 "nbformat": 4,
 "nbformat_minor": 4
}
