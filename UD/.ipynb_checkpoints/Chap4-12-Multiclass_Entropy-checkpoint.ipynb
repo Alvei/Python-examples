{
 "cells": [
  {
   "cell_type": "markdown",
   "metadata": {},
   "source": [
    "# Multi-class Entropy\n",
    "Last time, you saw this equation for entropy for a bucket with $m$ red balls and $n$ blue balls:\n",
    "\n",
    "$entropy = -\\frac{m}{m+n}log_2(\\frac{m}{m+n}) -\\frac{n}{m+n}log_2(\\frac{n}{m+n})$\n",
    "\n",
    "\n",
    "We can state this in terms of probabilities instead for the number of red balls as $p_1$\n",
    "and the number of blue balls as $p_2$:\n",
    "\n",
    ">$p_1 = \\frac{m}{(m+n)}$\n",
    "\n",
    ">$p_2 = \\frac{n}{(m+n)}$\n",
    "\n",
    "\n",
    "$entropy = -p_1\\log_2(p_1)-p_2\\log_2(p_2)$\n",
    "\n",
    "This entropy equation can be extended to the multi-class case, where we have three or more possible values:\n",
    "\n",
    "$entropy = -p_1\\log_2(p_1) - p_2\\log_2(p_2) - ... - p_n\\log_2(p_n) = -\\sum\\limits_{i=1}^n p_i\\log_2(p_i)$\n",
    "\n",
    "\n",
    "The minimum value is still 0, when all elements are of the same value. The maximum value is still achieved when the outcome probabilities are the same, but the upper limit increases with the number of different outcomes. (For example, you can verify the maximum entropy is 2 if there are four different possibilities, each with probability 0.25.)\n",
    "\n",
    "If we have a bucket with eight red balls, three blue balls, and two yellow balls, what is the entropy of the set of balls? Input your answer to at least three decimal places."
   ]
  },
  {
   "cell_type": "markdown",
   "metadata": {},
   "source": [
    "If we have a bucket with eight red balls, three blue balls, and two yellow balls, what is the entropy of the set of balls? Input your answer to at least three decimal places."
   ]
  },
  {
   "cell_type": "code",
   "execution_count": null,
   "metadata": {},
   "outputs": [],
   "source": []
  }
 ],
 "metadata": {
  "kernelspec": {
   "display_name": "Python 3",
   "language": "python",
   "name": "python3"
  },
  "language_info": {
   "codemirror_mode": {
    "name": "ipython",
    "version": 3
   },
   "file_extension": ".py",
   "mimetype": "text/x-python",
   "name": "python",
   "nbconvert_exporter": "python",
   "pygments_lexer": "ipython3",
   "version": "3.7.7"
  }
 },
 "nbformat": 4,
 "nbformat_minor": 4
}
