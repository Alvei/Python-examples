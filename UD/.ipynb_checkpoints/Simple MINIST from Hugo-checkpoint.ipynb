{
 "cells": [
  {
   "cell_type": "markdown",
   "metadata": {},
   "source": [
    "# Simple implementation of MNIST by Hugo\n"
   ]
  },
  {
   "cell_type": "code",
   "execution_count": 7,
   "metadata": {},
   "outputs": [],
   "source": [
    "import torch\n",
    "from torch import nn\n",
    "import torch.nn.functional as F\n",
    "from torchvision import datasets, transforms  # Consists datasets, model architectures, image transformations for computer vision\n",
    "from torch import optim\n",
    "\n",
    "%matplotlib inline\n",
    "%config InlineBackend.figure_format = 'retina'\n",
    "import matplotlib.pyplot as plt\n",
    "\n",
    "import helper    # Not a standard library but one created by Udacity"
   ]
  },
  {
   "cell_type": "markdown",
   "metadata": {},
   "source": [
    "## Load the data\n",
    "Here we'll use the MNIST dataset which consists of greyscale handwritten digits. Each image is 28x28 pixels. We only need the train dataset for this example.\n",
    "* Definine a transform function which converts the PIL data to tensors and does some normalization. Normalization requires mean and standard deviation. Each is a tuple with values for each channel. Our image has only one channel therefore it is (0.5,)\n",
    "* Dowload the dataset and do the transformation. The first argument is where you want to store the data, download=True means that we want to save the data locally, train=True means download the training set and not the testingset\n",
    "* Convert into an dataloader. The batch size is the number of images we get in one iteration from the data loader and pass through our network, often called a batch. And shuffle=True tells it to shuffle the dataset every time we start going through the data loader again. \n",
    "\n",
    "[intro to MNIST](https://nextjournal.com/gkoehler/pytorch-mnist)\n",
    "\n",
    "[intro to dataloader](https://towardsdatascience.com/pytorch-basics-intro-to-dataloaders-and-loss-functions-868e86450047)"
   ]
  },
  {
   "cell_type": "code",
   "execution_count": 2,
   "metadata": {},
   "outputs": [],
   "source": [
    "transform = transforms.Compose([transforms.ToTensor(),\n",
    "                                transforms.Normalize((0.5,), (0.5,)),\n",
    "                              ])\n",
    "trainset = datasets.MNIST('~/.pytorch/MNIST_data/', download=True, train=True, transform=transform)\n",
    "trainloader = torch.utils.data.DataLoader(trainset, batch_size=64, shuffle=True)"
   ]
  },
  {
   "cell_type": "markdown",
   "metadata": {},
   "source": [
    "## Checking the data\n",
    "Looking at the data we got in a few different ways. \n",
    "* trainloader is a special type of object\n",
    "* trainiter is now a iterable object \n",
    "* Shape has 64 rows which is consistent with the batch size. Then for the image we see that we have 1 channel and 28X28 pixels\n",
    "* imshow() takes the 2nd image, converts it from PIL to numpy array. squeeze() removes the extra array parathesis [[x]] to [x]. cmap is the color map."
   ]
  },
  {
   "cell_type": "code",
   "execution_count": 27,
   "metadata": {},
   "outputs": [
    {
     "name": "stdout",
     "output_type": "stream",
     "text": [
      "trainloader is a:\t<torch.utils.data.dataloader.DataLoader object at 0x0000021528710A88> of size 938\n",
      "dataiter is a:\t\t<class 'torch.utils.data.dataloader._SingleProcessDataLoaderIter'> of size 938\n",
      "images is a: <class 'torch.Tensor'> and labels is a: <class 'torch.Tensor'>\n",
      "Shape of image: torch.Size([64, 1, 28, 28]) and labels: torch.Size([64])\n"
     ]
    },
    {
     "data": {
      "image/png": "[encoded data removed]",
      "text/plain": [
       "<Figure size 432x288 with 1 Axes>"
      ]
     },
     "metadata": {
      "image/png": {
       "height": 248,
       "width": 251
      },
      "needs_background": "light"
     },
     "output_type": "display_data"
    }
   ],
   "source": [
    "dataiter = iter(trainloader)       # iter() function returns an iterator for the given object\n",
    "images, labels = dataiter.next()   # Grabing one batch from iterator\n",
    "print(f\"trainloader is a:\\t{trainloader} of size {len(trainloader)}\")\n",
    "print(f\"dataiter is a:\\t\\t{type(dataiter)} of size {len(dataiter)}\")\n",
    "print(f\"images is a: {type(images)} and labels is a: {type(labels)}\")\n",
    "print(f\"Shape of image: {images.shape} and labels: {labels.shape}\")\n",
    "\n",
    "plt.imshow(images[1].numpy().squeeze(), cmap='Greys_r');"
   ]
  },
  {
   "cell_type": "markdown",
   "metadata": {},
   "source": [
    "## Building the model\n",
    "We can now shift our attention to buiding the model using nn.Sequential. It takes a list of a transformation). We are assuming that we will get a vector input with 784 inputs (28*28) then via two hidden layers reduce it to the 10 outputs. The size of the hidden layer is chosen from experience but the 1st one is 128 and the 2nd one is 64. The activation functions is also chosen from experience in this case we chose ReLU for the 1st hidden layer than LogSoftmax.\n",
    "\n",
    "It i more convenient to build the model with a log-softmax output using nn.LogSoftmax. Then you can get the actual probabilities by taking the exponential torch.exp(output). With a log-softmax output, you want to use the negative log likelihood loss, nn.NLLLoss. \n",
    "\n",
    "As an optimizer we use the Schotastic Gradient descent. It will be the object that will keep track of the gradients that need to be re- zeroed."
   ]
  },
  {
   "cell_type": "code",
   "execution_count": 14,
   "metadata": {},
   "outputs": [],
   "source": [
    "model = nn.Sequential(nn.Linear(784, 128),\n",
    "                      nn.ReLU(),\n",
    "                      nn.Linear(128, 64),\n",
    "                      nn.ReLU(),\n",
    "                      nn.Linear(64, 10),\n",
    "                      nn.LogSoftmax(dim=1))\n",
    "\n",
    "criterion = nn.NLLLoss()\n",
    "optimizer = optim.SGD(model.parameters(), lr=0.003)"
   ]
  },
  {
   "cell_type": "markdown",
   "metadata": {},
   "source": [
    "## Training the model\n",
    "Will perform a number of iteration across all the 938 images. In e\n",
    "\n",
    "[loss.item()](https://discuss.pytorch.org/t/what-is-loss-item/61218)"
   ]
  },
  {
   "cell_type": "code",
   "execution_count": 18,
   "metadata": {},
   "outputs": [
    {
     "name": "stdout",
     "output_type": "stream",
     "text": [
      "Training loss: 0.36014693388457236 938\n",
      "Training loss: 0.3411630002547429 938\n",
      "Training loss: 0.3264919398451792 938\n",
      "Training loss: 0.3149353564420997 938\n",
      "Training loss: 0.3050193067457376 938\n"
     ]
    }
   ],
   "source": [
    "epochs = 5\n",
    "for _ in range(epochs):\n",
    "    running_loss = 0\n",
    "  \n",
    "    for images, labels in trainloader:              # It will iterate 938 times since that is size of trainloader\n",
    "        images = images.view(images.shape[0], -1)   # Flatten MNIST images into a 784 long vector\n",
    "    \n",
    "        optimizer.zero_grad()                       # Reset the gradients during each epoch\n",
    "        outputs = model.forward(images)             # Run the forward pass of the model\n",
    "        loss = criterion(outputs, labels)           # Question: why are log probability in same unit as labels?\n",
    "        loss.backward()                             # Run the back-propagation pass of with the gradient\n",
    "        optimizer.step()                            # Update the parameters\n",
    "        \n",
    "        running_loss += loss.item()                 # .item() is returns a scalar/float of the loss the image\n",
    "\n",
    "    else:\n",
    "        print(f\"Training loss: {running_loss/len(trainloader)}\")"
   ]
  },
  {
   "cell_type": "markdown",
   "metadata": {},
   "source": [
    "# Testing the model\n",
    "Download a new image which should be flatten. "
   ]
  },
  {
   "cell_type": "code",
   "execution_count": 5,
   "metadata": {},
   "outputs": [
    {
     "data": {
      "image/png": "[encoded data removed]",
      "text/plain": [
       "<Figure size 432x648 with 2 Axes>"
      ]
     },
     "metadata": {
      "needs_background": "light"
     },
     "output_type": "display_data"
    }
   ],
   "source": [
    "images, labels = next(iter(trainloader))        # Get a new batch of images from the loader\n",
    "img = images[0].view(1, 784)                    # flatten\n",
    "\n",
    "with torch.no_grad():                           # Turn off gradients to speed up this part\n",
    "    logps = model(img)                          # Run the model, need to take exponential of the values to get probabilities \n",
    "\n",
    "# Output of the network are log-probabilities, need to take exponential for probabilities\n",
    "ps = torch.exp(logps)\n",
    "helper.view_classify(img.view(1, 28, 28), ps)   # Using Udacity module to print results"
   ]
  },
  {
   "cell_type": "code",
   "execution_count": null,
   "metadata": {},
   "outputs": [],
   "source": []
  }
 ],
 "metadata": {
  "kernelspec": {
   "display_name": "Python 3",
   "language": "python",
   "name": "python3"
  },
  "language_info": {
   "codemirror_mode": {
    "name": "ipython",
    "version": 3
   },
   "file_extension": ".py",
   "mimetype": "text/x-python",
   "name": "python",
   "nbconvert_exporter": "python",
   "pygments_lexer": "ipython3",
   "version": "3.7.7"
  }
 },
 "nbformat": 4,
 "nbformat_minor": 4
}
