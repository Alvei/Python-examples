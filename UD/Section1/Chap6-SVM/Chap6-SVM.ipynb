{
 "cells": [
  {
   "cell_type": "markdown",
   "metadata": {},
   "source": [
    "# Chap6-17 Support Vector Machines in sklearn\n",
    "[Statistical] (http://faculty.marshall.usc.edu/gareth-james/)"
   ]
  },
  {
   "cell_type": "code",
   "execution_count": 1,
   "metadata": {},
   "outputs": [],
   "source": [
    "# Import statements \n",
    "from sklearn.svm import SVC\n",
    "from sklearn.metrics import accuracy_score\n",
    "import pandas as pd\n",
    "import numpy as np\n"
   ]
  },
  {
   "cell_type": "code",
   "execution_count": 9,
   "metadata": {},
   "outputs": [],
   "source": [
    "import matplotlib.pyplot as plt\n",
    "%matplotlib inline"
   ]
  },
  {
   "cell_type": "code",
   "execution_count": 23,
   "metadata": {},
   "outputs": [
    {
     "name": "stdout",
     "output_type": "stream",
     "text": [
      "<class 'numpy.ndarray'>\n",
      "(96, 3)\n"
     ]
    }
   ],
   "source": [
    "# Read the data.\n",
    "data = np.asarray(pd.read_csv('chap6_data.csv', header=None))\n",
    "print(type(data))\n",
    "print(data.shape)"
   ]
  },
  {
   "cell_type": "code",
   "execution_count": 26,
   "metadata": {},
   "outputs": [
    {
     "data": {
      "text/plain": [
       "96"
      ]
     },
     "execution_count": 26,
     "metadata": {},
     "output_type": "execute_result"
    }
   ],
   "source": [
    "# Use mask to identify to help create two datasets and facilitate ploting\n",
    "blue_mask = data[:,2] == 0\n",
    "blue = data[blue_mask]\n",
    "red = data[~blue_mask]\n",
    "len(red)+len(blue)"
   ]
  },
  {
   "cell_type": "code",
   "execution_count": 7,
   "metadata": {},
   "outputs": [],
   "source": [
    "# Assign the features to the variable X, and the labels to the variable y. \n",
    "X = data[:,0:2]\n",
    "y = data[:,2]"
   ]
  },
  {
   "cell_type": "code",
   "execution_count": 33,
   "metadata": {},
   "outputs": [
    {
     "data": {
      "text/plain": [
       "Text(0, 0.5, 'X2')"
      ]
     },
     "execution_count": 33,
     "metadata": {},
     "output_type": "execute_result"
    },
    {
     "data": {
      "image/png": "[encoded data removed]",
      "text/plain": [
       "<Figure size 432x288 with 1 Axes>"
      ]
     },
     "metadata": {
      "needs_background": "light"
     },
     "output_type": "display_data"
    }
   ],
   "source": [
    "plt.scatter(red[:,0], red[:,1] , color = 'red')\n",
    "plt.scatter(blue[:,0], blue[:,1] , color = 'blue')\n",
    "plt.xlabel('X1')\n",
    "plt.ylabel('X2')"
   ]
  },
  {
   "cell_type": "markdown",
   "metadata": {},
   "source": [
    "**Hyperparameters**\n",
    "When we define the model, we can specify the hyperparameters. As we've seen in this section, the most common ones are\n",
    "\n",
    "- C: The C parameter.\n",
    "- kernel: The kernel. The most common ones are 'linear', 'poly', and 'rbf'.\n",
    "- degree: If the kernel is polynomial, this is the maximum degree of the monomials in the kernel.\n",
    "- gamma : If the kernel is rbf, this is the gamma parameter.\n",
    "\n",
    "For example, here we define a model with a polynomial kernel of degree 4, and a C parameter of 0.1."
   ]
  },
  {
   "cell_type": "code",
   "execution_count": 30,
   "metadata": {},
   "outputs": [],
   "source": [
    "# Create the model and assign it to the variable model.\n",
    "# Find the right parameters for this model to achieve 100% accuracy on the dataset.\n",
    "model = SVC(kernel='rbf', gamma=27)"
   ]
  },
  {
   "cell_type": "code",
   "execution_count": 41,
   "metadata": {},
   "outputs": [
    {
     "name": "stdout",
     "output_type": "stream",
     "text": [
      "1.0\n"
     ]
    }
   ],
   "source": [
    "# Fit the model.\n",
    "model.fit(X, y)\n",
    "\n",
    "# Make predictions. Store them in the variable y_pred.\n",
    "y_pred = model.predict(X)\n",
    "\n",
    "# TCalculate the accuracy and assign it to the variable acc.\n",
    "acc = accuracy_score(y, y_pred)\n",
    "print(acc)"
   ]
  },
  {
   "cell_type": "markdown",
   "metadata": {},
   "source": [
    "object that are of interest when you want to do something with the support vectors of your model:\n",
    "\n",
    "- The `support_` variable, which holds the index numbers of the samples from your training set that were found to be the support vectors.\n",
    "- The `n_support_` variable, which produces the number of support vectors for every class.\n",
    "- The `support_vectors_` variable, which produces the support vectors themselves – so that you don’t need to perform an array search after using support_.\n",
    "[Example](https://www.machinecurve.com/index.php/2020/05/05/how-to-visualize-support-vectors-of-your-svm-classifier/)"
   ]
  },
  {
   "cell_type": "code",
   "execution_count": 38,
   "metadata": {},
   "outputs": [
    {
     "name": "stdout",
     "output_type": "stream",
     "text": [
      "[ 0  1  2  3  4  5  6  7 10 11 16 17 18 19 20 21 22 23 25 26 27 33 34 37\n",
      " 39 41 42 43 44 46 47 53 54 55 56 58 61 62 63 64 65 71 75 79 80 83 84 88]\n",
      "[21 27]\n"
     ]
    }
   ],
   "source": [
    "support_vector_indices = model.support_      # Get support vector indices\n",
    "print(support_vector_indices)\n",
    "support_vectors_per_class = model.n_support_ # Get number of support vectors per class\n",
    "print(support_vectors_per_class)\n",
    "support_vectors = model.support_vectors_     # Get support vectors themselves"
   ]
  },
  {
   "cell_type": "code",
   "execution_count": 40,
   "metadata": {},
   "outputs": [
    {
     "data": {
      "text/plain": [
       "Text(0, 0.5, 'X2')"
      ]
     },
     "execution_count": 40,
     "metadata": {},
     "output_type": "execute_result"
    },
    {
     "data": {
      "image/png": "[encoded data removed]",
      "text/plain": [
       "<Figure size 432x288 with 1 Axes>"
      ]
     },
     "metadata": {
      "needs_background": "light"
     },
     "output_type": "display_data"
    }
   ],
   "source": [
    "plt.scatter(X[:,0], X[:,1], color='red')\n",
    "plt.scatter(support_vectors[:,0], support_vectors[:,1], color='blue')\n",
    "plt.title('SVM')\n",
    "plt.xlabel('X1')\n",
    "plt.ylabel('X2')"
   ]
  },
  {
   "cell_type": "code",
   "execution_count": null,
   "metadata": {},
   "outputs": [],
   "source": []
  }
 ],
 "metadata": {
  "kernelspec": {
   "display_name": "Python 3",
   "language": "python",
   "name": "python3"
  },
  "language_info": {
   "codemirror_mode": {
    "name": "ipython",
    "version": 3
   },
   "file_extension": ".py",
   "mimetype": "text/x-python",
   "name": "python",
   "nbconvert_exporter": "python",
   "pygments_lexer": "ipython3",
   "version": "3.7.7"
  }
 },
 "nbformat": 4,
 "nbformat_minor": 4
}
