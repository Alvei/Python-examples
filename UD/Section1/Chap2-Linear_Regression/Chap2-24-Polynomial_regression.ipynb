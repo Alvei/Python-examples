{
 "cells": [
  {
   "cell_type": "markdown",
   "metadata": {},
   "source": [
    "# Polynomial Regression Exercise\n",
    "Get some practice implementing polynomial regression in this exercise. In data.csv, you can see data generated for one predictor feature ('Var_X') and one outcome feature ('Var_Y'), following a non-linear trend. Use sklearn's `PolynomialFeatures class` to extend the predictor feature column into multiple columns with polynomial features. Play around with different degrees of polynomial.\n",
    "\n",
    "Perform the following steps below:\n",
    "## 1. Load in the data\n",
    "\n",
    "The data is in the file called 'data.csv'. Note that this data has a header line.\n",
    "Make sure that you've split out the data into the predictor feature in X and outcome feature in y.\n",
    "For X, make sure it is in a 2-d array of 20 rows by 1 column. You might need to use NumPy's reshape function to accomplish this. Note that PolynomialFeatures is in the preprocessing module."
   ]
  },
  {
   "cell_type": "code",
   "execution_count": 6,
   "metadata": {},
   "outputs": [],
   "source": [
    "import numpy as np\n",
    "import pandas as pd\n",
    "from sklearn.linear_model import LinearRegression\n",
    "from sklearn.preprocessing import PolynomialFeatures\n",
    "import matplotlib.pyplot as plt\n",
    "%matplotlib inline"
   ]
  },
  {
   "cell_type": "code",
   "execution_count": 7,
   "metadata": {},
   "outputs": [
    {
     "name": "stdout",
     "output_type": "stream",
     "text": [
      "<class 'numpy.ndarray'> (20, 1)\n",
      "<class 'numpy.ndarray'> (20,)\n",
      "<class 'numpy.ndarray'> (20, 1)\n"
     ]
    }
   ],
   "source": [
    "# Assign the data to predictor and outcome variables\n",
    "train_data = pd.read_csv('Poly_data.csv')\n",
    "X = train_data['Var_X'].values.reshape(-1, 1)\n",
    "y = train_data['Var_Y'].values\n",
    "print(type(X), X.shape)\n",
    "print(type(y), y.shape)\n",
    "\n",
    "# Reshape is required to convert the X into a 2D array. -1 means stay same, 1 means add\n",
    "X = train_data['Var_X'].values.reshape(-1, 1)\n",
    "print(type(X), X.shape)"
   ]
  },
  {
   "cell_type": "markdown",
   "metadata": {},
   "source": [
    "## 2. Create polynomial features\n",
    "\n",
    "Create an instance of sklearn's `PolynomialFeatures class` and assign it to the variable poly_feat. Pay attention to how to set the degree of features, since that will be how the exercise is evaluated.\n",
    "Create the polynomial features by using the `PolynomialFeatures` object's `.fit_transform()` method. The \"fit\" side of the method considers how many features are needed in the output, and the \"transform\" side applies those considerations to the data provided to the method as an argument. Assign the new feature matrix to the X_poly variable. Note now that the X variable that contains the features has the original feature and now degree=4 more columns of features. The `.fit_transform()` creates the features. [scikit Lean PolynomialFeatures](https://scikit-learn.org/stable/modules/generated/sklearn.preprocessing.PolynomialFeatures.html)"
   ]
  },
  {
   "cell_type": "code",
   "execution_count": 8,
   "metadata": {},
   "outputs": [
    {
     "name": "stdout",
     "output_type": "stream",
     "text": [
      "(20, 5)\n"
     ]
    }
   ],
   "source": [
    "# Create a PolynomialFeatures object, then fit and transform the predictor feature\n",
    "poly_feat = PolynomialFeatures(degree = 4)\n",
    "X_poly = poly_feat.fit_transform(X)\n",
    "print(X_poly.shape)"
   ]
  },
  {
   "cell_type": "markdown",
   "metadata": {},
   "source": [
    "## 3. Build a polynomial regression model\n",
    "\n",
    "Create a polynomial regression model by combining sklearn's LinearRegression class with the polynomial features. Assign the fit model to poly_model.  In declaring the model, use fit_intercept as False to not try to cross the y-axis. Then fit the model using the X_poly feature matrix and the know outcome. This has become a multivariable linear regression where the new dimensions on the factors from the polynomial."
   ]
  },
  {
   "cell_type": "code",
   "execution_count": 19,
   "metadata": {},
   "outputs": [],
   "source": [
    "poly_model = LinearRegression(fit_intercept = False).fit(X_poly, y)"
   ]
  },
  {
   "cell_type": "code",
   "execution_count": 20,
   "metadata": {},
   "outputs": [
    {
     "name": "stdout",
     "output_type": "stream",
     "text": [
      "(12,)\n",
      "(12, 5)\n",
      "(12,)\n"
     ]
    }
   ],
   "source": [
    "# Create a list of values to predict that is in ascending order\n",
    "x_pred = np.arange(-3, 3, .5)\n",
    "print(x_pred.shape)\n",
    "\n",
    "# Convert them into polynomial matrices to be use with the model, Make sure x_pred is a matrix\n",
    "X_pred = poly_feat.fit_transform(x_pred.reshape(-1,1))\n",
    "print(X_pred.shape)\n",
    "\n",
    "y_pred = poly_model.predict(X_pred)\n",
    "print(y_pred.shape)"
   ]
  },
  {
   "cell_type": "code",
   "execution_count": 22,
   "metadata": {},
   "outputs": [
    {
     "data": {
      "text/plain": [
       "Text(0, 0.5, 'y')"
      ]
     },
     "execution_count": 22,
     "metadata": {},
     "output_type": "execute_result"
    },
    {
     "data": {
      "image/png": "[encoded data removed]",
      "text/plain": [
       "<Figure size 432x288 with 1 Axes>"
      ]
     },
     "metadata": {
      "needs_background": "light"
     },
     "output_type": "display_data"
    }
   ],
   "source": [
    "plt.scatter(X, y, color = 'red')\n",
    "plt.plot(x_pred, y_pred)  # use x_pred and not X_pred since only one the value of x not the feature matrix\n",
    "plt.title('Polynomial regression')\n",
    "plt.xlabel('x_pred')\n",
    "plt.ylabel('y')"
   ]
  },
  {
   "cell_type": "code",
   "execution_count": null,
   "metadata": {},
   "outputs": [],
   "source": []
  }
 ],
 "metadata": {
  "kernelspec": {
   "display_name": "Python 3",
   "language": "python",
   "name": "python3"
  },
  "language_info": {
   "codemirror_mode": {
    "name": "ipython",
    "version": 3
   },
   "file_extension": ".py",
   "mimetype": "text/x-python",
   "name": "python",
   "nbconvert_exporter": "python",
   "pygments_lexer": "ipython3",
   "version": "3.7.7"
  }
 },
 "nbformat": 4,
 "nbformat_minor": 4
}
