{
 "cells": [
  {
   "cell_type": "markdown",
   "metadata": {},
   "source": [
    "# Mean vs Total Squared (or Absolute) Error\n",
    "A potential confusion is the following: How do we know if we should use the mean or the total squared (or absolute) error?\n",
    "\n",
    "The total squared error is the sum of errors at each point, given by the following equation:\n",
    "\n",
    "$M = \\sum_{i=1}^m \\frac{1}{2} (y - \\hat{y})^2,$\n",
    "\n",
    "whereas the mean squared error is the average of these errors, given by the equation, where mm is the number of points:\n",
    "\n",
    "$T = \\sum_{i=1}^m \\frac{1}{2m}(y - \\hat{y})^2.$\n",
    "\n",
    "The good news is, it doesn't really matter. As we can see, the total squared error is just a multiple of the mean squared error, since\n",
    "\n",
    "$M = mT.$\n",
    "\n",
    "Therefore, since derivatives are linear functions, the gradient of $T$ is also mm times the gradient of $M$.\n",
    "\n",
    "However, the gradient descent step consists of subtracting the gradient of the error times the learning rate \\alphaα. Therefore, choosing between the mean squared error and the total squared error really just amounts to picking a different learning rate.\n",
    "\n",
    "In real life, we'll have algorithms that will help us determine a good learning rate to work with. Therefore, if we use the mean error or the total error, the algorithm will just end up picking a different learning rate."
   ]
  },
  {
   "cell_type": "code",
   "execution_count": null,
   "metadata": {},
   "outputs": [],
   "source": []
  }
 ],
 "metadata": {
  "kernelspec": {
   "display_name": "Python 3",
   "language": "python",
   "name": "python3"
  },
  "language_info": {
   "codemirror_mode": {
    "name": "ipython",
    "version": 3
   },
   "file_extension": ".py",
   "mimetype": "text/x-python",
   "name": "python",
   "nbconvert_exporter": "python",
   "pygments_lexer": "ipython3",
   "version": "3.7.7"
  }
 },
 "nbformat": 4,
 "nbformat_minor": 4
}
