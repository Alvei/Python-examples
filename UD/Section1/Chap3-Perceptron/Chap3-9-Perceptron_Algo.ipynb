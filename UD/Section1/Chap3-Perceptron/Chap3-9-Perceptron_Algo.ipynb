{
 "cells": [
  {
   "cell_type": "markdown",
   "metadata": {},
   "source": [
    "# Coding the Perceptron Algorithm\n",
    "Time to code! In this quiz, you'll have the chance to implement the perceptron algorithm to separate the following data (given in the file data.csv)."
   ]
  },
  {
   "cell_type": "markdown",
   "metadata": {},
   "source": [
    "Recall that the perceptron step works as follows. For a point with coordinates $(p,q)$, label $y$, and prediction given by the equation $\\hat{y} = step(w_1x_1 + w_2x_2 + b)$ :\n",
    "\n",
    "If the point is correctly classified, do nothing.\n",
    "If the point is classified positive, but it has a negative label, **subtract** $\\alpha p, \\alpha q$, and $\\alpha$ from $w_1, w_2$, and $b$ respectively.\n",
    "\n",
    "If the point is classified negative, but it has a positive label, **add** $\\alpha p, \\alpha q$, and $\\alpha$ to $w_1, w_2$, and $b$ respectively.\n",
    "\n",
    "Then click on test run to graph the solution that the perceptron algorithm gives you. It'll actually draw a set of dotted lines, that show how the algorithm approaches to the best solution, given by the black solid line.\n",
    "\n",
    "Feel free to play with the parameters of the algorithm (number of epochs, learning rate, and even the randomizing of the initial parameters) to see how your initial conditions can affect the solution!"
   ]
  },
  {
   "cell_type": "code",
   "execution_count": 7,
   "metadata": {},
   "outputs": [],
   "source": [
    "import numpy as np\n",
    "import pandas as pd\n",
    "# Setting the random seed, feel free to change it and see different solutions.\n",
    "np.random.seed(42)"
   ]
  },
  {
   "cell_type": "code",
   "execution_count": 112,
   "metadata": {},
   "outputs": [],
   "source": [
    "def stepFunction(t: float) -> int:\n",
    "    \"\"\" Returns 1 if t is positive, 0 otherwise. \"\"\"\n",
    "    if t >= 0:\n",
    "        return 1\n",
    "    return 0\n",
    "\n",
    "def prediction(X, W, b) -> int:\n",
    "    \"\"\" Calculate the prediction. The calculation is then converted by the stepFunction\"\"\"\n",
    "    return stepFunction((np.matmul(X,W)+b)[0])"
   ]
  },
  {
   "cell_type": "code",
   "execution_count": 131,
   "metadata": {},
   "outputs": [],
   "source": [
    "def perceptronStep(X, y, W, b, learn_rate = 0.01):\n",
    "    \"\"\" Update the weights and biases (W, b) for each of the points in the wrong place.\n",
    "        according to the perceptron algorithm, and return the new W and b.\n",
    "        Parameters: data X, labels y, weights W (as an array), and bias b.\n",
    "    \"\"\"\n",
    "    #print(f\"X: {X.shape}\\ labels: {y.shape} Weights:{W.shape} b:{b}\")\n",
    "    for i in range(len(X)):\n",
    "        # Calculate the expected label\n",
    "        y_hat = prediction(X[i], W, b)\n",
    "        \n",
    "        # Use the perceptron trick to adjust the weights if required (ie not required if difference = 0)\n",
    "        if y[i]-y_hat == 1:\n",
    "            W[0] += X[i][0]*learn_rate\n",
    "            W[1] += X[i][1]*learn_rate\n",
    "            b += learn_rate\n",
    "        elif y[i]-y_hat == -1:\n",
    "            W[0] -= X[i][0]*learn_rate\n",
    "            W[1] -= X[i][1]*learn_rate\n",
    "            b -= learn_rate\n",
    "    return W, b"
   ]
  },
  {
   "cell_type": "code",
   "execution_count": 141,
   "metadata": {},
   "outputs": [],
   "source": [
    "def trainPerceptronAlgorithm(X, label, learn_rate = 0.01, num_epochs = 25) -> list:\n",
    "    \"\"\" Runs the perceptron algorithm repeatedly on the dataset, and returns \n",
    "        a few of the boundary lines obtained in the iterations, for plotting purposes.\n",
    "    \"\"\"\n",
    "    x_min, x_max = min(X.T[0]), max(X.T[0])  # The 1st column is x\n",
    "    y_min, y_max = min(X.T[1]), max(X.T[1])  # The 2nd column is y\n",
    "    W = np.array(np.random.rand(2,1))        # Initialize the array of weights with random numbers\n",
    "    b = np.random.rand(1)[0] + x_max         # Initialize the array of bias/intercept with random numbers\n",
    "    \n",
    "    # These are the solution lines that get plotted below\n",
    "    boundary_lines = []\n",
    "    print(f\"X: {X.shape} labels: {label.shape} weights:{W.shape}\")\n",
    "    for i in range(num_epochs):\n",
    "        print(f\"i: {i} Weights:{W[0]}{W[1]} b:{b:.3f}\")\n",
    "        # In each epoch, we apply the perceptron step.\n",
    "        W, b = perceptronStep(X, label, W, b, learn_rate)\n",
    "        boundary_lines.append((-W[0]/W[1], -b/W[1]))\n",
    "    return boundary_lines   # slope and intercept divided by the weight of the y"
   ]
  },
  {
   "cell_type": "markdown",
   "metadata": {},
   "source": [
    "## Use the various functions\n",
    "Start by read the data. [x, y, label]."
   ]
  },
  {
   "cell_type": "code",
   "execution_count": 121,
   "metadata": {},
   "outputs": [],
   "source": [
    "data = pd.read_csv('Perceptron_data.csv', names = ['x','y', 'label'])"
   ]
  },
  {
   "cell_type": "code",
   "execution_count": 122,
   "metadata": {},
   "outputs": [
    {
     "data": {
      "text/plain": [
       "(100, 3)"
      ]
     },
     "execution_count": 122,
     "metadata": {},
     "output_type": "execute_result"
    }
   ],
   "source": [
    "data.shape"
   ]
  },
  {
   "cell_type": "code",
   "execution_count": 123,
   "metadata": {},
   "outputs": [
    {
     "data": {
      "text/html": [
       "<div>\n",
       "<style scoped>\n",
       "    .dataframe tbody tr th:only-of-type {\n",
       "        vertical-align: middle;\n",
       "    }\n",
       "\n",
       "    .dataframe tbody tr th {\n",
       "        vertical-align: top;\n",
       "    }\n",
       "\n",
       "    .dataframe thead th {\n",
       "        text-align: right;\n",
       "    }\n",
       "</style>\n",
       "<table border=\"1\" class=\"dataframe\">\n",
       "  <thead>\n",
       "    <tr style=\"text-align: right;\">\n",
       "      <th></th>\n",
       "      <th>x</th>\n",
       "      <th>y</th>\n",
       "      <th>label</th>\n",
       "    </tr>\n",
       "  </thead>\n",
       "  <tbody>\n",
       "    <tr>\n",
       "      <th>0</th>\n",
       "      <td>0.78051</td>\n",
       "      <td>-0.063669</td>\n",
       "      <td>1</td>\n",
       "    </tr>\n",
       "    <tr>\n",
       "      <th>1</th>\n",
       "      <td>0.28774</td>\n",
       "      <td>0.291390</td>\n",
       "      <td>1</td>\n",
       "    </tr>\n",
       "    <tr>\n",
       "      <th>2</th>\n",
       "      <td>0.40714</td>\n",
       "      <td>0.178780</td>\n",
       "      <td>1</td>\n",
       "    </tr>\n",
       "    <tr>\n",
       "      <th>3</th>\n",
       "      <td>0.29230</td>\n",
       "      <td>0.421700</td>\n",
       "      <td>1</td>\n",
       "    </tr>\n",
       "    <tr>\n",
       "      <th>4</th>\n",
       "      <td>0.50922</td>\n",
       "      <td>0.352560</td>\n",
       "      <td>1</td>\n",
       "    </tr>\n",
       "  </tbody>\n",
       "</table>\n",
       "</div>"
      ],
      "text/plain": [
       "         x         y  label\n",
       "0  0.78051 -0.063669      1\n",
       "1  0.28774  0.291390      1\n",
       "2  0.40714  0.178780      1\n",
       "3  0.29230  0.421700      1\n",
       "4  0.50922  0.352560      1"
      ]
     },
     "execution_count": 123,
     "metadata": {},
     "output_type": "execute_result"
    }
   ],
   "source": [
    "data.head()"
   ]
  },
  {
   "cell_type": "code",
   "execution_count": 124,
   "metadata": {},
   "outputs": [],
   "source": [
    "# Important to use .values to get np arrays\n",
    "X = data.iloc[:,:-1].values\n",
    "label = data.iloc[:,-1].values"
   ]
  },
  {
   "cell_type": "code",
   "execution_count": 125,
   "metadata": {},
   "outputs": [
    {
     "name": "stdout",
     "output_type": "stream",
     "text": [
      "<class 'numpy.ndarray'> (100, 2)\n",
      "<class 'numpy.ndarray'> (100,)\n"
     ]
    },
    {
     "data": {
      "text/plain": [
       "array([0.78051  , 0.28774  , 0.40714  , 0.2923   , 0.50922  , 0.27785  ,\n",
       "       0.27527  , 0.43999  , 0.33557  , 0.23448  , 0.0084492, 0.12419  ,\n",
       "       0.25644  , 0.4591   , 0.44547  , 0.42218  , 0.49563  , 0.30848  ,\n",
       "       0.39707  , 0.32945  , 0.40739  , 0.3106   , 0.49638  , 0.10073  ,\n",
       "       0.69907  , 0.29767  , 0.15099  , 0.16427  , 0.33259  , 0.53741  ,\n",
       "       0.19503  , 0.40278  , 0.21296  , 0.48447  , 0.25476  , 0.21726  ,\n",
       "       0.67078  , 0.3815   , 0.53838  , 0.4849   , 0.37095  , 0.54527  ,\n",
       "       0.32149  , 0.42216  , 0.10194  , 0.15254  , 0.45558  , 0.28488  ,\n",
       "       0.27633  , 0.39748  , 0.5533   , 0.44274  , 0.85176  , 0.60436  ,\n",
       "       0.68243  , 1.       , 0.72989  , 0.67377  , 0.78761  , 0.71442  ,\n",
       "       0.49379  , 0.78974  , 0.67905  , 0.6642   , 0.79396  , 0.70758  ,\n",
       "       0.59421  , 0.49364  , 0.77707  , 0.79785  , 0.70876  , 0.69176  ,\n",
       "       0.66408  , 0.65973  , 0.64574  , 0.89639  , 0.85476  , 0.62091  ,\n",
       "       0.79057  , 0.58935  , 0.56846  , 0.65912  , 0.70938  , 0.59154  ,\n",
       "       0.45829  , 0.79982  , 0.60974  , 0.68127  , 0.76694  , 0.69048  ,\n",
       "       0.68122  , 0.73229  , 0.76145  , 0.58985  , 0.73145  , 0.77029  ,\n",
       "       0.73156  , 0.44556  , 0.85275  , 0.51912  ])"
      ]
     },
     "execution_count": 125,
     "metadata": {},
     "output_type": "execute_result"
    }
   ],
   "source": [
    "print(type(X), X.shape)\n",
    "print(type(label), label.shape)\n",
    "X.T[0]  # It is now a row"
   ]
  },
  {
   "cell_type": "code",
   "execution_count": 150,
   "metadata": {},
   "outputs": [
    {
     "name": "stdout",
     "output_type": "stream",
     "text": [
      "X: (100, 2) labels: (100,) weights:(2, 1)\n",
      "i: 0 Weights:[0.72900717][0.77127035] b:1.074\n",
      "i: 1 Weights:[0.38596717][0.42176495] b:0.574\n",
      "i: 2 Weights:[0.04292717][0.07225955] b:0.074\n",
      "i: 3 Weights:[-0.01245533][0.01265045] b:-0.006\n",
      "i: 4 Weights:[-0.01018323][0.00201376] b:-0.006\n",
      "i: 5 Weights:[-0.00791113][-0.00862293] b:-0.006\n",
      "i: 6 Weights:[-0.00118433][-0.01474792] b:0.004\n",
      "i: 7 Weights:[-0.00383993][-0.02183402] b:0.004\n",
      "i: 8 Weights:[-0.00538993][-0.02484062] b:0.004\n",
      "i: 9 Weights:[-0.01283953][-0.02846442] b:0.004\n",
      "i: 10 Weights:[-0.00610613][-0.03072321] b:0.014\n",
      "i: 11 Weights:[-0.00761053][-0.03242671] b:0.014\n",
      "i: 12 Weights:[-0.00911493][-0.03413021] b:0.014\n",
      "i: 13 Weights:[-0.01061933][-0.03583371] b:0.014\n",
      "i: 14 Weights:[-0.01707693][-0.03948201] b:0.014\n",
      "i: 15 Weights:[-0.02023313][-0.04016481] b:0.014\n",
      "i: 16 Weights:[-0.01732843][-0.03865971] b:0.024\n",
      "i: 17 Weights:[-0.01730113][-0.04006851] b:0.024\n",
      "i: 18 Weights:[-0.01713753][-0.04194641] b:0.024\n",
      "i: 19 Weights:[-0.01697393][-0.04382431] b:0.024\n",
      "i: 20 Weights:[-0.01630913][-0.04621921] b:0.024\n",
      "i: 21 Weights:[-0.01789383][-0.05153161] b:0.024\n",
      "i: 22 Weights:[-0.02324583][-0.05110041] b:0.024\n",
      "i: 23 Weights:[-0.02954423][-0.04934161] b:0.024\n",
      "i: 24 Weights:[-0.02864083][-0.05195541] b:0.024\n"
     ]
    }
   ],
   "source": [
    "# Run the model that will return a list of (m and b)\n",
    "boundaries = trainPerceptronAlgorithm(X, label, learn_rate = 0.01, num_epochs = 25)"
   ]
  },
  {
   "cell_type": "code",
   "execution_count": 147,
   "metadata": {},
   "outputs": [
    {
     "data": {
      "text/plain": [
       "25"
      ]
     },
     "execution_count": 147,
     "metadata": {},
     "output_type": "execute_result"
    }
   ],
   "source": [
    "len(boundaries)"
   ]
  },
  {
   "cell_type": "code",
   "execution_count": 108,
   "metadata": {},
   "outputs": [
    {
     "data": {
      "text/plain": [
       "(array([-3.54852637]), array([15.10373942]))"
      ]
     },
     "execution_count": 108,
     "metadata": {},
     "output_type": "execute_result"
    }
   ],
   "source": [
    "boundaries[0]"
   ]
  },
  {
   "cell_type": "markdown",
   "metadata": {},
   "source": [
    "## Ploting the results\n",
    "Start by creating a two scatter plots with the two typs of points."
   ]
  },
  {
   "cell_type": "code",
   "execution_count": 151,
   "metadata": {},
   "outputs": [],
   "source": [
    "import matplotlib.pyplot as plt\n",
    "%matplotlib inline\n",
    "\n",
    "# Extract the x and y values from the big X matrix\n",
    "x = X.T[0]\n",
    "y = X.T[1]\n",
    "points = list(zip(x, y, label))  # Create tuples of points"
   ]
  },
  {
   "cell_type": "code",
   "execution_count": 152,
   "metadata": {},
   "outputs": [
    {
     "data": {
      "text/plain": [
       "100"
      ]
     },
     "execution_count": 152,
     "metadata": {},
     "output_type": "execute_result"
    }
   ],
   "source": [
    "# Use the conditional list comprehension to create two list of poitns\n",
    "points1 = [(n[0], n[1], n[2]) for n in points if n[2] == 1]\n",
    "points0 = [(n[0], n[1], n[2]) for n in points if n[2] == 0]\n",
    "len(points1) + len(points0)"
   ]
  },
  {
   "cell_type": "code",
   "execution_count": 153,
   "metadata": {},
   "outputs": [
    {
     "data": {
      "text/plain": [
       "Text(0, 0.5, 'y')"
      ]
     },
     "execution_count": 153,
     "metadata": {},
     "output_type": "execute_result"
    },
    {
     "data": {
      "image/png": "[encoded data removed]",
      "text/plain": [
       "<Figure size 432x288 with 1 Axes>"
      ]
     },
     "metadata": {
      "needs_background": "light"
     },
     "output_type": "display_data"
    }
   ],
   "source": [
    "x,y,z = zip(*points1)   # Un-pack the 1st set of points\n",
    "plt.scatter(x, y, color = 'blue')\n",
    "x,y,z = zip(*points0)   # Un-pack the 2nd set of points\n",
    "plt.scatter(x, y, color = 'red')\n",
    "\n",
    "# Create a set of x \n",
    "x_pred = np.arange(0, 1, .1)\n",
    "\n",
    "# Pick out the last iteration => 24, where there are two factors: m and b\n",
    "# m = - weight_0/weight_1 and b = - bias/weight_1\n",
    "m = boundaries[24][0]\n",
    "b = boundaries[24][1]\n",
    "y_pred = m * x_pred + b\n",
    "\n",
    "# Plot the line and the labels\n",
    "plt.plot(x_pred, y_pred)\n",
    "plt.title('Perceptron')\n",
    "plt.xlabel('x')\n",
    "plt.ylabel('y')"
   ]
  },
  {
   "cell_type": "code",
   "execution_count": 103,
   "metadata": {},
   "outputs": [],
   "source": [
    "m = boundaries[24]"
   ]
  },
  {
   "cell_type": "code",
   "execution_count": null,
   "metadata": {},
   "outputs": [],
   "source": []
  }
 ],
 "metadata": {
  "kernelspec": {
   "display_name": "Python 3",
   "language": "python",
   "name": "python3"
  },
  "language_info": {
   "codemirror_mode": {
    "name": "ipython",
    "version": 3
   },
   "file_extension": ".py",
   "mimetype": "text/x-python",
   "name": "python",
   "nbconvert_exporter": "python",
   "pygments_lexer": "ipython3",
   "version": "3.7.7"
  }
 },
 "nbformat": 4,
 "nbformat_minor": 4
}
