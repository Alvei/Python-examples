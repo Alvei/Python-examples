{
 "cells": [
  {
   "cell_type": "code",
   "execution_count": 1,
   "metadata": {},
   "outputs": [],
   "source": [
    "# Import statements \n",
    "from sklearn.tree import DecisionTreeClassifier\n",
    "from sklearn.metrics import accuracy_score\n",
    "import pandas as pd\n",
    "import numpy as np\n",
    "from sklearn.model_selection import train_test_split"
   ]
  },
  {
   "cell_type": "code",
   "execution_count": 2,
   "metadata": {
    "scrolled": true
   },
   "outputs": [],
   "source": [
    "data = np.asarray(pd.read_csv('data.csv', header=None))\n",
    "# Assign the features to the variable X, and the labels to the variable y. \n",
    "X = data[:,:-1]\n",
    "y = data[:,-1]"
   ]
  },
  {
   "cell_type": "code",
   "execution_count": 3,
   "metadata": {},
   "outputs": [
    {
     "data": {
      "text/plain": [
       "array([[0.24539 , 0.81725 ],\n",
       "       [0.21774 , 0.76462 ],\n",
       "       [0.20161 , 0.69737 ],\n",
       "       [0.20161 , 0.58041 ],\n",
       "       [0.2477  , 0.49561 ],\n",
       "       [0.32834 , 0.44883 ],\n",
       "       [0.39516 , 0.48099 ],\n",
       "       [0.39286 , 0.57164 ],\n",
       "       [0.33525 , 0.62135 ],\n",
       "       [0.33986 , 0.71199 ],\n",
       "       [0.34447 , 0.81433 ],\n",
       "       [0.28226 , 0.82602 ],\n",
       "       [0.26613 , 0.75    ],\n",
       "       [0.26613 , 0.63596 ],\n",
       "       [0.32604 , 0.54825 ],\n",
       "       [0.28917 , 0.65643 ],\n",
       "       [0.80069 , 0.71491 ],\n",
       "       [0.80069 , 0.64181 ],\n",
       "       [0.80069 , 0.50146 ],\n",
       "       [0.79839 , 0.36988 ],\n",
       "       [0.73157 , 0.25    ],\n",
       "       [0.63249 , 0.18275 ],\n",
       "       [0.60023 , 0.27047 ],\n",
       "       [0.66014 , 0.34649 ],\n",
       "       [0.70161 , 0.42251 ],\n",
       "       [0.70853 , 0.53947 ],\n",
       "       [0.71544 , 0.63304 ],\n",
       "       [0.74309 , 0.72076 ],\n",
       "       [0.75    , 0.63596 ],\n",
       "       [0.75    , 0.46345 ],\n",
       "       [0.72235 , 0.35526 ],\n",
       "       [0.66935 , 0.28509 ],\n",
       "       [0.20622 , 0.94298 ],\n",
       "       [0.26613 , 0.8962  ],\n",
       "       [0.38134 , 0.8962  ],\n",
       "       [0.42051 , 0.94591 ],\n",
       "       [0.49885 , 0.86404 ],\n",
       "       [0.31452 , 0.93421 ],\n",
       "       [0.53111 , 0.72076 ],\n",
       "       [0.45276 , 0.74415 ],\n",
       "       [0.53571 , 0.6038  ],\n",
       "       [0.60484 , 0.71491 ],\n",
       "       [0.60945 , 0.58333 ],\n",
       "       [0.51267 , 0.47807 ],\n",
       "       [0.50806 , 0.59211 ],\n",
       "       [0.46198 , 0.30556 ],\n",
       "       [0.5288  , 0.41082 ],\n",
       "       [0.38594 , 0.35819 ],\n",
       "       [0.31682 , 0.31433 ],\n",
       "       [0.29608 , 0.20906 ],\n",
       "       [0.36982 , 0.27632 ],\n",
       "       [0.42972 , 0.18275 ],\n",
       "       [0.51498 , 0.10965 ],\n",
       "       [0.53111 , 0.20906 ],\n",
       "       [0.59793 , 0.095029],\n",
       "       [0.73848 , 0.086257],\n",
       "       [0.83065 , 0.18275 ],\n",
       "       [0.8629  , 0.10965 ],\n",
       "       [0.88364 , 0.27924 ],\n",
       "       [0.93433 , 0.30848 ],\n",
       "       [0.93433 , 0.19444 ],\n",
       "       [0.92512 , 0.43421 ],\n",
       "       [0.87903 , 0.43421 ],\n",
       "       [0.87903 , 0.58626 ],\n",
       "       [0.9182  , 0.71491 ],\n",
       "       [0.85138 , 0.8348  ],\n",
       "       [0.85599 , 0.94006 ],\n",
       "       [0.70853 , 0.94298 ],\n",
       "       [0.70853 , 0.87281 ],\n",
       "       [0.59793 , 0.93129 ],\n",
       "       [0.61175 , 0.83187 ],\n",
       "       [0.78226 , 0.82895 ],\n",
       "       [0.78917 , 0.8962  ],\n",
       "       [0.90668 , 0.89912 ],\n",
       "       [0.14862 , 0.92251 ],\n",
       "       [0.15092 , 0.85819 ],\n",
       "       [0.097926, 0.85819 ],\n",
       "       [0.079493, 0.91374 ],\n",
       "       [0.079493, 0.77632 ],\n",
       "       [0.10945 , 0.79678 ],\n",
       "       [0.12327 , 0.67982 ],\n",
       "       [0.077189, 0.6886  ],\n",
       "       [0.081797, 0.58626 ],\n",
       "       [0.14862 , 0.58041 ],\n",
       "       [0.14862 , 0.5307  ],\n",
       "       [0.14171 , 0.41959 ],\n",
       "       [0.08871 , 0.49269 ],\n",
       "       [0.095622, 0.36696 ],\n",
       "       [0.24539 , 0.3962  ],\n",
       "       [0.1947  , 0.29678 ],\n",
       "       [0.16935 , 0.22368 ],\n",
       "       [0.15553 , 0.13596 ],\n",
       "       [0.23848 , 0.12427 ],\n",
       "       [0.33065 , 0.12427 ],\n",
       "       [0.095622, 0.2617  ],\n",
       "       [0.091014, 0.20322 ]])"
      ]
     },
     "execution_count": 3,
     "metadata": {},
     "output_type": "execute_result"
    }
   ],
   "source": [
    "X"
   ]
  },
  {
   "cell_type": "code",
   "execution_count": 60,
   "metadata": {},
   "outputs": [],
   "source": [
    "# Use train test split to split your data. Use a test size of 25% and a random state of 42\n",
    "X_train, X_test, y_train, y_test = train_test_split(X, y, test_size=0.25, random_state=42)\n",
    "\n",
    "model = DecisionTreeClassifier()     # Instantiate your decision tree model\n",
    "model.fit(X_train, y_train)          # Fit the model to the training data.\n",
    "y_pred = model.predict(X_test)       # Make predictions on the test data"
   ]
  },
  {
   "cell_type": "code",
   "execution_count": 61,
   "metadata": {},
   "outputs": [
    {
     "data": {
      "text/plain": [
       "0.9583333333333334"
      ]
     },
     "execution_count": 61,
     "metadata": {},
     "output_type": "execute_result"
    }
   ],
   "source": [
    "# Calculate the accuracy and assign it to the variable acc on the test data.\n",
    "acc = accuracy_score(y_test, y_pred)\n",
    "acc"
   ]
  },
  {
   "cell_type": "code",
   "execution_count": 62,
   "metadata": {},
   "outputs": [],
   "source": [
    "import matplotlib.pyplot as pls\n",
    "%matplotlib inline"
   ]
  },
  {
   "cell_type": "code",
   "execution_count": 63,
   "metadata": {},
   "outputs": [
    {
     "data": {
      "text/html": [
       "<div>\n",
       "<style scoped>\n",
       "    .dataframe tbody tr th:only-of-type {\n",
       "        vertical-align: middle;\n",
       "    }\n",
       "\n",
       "    .dataframe tbody tr th {\n",
       "        vertical-align: top;\n",
       "    }\n",
       "\n",
       "    .dataframe thead th {\n",
       "        text-align: right;\n",
       "    }\n",
       "</style>\n",
       "<table border=\"1\" class=\"dataframe\">\n",
       "  <thead>\n",
       "    <tr style=\"text-align: right;\">\n",
       "      <th></th>\n",
       "      <th>X1</th>\n",
       "      <th>X2</th>\n",
       "      <th>Label</th>\n",
       "    </tr>\n",
       "  </thead>\n",
       "  <tbody>\n",
       "    <tr>\n",
       "      <th>0</th>\n",
       "      <td>0.24539</td>\n",
       "      <td>0.81725</td>\n",
       "      <td>0.0</td>\n",
       "    </tr>\n",
       "    <tr>\n",
       "      <th>1</th>\n",
       "      <td>0.21774</td>\n",
       "      <td>0.76462</td>\n",
       "      <td>0.0</td>\n",
       "    </tr>\n",
       "    <tr>\n",
       "      <th>2</th>\n",
       "      <td>0.20161</td>\n",
       "      <td>0.69737</td>\n",
       "      <td>0.0</td>\n",
       "    </tr>\n",
       "    <tr>\n",
       "      <th>3</th>\n",
       "      <td>0.20161</td>\n",
       "      <td>0.58041</td>\n",
       "      <td>0.0</td>\n",
       "    </tr>\n",
       "    <tr>\n",
       "      <th>4</th>\n",
       "      <td>0.24770</td>\n",
       "      <td>0.49561</td>\n",
       "      <td>0.0</td>\n",
       "    </tr>\n",
       "  </tbody>\n",
       "</table>\n",
       "</div>"
      ],
      "text/plain": [
       "        X1       X2  Label\n",
       "0  0.24539  0.81725    0.0\n",
       "1  0.21774  0.76462    0.0\n",
       "2  0.20161  0.69737    0.0\n",
       "3  0.20161  0.58041    0.0\n",
       "4  0.24770  0.49561    0.0"
      ]
     },
     "execution_count": 63,
     "metadata": {},
     "output_type": "execute_result"
    }
   ],
   "source": [
    "df = pd.DataFrame(data, columns=['X1', 'X2', 'Label'])\n",
    "df.head()"
   ]
  },
  {
   "cell_type": "code",
   "execution_count": 64,
   "metadata": {},
   "outputs": [
    {
     "data": {
      "text/plain": [
       "pandas.core.groupby.generic.DataFrameGroupBy"
      ]
     },
     "execution_count": 64,
     "metadata": {},
     "output_type": "execute_result"
    }
   ],
   "source": [
    "groups = df.groupby(\"Label\")\n",
    "type(groups)"
   ]
  },
  {
   "cell_type": "code",
   "execution_count": 65,
   "metadata": {},
   "outputs": [
    {
     "data": {
      "text/html": [
       "<div>\n",
       "<style scoped>\n",
       "    .dataframe tbody tr th:only-of-type {\n",
       "        vertical-align: middle;\n",
       "    }\n",
       "\n",
       "    .dataframe tbody tr th {\n",
       "        vertical-align: top;\n",
       "    }\n",
       "\n",
       "    .dataframe thead th {\n",
       "        text-align: right;\n",
       "    }\n",
       "</style>\n",
       "<table border=\"1\" class=\"dataframe\">\n",
       "  <thead>\n",
       "    <tr style=\"text-align: right;\">\n",
       "      <th></th>\n",
       "      <th>X1</th>\n",
       "      <th>X2</th>\n",
       "      <th>Label</th>\n",
       "    </tr>\n",
       "  </thead>\n",
       "  <tbody>\n",
       "    <tr>\n",
       "      <th>0</th>\n",
       "      <td>0.24539</td>\n",
       "      <td>0.81725</td>\n",
       "      <td>0.0</td>\n",
       "    </tr>\n",
       "    <tr>\n",
       "      <th>1</th>\n",
       "      <td>0.21774</td>\n",
       "      <td>0.76462</td>\n",
       "      <td>0.0</td>\n",
       "    </tr>\n",
       "    <tr>\n",
       "      <th>2</th>\n",
       "      <td>0.20161</td>\n",
       "      <td>0.69737</td>\n",
       "      <td>0.0</td>\n",
       "    </tr>\n",
       "    <tr>\n",
       "      <th>3</th>\n",
       "      <td>0.20161</td>\n",
       "      <td>0.58041</td>\n",
       "      <td>0.0</td>\n",
       "    </tr>\n",
       "    <tr>\n",
       "      <th>4</th>\n",
       "      <td>0.24770</td>\n",
       "      <td>0.49561</td>\n",
       "      <td>0.0</td>\n",
       "    </tr>\n",
       "    <tr>\n",
       "      <th>32</th>\n",
       "      <td>0.20622</td>\n",
       "      <td>0.94298</td>\n",
       "      <td>1.0</td>\n",
       "    </tr>\n",
       "    <tr>\n",
       "      <th>33</th>\n",
       "      <td>0.26613</td>\n",
       "      <td>0.89620</td>\n",
       "      <td>1.0</td>\n",
       "    </tr>\n",
       "    <tr>\n",
       "      <th>34</th>\n",
       "      <td>0.38134</td>\n",
       "      <td>0.89620</td>\n",
       "      <td>1.0</td>\n",
       "    </tr>\n",
       "    <tr>\n",
       "      <th>35</th>\n",
       "      <td>0.42051</td>\n",
       "      <td>0.94591</td>\n",
       "      <td>1.0</td>\n",
       "    </tr>\n",
       "    <tr>\n",
       "      <th>36</th>\n",
       "      <td>0.49885</td>\n",
       "      <td>0.86404</td>\n",
       "      <td>1.0</td>\n",
       "    </tr>\n",
       "  </tbody>\n",
       "</table>\n",
       "</div>"
      ],
      "text/plain": [
       "         X1       X2  Label\n",
       "0   0.24539  0.81725    0.0\n",
       "1   0.21774  0.76462    0.0\n",
       "2   0.20161  0.69737    0.0\n",
       "3   0.20161  0.58041    0.0\n",
       "4   0.24770  0.49561    0.0\n",
       "32  0.20622  0.94298    1.0\n",
       "33  0.26613  0.89620    1.0\n",
       "34  0.38134  0.89620    1.0\n",
       "35  0.42051  0.94591    1.0\n",
       "36  0.49885  0.86404    1.0"
      ]
     },
     "execution_count": 65,
     "metadata": {},
     "output_type": "execute_result"
    }
   ],
   "source": [
    "groups.head()"
   ]
  },
  {
   "cell_type": "code",
   "execution_count": 66,
   "metadata": {},
   "outputs": [
    {
     "data": {
      "text/plain": [
       "<matplotlib.legend.Legend at 0x26fa7dad108>"
      ]
     },
     "execution_count": 66,
     "metadata": {},
     "output_type": "execute_result"
    },
    {
     "data": {
      "image/png": "[encoded data removed]",
      "text/plain": [
       "<Figure size 432x288 with 1 Axes>"
      ]
     },
     "metadata": {
      "needs_background": "light"
     },
     "output_type": "display_data"
    }
   ],
   "source": [
    "for name, group in groups:\n",
    "    plt.plot(group[\"X1\"], group[\"X2\"], marker=\"o\", linestyle=\"\", label=name)\n",
    "plt.xlabel('X1')\n",
    "plt.ylabel('X2')\n",
    "plt.legend()"
   ]
  },
  {
   "cell_type": "code",
   "execution_count": 67,
   "metadata": {},
   "outputs": [],
   "source": [
    "from mlxtend.plotting import plot_decision_regions"
   ]
  },
  {
   "cell_type": "code",
   "execution_count": 79,
   "metadata": {},
   "outputs": [
    {
     "name": "stderr",
     "output_type": "stream",
     "text": [
      "C:\\Anaconda\\lib\\site-packages\\mlxtend\\plotting\\decision_regions.py:249: MatplotlibDeprecationWarning: Passing unsupported keyword arguments to axis() will raise a TypeError in 3.3.\n",
      "  ax.axis(xmin=xx.min(), xmax=xx.max(), y_min=yy.min(), y_max=yy.max())\n"
     ]
    },
    {
     "data": {
      "text/plain": [
       "<matplotlib.axes._subplots.AxesSubplot at 0x26fa8097688>"
      ]
     },
     "execution_count": 79,
     "metadata": {},
     "output_type": "execute_result"
    },
    {
     "data": {
      "image/png": "[encoded data removed]",
      "text/plain": [
       "<Figure size 432x288 with 1 Axes>"
      ]
     },
     "metadata": {
      "needs_background": "light"
     },
     "output_type": "display_data"
    }
   ],
   "source": [
    "plot_decision_regions(X, y.astype(np.int), clf=model, legend=2)"
   ]
  },
  {
   "cell_type": "code",
   "execution_count": 80,
   "metadata": {},
   "outputs": [
    {
     "name": "stdout",
     "output_type": "stream",
     "text": [
      "Help on function plot_decision_regions in module mlxtend.plotting.decision_regions:\n",
      "\n",
      "plot_decision_regions(X, y, clf, feature_index=None, filler_feature_values=None, filler_feature_ranges=None, ax=None, X_highlight=None, res=None, zoom_factor=1.0, legend=1, hide_spines=True, markers='s^oxv<>', colors='#1f77b4,#ff7f0e,#3ca02c,#d62728,#9467bd,#8c564b,#e377c2,#7f7f7f,#bcbd22,#17becf', scatter_kwargs=None, contourf_kwargs=None, scatter_highlight_kwargs=None)\n",
      "    Plot decision regions of a classifier.\n",
      "    \n",
      "    Please note that this functions assumes that class labels are\n",
      "    labeled consecutively, e.g,. 0, 1, 2, 3, 4, and 5. If you have class\n",
      "    labels with integer labels > 4, you may want to provide additional colors\n",
      "    and/or markers as `colors` and `markers` arguments.\n",
      "    See http://matplotlib.org/examples/color/named_colors.html for more\n",
      "    information.\n",
      "    \n",
      "    Parameters\n",
      "    ----------\n",
      "    X : array-like, shape = [n_samples, n_features]\n",
      "        Feature Matrix.\n",
      "    y : array-like, shape = [n_samples]\n",
      "        True class labels.\n",
      "    clf : Classifier object.\n",
      "        Must have a .predict method.\n",
      "    feature_index : array-like (default: (0,) for 1D, (0, 1) otherwise)\n",
      "        Feature indices to use for plotting. The first index in\n",
      "        `feature_index` will be on the x-axis, the second index will be\n",
      "        on the y-axis.\n",
      "    filler_feature_values : dict (default: None)\n",
      "        Only needed for number features > 2. Dictionary of feature\n",
      "        index-value pairs for the features not being plotted.\n",
      "    filler_feature_ranges : dict (default: None)\n",
      "        Only needed for number features > 2. Dictionary of feature\n",
      "        index-value pairs for the features not being plotted. Will use the\n",
      "        ranges provided to select training samples for plotting.\n",
      "    ax : matplotlib.axes.Axes (default: None)\n",
      "        An existing matplotlib Axes. Creates\n",
      "        one if ax=None.\n",
      "    X_highlight : array-like, shape = [n_samples, n_features] (default: None)\n",
      "        An array with data points that are used to highlight samples in `X`.\n",
      "    res : float or array-like, shape = (2,) (default: None)\n",
      "        This parameter was used to define the grid width,\n",
      "        but it has been deprecated in favor of\n",
      "        determining the number of points given the figure DPI and size\n",
      "        automatically for optimal results and computational efficiency.\n",
      "        To increase the resolution, it's is recommended to use to provide\n",
      "        a `dpi argument via matplotlib, e.g., `plt.figure(dpi=600)`.\n",
      "    zoom_factor : float (default: 1.0)\n",
      "        Controls the scale of the x- and y-axis of the decision plot.\n",
      "    hide_spines : bool (default: True)\n",
      "        Hide axis spines if True.\n",
      "    legend : int (default: 1)\n",
      "        Integer to specify the legend location.\n",
      "        No legend if legend is 0.\n",
      "    markers : str (default: 's^oxv<>')\n",
      "        Scatterplot markers.\n",
      "    colors : str (default: 'red,blue,limegreen,gray,cyan')\n",
      "        Comma separated list of colors.\n",
      "    scatter_kwargs : dict (default: None)\n",
      "        Keyword arguments for underlying matplotlib scatter function.\n",
      "    contourf_kwargs : dict (default: None)\n",
      "        Keyword arguments for underlying matplotlib contourf function.\n",
      "    scatter_highlight_kwargs : dict (default: None)\n",
      "        Keyword arguments for underlying matplotlib scatter function.\n",
      "    \n",
      "    Returns\n",
      "    ---------\n",
      "    ax : matplotlib.axes.Axes object\n",
      "    \n",
      "    Examples\n",
      "    -----------\n",
      "    For usage examples, please see\n",
      "    http://rasbt.github.io/mlxtend/user_guide/plotting/plot_decision_regions/\n",
      "\n"
     ]
    }
   ],
   "source": [
    "help(plot_decision_regions)"
   ]
  },
  {
   "cell_type": "code",
   "execution_count": 76,
   "metadata": {},
   "outputs": [
    {
     "data": {
      "text/plain": [
       "array([0., 0., 0., 0., 0., 0., 0., 0., 0., 0., 0., 0., 0., 0., 0., 0., 0.,\n",
       "       0., 0., 0., 0., 0., 0., 0., 0., 0., 0., 0., 0., 0., 0., 0., 1., 1.,\n",
       "       1., 1., 1., 1., 1., 1., 1., 1., 1., 1., 1., 1., 1., 1., 1., 1., 1.,\n",
       "       1., 1., 1., 1., 1., 1., 1., 1., 1., 1., 1., 1., 1., 1., 1., 1., 1.,\n",
       "       1., 1., 1., 1., 1., 1., 1., 1., 1., 1., 1., 1., 1., 1., 1., 1., 1.,\n",
       "       1., 1., 1., 1., 1., 1., 1., 1., 1., 1., 1.])"
      ]
     },
     "execution_count": 76,
     "metadata": {},
     "output_type": "execute_result"
    }
   ],
   "source": [
    "y"
   ]
  },
  {
   "cell_type": "code",
   "execution_count": null,
   "metadata": {},
   "outputs": [],
   "source": []
  }
 ],
 "metadata": {
  "kernelspec": {
   "display_name": "Python 3",
   "language": "python",
   "name": "python3"
  },
  "language_info": {
   "codemirror_mode": {
    "name": "ipython",
    "version": 3
   },
   "file_extension": ".py",
   "mimetype": "text/x-python",
   "name": "python",
   "nbconvert_exporter": "python",
   "pygments_lexer": "ipython3",
   "version": "3.7.7"
  }
 },
 "nbformat": 4,
 "nbformat_minor": 4
}
