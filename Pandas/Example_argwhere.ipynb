{
 "cells": [
  {
   "cell_type": "markdown",
   "metadata": {},
   "source": [
    "#  numpy.argwhere()\n",
    "\n",
    "Numpy `argwhere()` function finds the indices of array elements that are nonzero, grouped by element. Python `np.argwhere()` is the same as `np.transpose(np.nonzero())`. The output of `argwhere()` function is not suitable for indexing arrays. For this purpose, use nonzero (a) instead.\n",
    "\n",
    "Syntax : numpy.argwhere(arr)\n",
    "\n",
    "Parameters :\n",
    "arr : [array_like] Input array.\n",
    "\n",
    "Return : [ndarray] Indices of elements that are non-zero. Indices are grouped by element."
   ]
  },
  {
   "cell_type": "code",
   "execution_count": 22,
   "metadata": {},
   "outputs": [],
   "source": [
    "import numpy as np "
   ]
  },
  {
   "cell_type": "code",
   "execution_count": 23,
   "metadata": {},
   "outputs": [
    {
     "name": "stdout",
     "output_type": "stream",
     "text": [
      "[[11, 0, 21], [0, 19, 18]]\n",
      "[[0 0]\n",
      " [0 2]\n",
      " [1 1]\n",
      " [1 2]]\n"
     ]
    }
   ],
   "source": [
    "data = [[ 11, 0, 21], [0, 19, 18]]\n",
    "print(data)\n",
    "nonZeroIndices = np.argwhere(data)\n",
    "print(nonZeroIndices)"
   ]
  },
  {
   "cell_type": "markdown",
   "metadata": {},
   "source": [
    "In the above code 11 is not zero and its index is [0, 0] means on 0 row and 0 column 11 element is there. So it returns [0 ,0]. Same for 21 element whose index is [0, 2].\n",
    "\n",
    "Same for 19 whose index is [1, 1] because not row is 1, and in that row, the column is also 1. That is why it returns [1, 1] and the same for 18 whose index is [1, 2]."
   ]
  },
  {
   "cell_type": "code",
   "execution_count": 24,
   "metadata": {},
   "outputs": [
    {
     "name": "stdout",
     "output_type": "stream",
     "text": [
      "Input array :  [[2, 0, 7], [0, 5, 9]]\n"
     ]
    }
   ],
   "source": [
    "# input array \n",
    "in_arr = [[ 2, 0, 7], [ 0, 5, 9]] \n",
    "print (\"Input array : \", in_arr)  "
   ]
  },
  {
   "cell_type": "code",
   "execution_count": 25,
   "metadata": {},
   "outputs": [
    {
     "name": "stdout",
     "output_type": "stream",
     "text": [
      "Output indices of non zero array element: \n",
      " [[0 0]\n",
      " [0 2]\n",
      " [1 1]\n",
      " [1 2]]\n"
     ]
    }
   ],
   "source": [
    "out_arr = np.argwhere(in_arr) \n",
    "print (\"Output indices of non zero array element: \\n\", out_arr) "
   ]
  },
  {
   "cell_type": "markdown",
   "metadata": {},
   "source": [
    "in the first row: [0,0] and [0,2] are non-zero\n",
    "in the 2nd row: [1,1] and [1,2] are non-zero"
   ]
  },
  {
   "cell_type": "code",
   "execution_count": 26,
   "metadata": {},
   "outputs": [
    {
     "name": "stdout",
     "output_type": "stream",
     "text": [
      "Input array :  [[0 1]\n",
      " [2 3]\n",
      " [4 5]\n",
      " [6 7]]\n"
     ]
    }
   ],
   "source": [
    "# input array \n",
    "in_arr = np.arange(8).reshape(4, 2) \n",
    "print (\"Input array : \", in_arr) "
   ]
  },
  {
   "cell_type": "code",
   "execution_count": 27,
   "metadata": {},
   "outputs": [],
   "source": [
    "out_arr = np.argwhere(in_arr>4) "
   ]
  },
  {
   "cell_type": "code",
   "execution_count": 28,
   "metadata": {},
   "outputs": [
    {
     "name": "stdout",
     "output_type": "stream",
     "text": [
      "Output indices greater than 4: \n",
      " [[2 1]\n",
      " [3 0]\n",
      " [3 1]]\n"
     ]
    }
   ],
   "source": [
    "print (\"Output indices greater than 4: \\n\", out_arr) "
   ]
  },
  {
   "cell_type": "markdown",
   "metadata": {},
   "source": [
    "Can use with an argument. There are 3 elements that are bigger than 4 and their indices are [2,1], [3,0] and [3,1]"
   ]
  },
  {
   "cell_type": "code",
   "execution_count": 29,
   "metadata": {},
   "outputs": [
    {
     "data": {
      "text/plain": [
       "array([1, 2, 3, 4])"
      ]
     },
     "execution_count": 29,
     "metadata": {},
     "output_type": "execute_result"
    }
   ],
   "source": [
    "a = np.array([[1,2], [3,4]])\n",
    "a.flatten()"
   ]
  },
  {
   "cell_type": "raw",
   "metadata": {},
   "source": [
    "print(np.argwhere(in_arr).flatten())"
   ]
  },
  {
   "cell_type": "code",
   "execution_count": null,
   "metadata": {},
   "outputs": [],
   "source": []
  }
 ],
 "metadata": {
  "kernelspec": {
   "display_name": "Python 3",
   "language": "python",
   "name": "python3"
  },
  "language_info": {
   "codemirror_mode": {
    "name": "ipython",
    "version": 3
   },
   "file_extension": ".py",
   "mimetype": "text/x-python",
   "name": "python",
   "nbconvert_exporter": "python",
   "pygments_lexer": "ipython3",
   "version": "3.7.7"
  }
 },
 "nbformat": 4,
 "nbformat_minor": 4
}
