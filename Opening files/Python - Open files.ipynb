{
 "cells": [
  {
   "cell_type": "markdown",
   "metadata": {},
   "source": [
    "# How to read and write files in Python"
   ]
  },
  {
   "cell_type": "markdown",
   "metadata": {},
   "source": [
    "## Open(filename, access_mode)\n",
    "Before reading or writing to a file you need to assign a file object with the open() function to the file you wish to open. Open() takes two arguments. The first *argument is the name of the file* to be opened. The second is the mode in which the file should be open. For example, \"r\" for read only, \"w\" write only. If nothing is specified (i.e., only the file name is included as an argument), the default is \"r\". The open() function returns the iterable file object who points to the beginning location of the file on the computer. It is important to remember to close the file using the close() method."
   ]
  },
  {
   "cell_type": "markdown",
   "metadata": {},
   "source": [
    "The file object is an iterator. An iterator is a type of Python object which behaves in certain ways when operated on repeatedly. For instance, you can use a for loop to operate on a file object repeatedly, and each time the same operation is performed, you'll receive a different, or next, result."
   ]
  },
  {
   "cell_type": "code",
   "execution_count": null,
   "metadata": {},
   "outputs": [],
   "source": [
    "file_object = open('data.txt', 'r')\n",
    "for line in file_object:             # Iterate over the iterator file_object\n",
    "    print(line)\n",
    "file_object.close()"
   ]
  },
  {
   "cell_type": "markdown",
   "metadata": {},
   "source": [
    "It is sometime efficient or elegant to use the following pattern with  **with open() as file_object** to open a file and read its content. By using this pattern, you do not need to remember to use a close() method since it will close the file once done reading."
   ]
  },
  {
   "cell_type": "code",
   "execution_count": null,
   "metadata": {},
   "outputs": [],
   "source": [
    "with open ('data.txt', 'rt') as file_oject:  \n",
    "    for line in file_object:        # Iterate over the iterator file_object\n",
    "        print(line)             "
   ]
  },
  {
   "cell_type": "markdown",
   "metadata": {},
   "source": [
    "## Reading from a files\n",
    "There are three methods to read files: read(), readline(), and readlines() that can be used depending on the context. They are attached to the file_object.\n",
    "1. **file_object.read()** method will read the **entire file** and return its content.\n",
    "2. **file_object.readline()** method will read a **line** and return its content.\n",
    "3. **file_object.readlines()** method will read all the lines and return its content in a **list of lines**.\n",
    "\n",
    "In some cases it is important to remove trailing '\\n' characters using the .strip('\\n') method.\n",
    "\n",
    "In some cases, it could be helpful to get the word in a specific string using the .split() method."
   ]
  },
  {
   "cell_type": "code",
   "execution_count": null,
   "metadata": {},
   "outputs": [],
   "source": [
    "with open ('data.txt', 'rt') as file_oject: \n",
    "    all_lines = file_object.read()  # creates one big string"
   ]
  },
  {
   "cell_type": "code",
   "execution_count": null,
   "metadata": {},
   "outputs": [],
   "source": [
    "with open ('data.txt', 'rt') as file_oject: \n",
    "    one_lines = file_object.readline()  # creates one string"
   ]
  },
  {
   "cell_type": "code",
   "execution_count": null,
   "metadata": {},
   "outputs": [],
   "source": [
    "with open ('data.txt', 'rt') as file_oject: \n",
    "    list_lines = file_object.readlines()  # creates a list\n",
    "    for line in list_lines:\n",
    "        line = line.strip('\\n')  # removes the extra return character\n",
    "        words = line.split()     # creates a list of words from the line string"
   ]
  },
  {
   "cell_type": "markdown",
   "metadata": {},
   "source": [
    "## Writing to a files\n",
    "There are two methods to write to a file.\n",
    "1. **write(string)** method writes one lines at a time.\n",
    "2. **writelines(list)** method writes multiple lines from a list in one statement.\n",
    "\n",
    "Note that “string” in write() does not have a new line character “\\n”. One needs to be added as seen below."
   ]
  },
  {
   "cell_type": "code",
   "execution_count": null,
   "metadata": {},
   "outputs": [],
   "source": [
    "file_object = open(\"myOutFile.txt\", \"w\")\n",
    "textList = [\"string1\", \"string2\", \"string3\"]\n",
    "for line in textList:\n",
    "  # write line to output file\n",
    "  file_object.write(line)\n",
    "  file_object.write(\"\\n\")\n",
    "file_object.close()"
   ]
  },
  {
   "cell_type": "markdown",
   "metadata": {},
   "source": [
    "## Closing a file\n",
    "\n",
    "It is important to always close the file object. It is done automatically when using \"with open() as file_object:\" but otherwise you simply need to use the close method.\n",
    "\n",
    "    file_object.close()"
   ]
  },
  {
   "cell_type": "code",
   "execution_count": null,
   "metadata": {},
   "outputs": [],
   "source": []
  }
 ],
 "metadata": {
  "kernelspec": {
   "display_name": "Python 3",
   "language": "python",
   "name": "python3"
  },
  "language_info": {
   "codemirror_mode": {
    "name": "ipython",
    "version": 3
   },
   "file_extension": ".py",
   "mimetype": "text/x-python",
   "name": "python",
   "nbconvert_exporter": "python",
   "pygments_lexer": "ipython3",
   "version": "3.6.4"
  }
 },
 "nbformat": 4,
 "nbformat_minor": 2
}
