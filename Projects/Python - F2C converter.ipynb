{
 "cells": [
  {
   "cell_type": "markdown",
   "metadata": {},
   "source": [
    "# Convert Fahrenheit to Celsius\n",
    "The calculation for the temperature conversion is straightforward and references can be found all over the place.\n",
    "Celsius and Fahrenheit have different zero points – 0 degrees Celsius is 32 degrees Fahrenheit – so we need to subtract\n",
    "32 from the Fahrenheit temperature.\n",
    "The size of the units are also different. Celsius divides the temperature span between the freezing and boiling points\n",
    "of water into 100 degrees, while Fahrenheit divides this range into 180 degrees, so we need to multiply the value by\n",
    "5/9 to turn 180 degrees into 100."
   ]
  },
  {
   "cell_type": "code",
   "execution_count": 6,
   "metadata": {},
   "outputs": [],
   "source": [
    "import sys\n",
    "\n",
    "def convert_f2c(S):\n",
    "    \"\"\" Converts a Fahrenheit temperature represented as a string to a Celsius temperature. \n",
    "        Signature (str) -> float \"\"\"\n",
    "    try:\n",
    "        fahrenheit = float(S)\n",
    "    except ValueError:\n",
    "        # {!r} means repr and it will show quotes around S\n",
    "        print(\"{!r} is not a numeric value\".format(S), file = sys.stderr)\n",
    "    else:\n",
    "        celsius = (fahrenheit - 32) * 5 / 9\n",
    "        # \\N{DEGREE SIGN} makes a degree sign\n",
    "        print('{}\\N{DEGREE SIGN}F = {:g}\\N{DEGREE SIGN}C'.format(S, round(celsius, 0)))\n",
    "    \n",
    "    return celsius"
   ]
  },
  {
   "cell_type": "code",
   "execution_count": 10,
   "metadata": {},
   "outputs": [
    {
     "name": "stdout",
     "output_type": "stream",
     "text": [
      "32°F = 0°C\n"
     ]
    },
    {
     "data": {
      "text/plain": [
       "0.0"
      ]
     },
     "execution_count": 10,
     "metadata": {},
     "output_type": "execute_result"
    }
   ],
   "source": [
    "convert_f2c('32')"
   ]
  },
  {
   "cell_type": "markdown",
   "metadata": {},
   "source": [
    "Create a simple function to find the maximum of a list of integers or floats."
   ]
  },
  {
   "cell_type": "code",
   "execution_count": 20,
   "metadata": {},
   "outputs": [],
   "source": [
    "def find_max(my_list):\n",
    "    \"\"\" Simple function to find the max of a list. \n",
    "        Signature (list) -> int/float \"\"\"\n",
    "    max = 0\n",
    "    for element in my_list:\n",
    "        if element > max:\n",
    "            max = element\n",
    "    return max"
   ]
  },
  {
   "cell_type": "code",
   "execution_count": 21,
   "metadata": {},
   "outputs": [
    {
     "data": {
      "text/plain": [
       "10"
      ]
     },
     "execution_count": 21,
     "metadata": {},
     "output_type": "execute_result"
    }
   ],
   "source": [
    "find_max( [10,2,3])"
   ]
  },
  {
   "cell_type": "markdown",
   "metadata": {},
   "source": [
    "However, this simple function will crash if the elements of a list is not an integer or float. One way to make the function more robust is to use the assert statement."
   ]
  },
  {
   "cell_type": "code",
   "execution_count": 29,
   "metadata": {},
   "outputs": [],
   "source": [
    "def find_max(my_list):\n",
    "    \"\"\" Simple function to find the max of a list. \n",
    "        Signature (list) -> int/float \"\"\"\n",
    "    max = 0\n",
    "    for element in my_list:\n",
    "        assert (type(element) == int or type(element) == float)\n",
    "        \n",
    "        if element > max:\n",
    "            max = element\n",
    "    return max"
   ]
  },
  {
   "cell_type": "code",
   "execution_count": 30,
   "metadata": {},
   "outputs": [
    {
     "ename": "AssertionError",
     "evalue": "",
     "output_type": "error",
     "traceback": [
      "\u001b[1;31m---------------------------------------------------------------------------\u001b[0m",
      "\u001b[1;31mAssertionError\u001b[0m                            Traceback (most recent call last)",
      "\u001b[1;32m<ipython-input-30-f3827d259481>\u001b[0m in \u001b[0;36m<module>\u001b[1;34m()\u001b[0m\n\u001b[1;32m----> 1\u001b[1;33m \u001b[0mfind_max\u001b[0m\u001b[1;33m(\u001b[0m \u001b[1;33m[\u001b[0m\u001b[1;34m'a'\u001b[0m\u001b[1;33m,\u001b[0m\u001b[1;36m2\u001b[0m\u001b[1;33m,\u001b[0m\u001b[1;36m3\u001b[0m\u001b[1;33m]\u001b[0m\u001b[1;33m)\u001b[0m\u001b[1;33m\u001b[0m\u001b[0m\n\u001b[0m",
      "\u001b[1;32m<ipython-input-29-fac78b9a4b9c>\u001b[0m in \u001b[0;36mfind_max\u001b[1;34m(my_list)\u001b[0m\n\u001b[0;32m      4\u001b[0m     \u001b[0mmax\u001b[0m \u001b[1;33m=\u001b[0m \u001b[1;36m0\u001b[0m\u001b[1;33m\u001b[0m\u001b[0m\n\u001b[0;32m      5\u001b[0m     \u001b[1;32mfor\u001b[0m \u001b[0melement\u001b[0m \u001b[1;32min\u001b[0m \u001b[0mmy_list\u001b[0m\u001b[1;33m:\u001b[0m\u001b[1;33m\u001b[0m\u001b[0m\n\u001b[1;32m----> 6\u001b[1;33m         \u001b[1;32massert\u001b[0m \u001b[1;33m(\u001b[0m\u001b[0mtype\u001b[0m\u001b[1;33m(\u001b[0m\u001b[0melement\u001b[0m\u001b[1;33m)\u001b[0m \u001b[1;33m==\u001b[0m \u001b[0mint\u001b[0m \u001b[1;32mor\u001b[0m \u001b[0mtype\u001b[0m\u001b[1;33m(\u001b[0m\u001b[0melement\u001b[0m\u001b[1;33m)\u001b[0m \u001b[1;33m==\u001b[0m \u001b[0mfloat\u001b[0m\u001b[1;33m)\u001b[0m\u001b[1;33m\u001b[0m\u001b[0m\n\u001b[0m\u001b[0;32m      7\u001b[0m \u001b[1;33m\u001b[0m\u001b[0m\n\u001b[0;32m      8\u001b[0m         \u001b[1;32mif\u001b[0m \u001b[0melement\u001b[0m \u001b[1;33m>\u001b[0m \u001b[0mmax\u001b[0m\u001b[1;33m:\u001b[0m\u001b[1;33m\u001b[0m\u001b[0m\n",
      "\u001b[1;31mAssertionError\u001b[0m: "
     ]
    }
   ],
   "source": [
    "find_max( ['a',2,3])"
   ]
  },
  {
   "cell_type": "markdown",
   "metadata": {},
   "source": [
    "This code will gracefuly stop because the assertion is not correct.\n",
    "Another way to make the code even more robust is to use exceptions. By using the try/except pattern, you can specify the type of error (in this case a TypeError) and print a more informative error message."
   ]
  },
  {
   "cell_type": "code",
   "execution_count": 33,
   "metadata": {},
   "outputs": [],
   "source": [
    "def find_max(my_list):\n",
    "    \"\"\" Simple function to find the max of a list. \n",
    "        Signature (list) -> int/float \"\"\"\n",
    "    max = 0\n",
    "    for element in my_list:\n",
    "        try:        \n",
    "            if element > max:\n",
    "                max = element\n",
    "        except TypeError :\n",
    "            print(\"*** Type Error: The list must contain integers or floats only.\")\n",
    "    return max"
   ]
  },
  {
   "cell_type": "code",
   "execution_count": 34,
   "metadata": {},
   "outputs": [
    {
     "name": "stdout",
     "output_type": "stream",
     "text": [
      "*** Type Error: The list must contain integers or floats only.\n"
     ]
    },
    {
     "data": {
      "text/plain": [
       "3"
      ]
     },
     "execution_count": 34,
     "metadata": {},
     "output_type": "execute_result"
    }
   ],
   "source": [
    "find_max( ['a',2,3])"
   ]
  },
  {
   "cell_type": "code",
   "execution_count": 67,
   "metadata": {},
   "outputs": [],
   "source": [
    "def manual_sort(my_list):\n",
    "    \"\"\" Simple function to find the sort a list. \n",
    "        Signature (list) -> list \"\"\"\n",
    "    \n",
    "    assert my_list == type(list)\n",
    "    \n",
    "    for startingIndex in range(len(my_list)):\n",
    "        #print(\" i = \", startingIndex, L)\n",
    "        \n",
    "        minElementIndex = indexOfMin(L, startingIndex)\n",
    "        #Swap the element in the current iteration with the minElement\n",
    "        \n",
    "        swap(L, startingIndex, minElementIndex)\n",
    "    \n",
    "    return new_list"
   ]
  },
  {
   "cell_type": "code",
   "execution_count": 68,
   "metadata": {},
   "outputs": [
    {
     "name": "stdout",
     "output_type": "stream",
     "text": [
      "Index Error: The index is 3 when element is 1\n"
     ]
    },
    {
     "data": {
      "text/plain": [
       "[3, 2, 4]"
      ]
     },
     "execution_count": 68,
     "metadata": {},
     "output_type": "execute_result"
    }
   ],
   "source": [
    "manual_sort([3,4,2,1])"
   ]
  },
  {
   "cell_type": "code",
   "execution_count": null,
   "metadata": {},
   "outputs": [],
   "source": []
  }
 ],
 "metadata": {
  "kernelspec": {
   "display_name": "Python 3",
   "language": "python",
   "name": "python3"
  },
  "language_info": {
   "codemirror_mode": {
    "name": "ipython",
    "version": 3
   },
   "file_extension": ".py",
   "mimetype": "text/x-python",
   "name": "python",
   "nbconvert_exporter": "python",
   "pygments_lexer": "ipython3",
   "version": "3.6.4"
  }
 },
 "nbformat": 4,
 "nbformat_minor": 2
}
